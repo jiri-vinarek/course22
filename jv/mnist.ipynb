{
 "cells": [
  {
   "cell_type": "code",
   "execution_count": 1,
   "id": "e504dd24",
   "metadata": {},
   "outputs": [],
   "source": [
    "from fastai.basics import *\n",
    "\n",
    "path = untar_data(URLs.MNIST_SAMPLE)"
   ]
  },
  {
   "cell_type": "code",
   "execution_count": 2,
   "id": "6b2f4c9a",
   "metadata": {},
   "outputs": [
    {
     "data": {
      "text/plain": [
       "(#3) [Path('/home/jvinarek/.fastai/data/mnist_sample/valid'),Path('/home/jvinarek/.fastai/data/mnist_sample/train'),Path('/home/jvinarek/.fastai/data/mnist_sample/labels.csv')]"
      ]
     },
     "execution_count": 2,
     "metadata": {},
     "output_type": "execute_result"
    }
   ],
   "source": [
    "path.ls()"
   ]
  },
  {
   "cell_type": "code",
   "execution_count": 3,
   "id": "7f374596",
   "metadata": {},
   "outputs": [
    {
     "data": {
      "text/plain": [
       "(#2) [Path('/home/jvinarek/.fastai/data/mnist_sample/train/3'),Path('/home/jvinarek/.fastai/data/mnist_sample/train/7')]"
      ]
     },
     "execution_count": 3,
     "metadata": {},
     "output_type": "execute_result"
    }
   ],
   "source": [
    "(path/'train').ls()"
   ]
  },
  {
   "cell_type": "code",
   "execution_count": 4,
   "id": "a4b99222",
   "metadata": {},
   "outputs": [
    {
     "data": {
      "text/plain": [
       "(#6131) [Path('/home/jvinarek/.fastai/data/mnist_sample/train/3/10.png'),Path('/home/jvinarek/.fastai/data/mnist_sample/train/3/10000.png'),Path('/home/jvinarek/.fastai/data/mnist_sample/train/3/10011.png'),Path('/home/jvinarek/.fastai/data/mnist_sample/train/3/10031.png'),Path('/home/jvinarek/.fastai/data/mnist_sample/train/3/10034.png'),Path('/home/jvinarek/.fastai/data/mnist_sample/train/3/10042.png'),Path('/home/jvinarek/.fastai/data/mnist_sample/train/3/10052.png'),Path('/home/jvinarek/.fastai/data/mnist_sample/train/3/1007.png'),Path('/home/jvinarek/.fastai/data/mnist_sample/train/3/10074.png'),Path('/home/jvinarek/.fastai/data/mnist_sample/train/3/10091.png')...]"
      ]
     },
     "execution_count": 4,
     "metadata": {},
     "output_type": "execute_result"
    }
   ],
   "source": [
    "threes = (path/'train'/'3').ls().sorted()\n",
    "sevens = (path/'train'/'7').ls().sorted()\n",
    "threes"
   ]
  },
  {
   "cell_type": "code",
   "execution_count": 5,
   "id": "e417361e",
   "metadata": {},
   "outputs": [
    {
     "data": {
      "image/png": "[encoded data removed]",
      "text/plain": [
       "<PIL.PngImagePlugin.PngImageFile image mode=L size=28x28>"
      ]
     },
     "execution_count": 5,
     "metadata": {},
     "output_type": "execute_result"
    }
   ],
   "source": [
    "from fastai.vision.all import *\n",
    "\n",
    "im3_path = threes[1]\n",
    "im3 = Image.open(im3_path)\n",
    "im3"
   ]
  },
  {
   "cell_type": "code",
   "execution_count": 6,
   "id": "92122332",
   "metadata": {},
   "outputs": [
    {
     "data": {
      "text/plain": [
       "array([[  0,   0,   0,   0,   0,   0],\n",
       "       [  0,   0,   0,   0,   0,  29],\n",
       "       [  0,   0,   0,  48, 166, 224],\n",
       "       [  0,  93, 244, 249, 253, 187],\n",
       "       [  0, 107, 253, 253, 230,  48],\n",
       "       [  0,   3,  20,  20,  15,   0]], dtype=uint8)"
      ]
     },
     "execution_count": 6,
     "metadata": {},
     "output_type": "execute_result"
    }
   ],
   "source": [
    "array(im3)[4:10, 4:10]"
   ]
  },
  {
   "cell_type": "code",
   "execution_count": 7,
   "id": "faa86dfd",
   "metadata": {},
   "outputs": [
    {
     "data": {
      "text/plain": [
       "tensor([[  0,   0,   0,   0,   0,   0],\n",
       "        [  0,   0,   0,   0,   0,  29],\n",
       "        [  0,   0,   0,  48, 166, 224],\n",
       "        [  0,  93, 244, 249, 253, 187],\n",
       "        [  0, 107, 253, 253, 230,  48],\n",
       "        [  0,   3,  20,  20,  15,   0]], dtype=torch.uint8)"
      ]
     },
     "execution_count": 7,
     "metadata": {},
     "output_type": "execute_result"
    }
   ],
   "source": [
    "tensor(im3)[4:10, 4:10]"
   ]
  },
  {
   "cell_type": "code",
   "execution_count": 8,
   "id": "8a1bbbd5",
   "metadata": {},
   "outputs": [
    {
     "data": {
      "text/html": [
       "<style type=\"text/css\">\n",
       "#T_1ef35_row0_col0, #T_1ef35_row0_col1, #T_1ef35_row0_col2, #T_1ef35_row0_col3, #T_1ef35_row0_col4, #T_1ef35_row0_col5, #T_1ef35_row0_col6, #T_1ef35_row0_col7, #T_1ef35_row0_col8, #T_1ef35_row0_col9, #T_1ef35_row0_col10, #T_1ef35_row0_col11, #T_1ef35_row0_col12, #T_1ef35_row0_col13, #T_1ef35_row0_col14, #T_1ef35_row0_col15, #T_1ef35_row0_col16, #T_1ef35_row0_col17, #T_1ef35_row1_col0, #T_1ef35_row1_col1, #T_1ef35_row1_col2, #T_1ef35_row1_col3, #T_1ef35_row1_col4, #T_1ef35_row1_col15, #T_1ef35_row1_col16, #T_1ef35_row1_col17, #T_1ef35_row2_col0, #T_1ef35_row2_col1, #T_1ef35_row2_col2, #T_1ef35_row2_col15, #T_1ef35_row2_col16, #T_1ef35_row2_col17, #T_1ef35_row3_col0, #T_1ef35_row3_col15, #T_1ef35_row3_col16, #T_1ef35_row3_col17, #T_1ef35_row4_col0, #T_1ef35_row4_col6, #T_1ef35_row4_col7, #T_1ef35_row4_col8, #T_1ef35_row4_col9, #T_1ef35_row4_col10, #T_1ef35_row4_col15, #T_1ef35_row4_col16, #T_1ef35_row4_col17, #T_1ef35_row5_col0, #T_1ef35_row5_col5, #T_1ef35_row5_col6, #T_1ef35_row5_col7, #T_1ef35_row5_col8, #T_1ef35_row5_col9, #T_1ef35_row5_col15, #T_1ef35_row5_col16, #T_1ef35_row5_col17, #T_1ef35_row6_col0, #T_1ef35_row6_col1, #T_1ef35_row6_col2, #T_1ef35_row6_col3, #T_1ef35_row6_col4, #T_1ef35_row6_col5, #T_1ef35_row6_col6, #T_1ef35_row6_col7, #T_1ef35_row6_col8, #T_1ef35_row6_col9, #T_1ef35_row6_col14, #T_1ef35_row6_col15, #T_1ef35_row6_col16, #T_1ef35_row6_col17, #T_1ef35_row7_col0, #T_1ef35_row7_col1, #T_1ef35_row7_col2, #T_1ef35_row7_col3, #T_1ef35_row7_col4, #T_1ef35_row7_col5, #T_1ef35_row7_col6, #T_1ef35_row7_col13, #T_1ef35_row7_col14, #T_1ef35_row7_col15, #T_1ef35_row7_col16, #T_1ef35_row7_col17, #T_1ef35_row8_col0, #T_1ef35_row8_col1, #T_1ef35_row8_col2, #T_1ef35_row8_col3, #T_1ef35_row8_col4, #T_1ef35_row8_col13, #T_1ef35_row8_col14, #T_1ef35_row8_col15, #T_1ef35_row8_col16, #T_1ef35_row8_col17, #T_1ef35_row9_col0, #T_1ef35_row9_col1, #T_1ef35_row9_col2, #T_1ef35_row9_col3, #T_1ef35_row9_col4, #T_1ef35_row9_col16, #T_1ef35_row9_col17, #T_1ef35_row10_col0, #T_1ef35_row10_col1, #T_1ef35_row10_col2, #T_1ef35_row10_col3, #T_1ef35_row10_col4, #T_1ef35_row10_col5, #T_1ef35_row10_col6, #T_1ef35_row10_col17, #T_1ef35_row11_col0, #T_1ef35_row11_col1, #T_1ef35_row11_col2, #T_1ef35_row11_col3, #T_1ef35_row11_col4, #T_1ef35_row11_col5, #T_1ef35_row11_col6, #T_1ef35_row11_col7, #T_1ef35_row11_col8, #T_1ef35_row11_col9, #T_1ef35_row11_col17, #T_1ef35_row12_col0, #T_1ef35_row12_col1, #T_1ef35_row12_col2, #T_1ef35_row12_col3, #T_1ef35_row12_col4, #T_1ef35_row12_col5, #T_1ef35_row12_col6, #T_1ef35_row12_col7, #T_1ef35_row12_col8, #T_1ef35_row12_col9, #T_1ef35_row12_col10, #T_1ef35_row12_col11, #T_1ef35_row12_col12, #T_1ef35_row12_col17, #T_1ef35_row13_col0, #T_1ef35_row13_col1, #T_1ef35_row13_col2, #T_1ef35_row13_col3, #T_1ef35_row13_col4, #T_1ef35_row13_col5, #T_1ef35_row13_col6, #T_1ef35_row13_col7, #T_1ef35_row13_col8, #T_1ef35_row13_col9, #T_1ef35_row13_col10, #T_1ef35_row13_col11, #T_1ef35_row13_col12, #T_1ef35_row13_col17, #T_1ef35_row14_col0, #T_1ef35_row14_col1, #T_1ef35_row14_col2, #T_1ef35_row14_col3, #T_1ef35_row14_col4, #T_1ef35_row14_col5, #T_1ef35_row14_col6, #T_1ef35_row14_col7, #T_1ef35_row14_col8, #T_1ef35_row14_col9, #T_1ef35_row14_col10, #T_1ef35_row14_col11, #T_1ef35_row14_col17, #T_1ef35_row15_col0, #T_1ef35_row15_col1, #T_1ef35_row15_col2, #T_1ef35_row15_col3, #T_1ef35_row15_col4, #T_1ef35_row15_col5, #T_1ef35_row15_col6, #T_1ef35_row15_col7, #T_1ef35_row15_col8, #T_1ef35_row15_col9, #T_1ef35_row15_col10, #T_1ef35_row15_col17, #T_1ef35_row16_col0, #T_1ef35_row16_col1, #T_1ef35_row16_col2, #T_1ef35_row16_col3, #T_1ef35_row16_col4, #T_1ef35_row16_col5, #T_1ef35_row16_col6, #T_1ef35_row16_col7, #T_1ef35_row16_col8, #T_1ef35_row16_col9, #T_1ef35_row16_col16, #T_1ef35_row16_col17, #T_1ef35_row17_col0, #T_1ef35_row17_col1, #T_1ef35_row17_col2, #T_1ef35_row17_col3, #T_1ef35_row17_col4, #T_1ef35_row17_col5, #T_1ef35_row17_col6, #T_1ef35_row17_col7, #T_1ef35_row17_col15, #T_1ef35_row17_col16, #T_1ef35_row17_col17, #T_1ef35_row18_col0, #T_1ef35_row18_col1, #T_1ef35_row18_col14, #T_1ef35_row18_col15, #T_1ef35_row18_col16, #T_1ef35_row18_col17, #T_1ef35_row19_col0, #T_1ef35_row19_col1, #T_1ef35_row19_col12, #T_1ef35_row19_col13, #T_1ef35_row19_col14, #T_1ef35_row19_col15, #T_1ef35_row19_col16, #T_1ef35_row19_col17, #T_1ef35_row20_col0, #T_1ef35_row20_col1, #T_1ef35_row20_col10, #T_1ef35_row20_col11, #T_1ef35_row20_col12, #T_1ef35_row20_col13, #T_1ef35_row20_col14, #T_1ef35_row20_col15, #T_1ef35_row20_col16, #T_1ef35_row20_col17, #T_1ef35_row21_col0, #T_1ef35_row21_col1, #T_1ef35_row21_col2, #T_1ef35_row21_col3, #T_1ef35_row21_col4, #T_1ef35_row21_col5, #T_1ef35_row21_col6, #T_1ef35_row21_col7, #T_1ef35_row21_col8, #T_1ef35_row21_col9, #T_1ef35_row21_col10, #T_1ef35_row21_col11, #T_1ef35_row21_col12, #T_1ef35_row21_col13, #T_1ef35_row21_col14, #T_1ef35_row21_col15, #T_1ef35_row21_col16, #T_1ef35_row21_col17, #T_1ef35_row22_col0, #T_1ef35_row22_col1, #T_1ef35_row22_col2, #T_1ef35_row22_col3, #T_1ef35_row22_col4, #T_1ef35_row22_col5, #T_1ef35_row22_col6, #T_1ef35_row22_col7, #T_1ef35_row22_col8, #T_1ef35_row22_col9, #T_1ef35_row22_col10, #T_1ef35_row22_col11, #T_1ef35_row22_col12, #T_1ef35_row22_col13, #T_1ef35_row22_col14, #T_1ef35_row22_col15, #T_1ef35_row22_col16, #T_1ef35_row22_col17, #T_1ef35_row23_col0, #T_1ef35_row23_col1, #T_1ef35_row23_col2, #T_1ef35_row23_col3, #T_1ef35_row23_col4, #T_1ef35_row23_col5, #T_1ef35_row23_col6, #T_1ef35_row23_col7, #T_1ef35_row23_col8, #T_1ef35_row23_col9, #T_1ef35_row23_col10, #T_1ef35_row23_col11, #T_1ef35_row23_col12, #T_1ef35_row23_col13, #T_1ef35_row23_col14, #T_1ef35_row23_col15, #T_1ef35_row23_col16, #T_1ef35_row23_col17 {\n",
       "  font-size: 6pt;\n",
       "  background-color: #ffffff;\n",
       "  color: #000000;\n",
       "}\n",
       "#T_1ef35_row1_col5, #T_1ef35_row8_col12 {\n",
       "  font-size: 6pt;\n",
       "  background-color: #f1f1f1;\n",
       "  color: #000000;\n",
       "}\n",
       "#T_1ef35_row1_col6, #T_1ef35_row1_col13 {\n",
       "  font-size: 6pt;\n",
       "  background-color: #7c7c7c;\n",
       "  color: #f1f1f1;\n",
       "}\n",
       "#T_1ef35_row1_col7 {\n",
       "  font-size: 6pt;\n",
       "  background-color: #4a4a4a;\n",
       "  color: #f1f1f1;\n",
       "}\n",
       "#T_1ef35_row1_col8, #T_1ef35_row1_col9, #T_1ef35_row1_col10, #T_1ef35_row2_col6, #T_1ef35_row2_col7, #T_1ef35_row2_col11, #T_1ef35_row2_col12, #T_1ef35_row2_col13, #T_1ef35_row3_col4, #T_1ef35_row3_col12, #T_1ef35_row3_col13, #T_1ef35_row4_col1, #T_1ef35_row4_col2, #T_1ef35_row4_col3, #T_1ef35_row4_col12, #T_1ef35_row4_col13, #T_1ef35_row5_col12, #T_1ef35_row6_col11, #T_1ef35_row9_col11, #T_1ef35_row10_col11, #T_1ef35_row10_col12, #T_1ef35_row10_col13, #T_1ef35_row10_col14, #T_1ef35_row11_col13, #T_1ef35_row11_col14, #T_1ef35_row11_col15, #T_1ef35_row12_col14, #T_1ef35_row12_col15, #T_1ef35_row12_col16, #T_1ef35_row13_col14, #T_1ef35_row13_col15, #T_1ef35_row14_col14, #T_1ef35_row14_col15, #T_1ef35_row15_col13, #T_1ef35_row15_col14, #T_1ef35_row16_col12, #T_1ef35_row16_col13, #T_1ef35_row17_col11, #T_1ef35_row17_col12, #T_1ef35_row19_col3, #T_1ef35_row19_col4, #T_1ef35_row19_col5, #T_1ef35_row19_col6, #T_1ef35_row19_col7, #T_1ef35_row20_col3, #T_1ef35_row20_col4, #T_1ef35_row20_col5, #T_1ef35_row20_col6, #T_1ef35_row20_col7 {\n",
       "  font-size: 6pt;\n",
       "  background-color: #000000;\n",
       "  color: #f1f1f1;\n",
       "}\n",
       "#T_1ef35_row1_col11 {\n",
       "  font-size: 6pt;\n",
       "  background-color: #606060;\n",
       "  color: #f1f1f1;\n",
       "}\n",
       "#T_1ef35_row1_col12 {\n",
       "  font-size: 6pt;\n",
       "  background-color: #4d4d4d;\n",
       "  color: #f1f1f1;\n",
       "}\n",
       "#T_1ef35_row1_col14 {\n",
       "  font-size: 6pt;\n",
       "  background-color: #bbbbbb;\n",
       "  color: #000000;\n",
       "}\n",
       "#T_1ef35_row2_col3, #T_1ef35_row4_col5 {\n",
       "  font-size: 6pt;\n",
       "  background-color: #e4e4e4;\n",
       "  color: #000000;\n",
       "}\n",
       "#T_1ef35_row2_col4, #T_1ef35_row8_col6 {\n",
       "  font-size: 6pt;\n",
       "  background-color: #6b6b6b;\n",
       "  color: #f1f1f1;\n",
       "}\n",
       "#T_1ef35_row2_col5, #T_1ef35_row5_col11 {\n",
       "  font-size: 6pt;\n",
       "  background-color: #222222;\n",
       "  color: #f1f1f1;\n",
       "}\n",
       "#T_1ef35_row2_col8, #T_1ef35_row2_col14, #T_1ef35_row3_col14, #T_1ef35_row17_col13 {\n",
       "  font-size: 6pt;\n",
       "  background-color: #171717;\n",
       "  color: #f1f1f1;\n",
       "}\n",
       "#T_1ef35_row2_col9, #T_1ef35_row3_col11 {\n",
       "  font-size: 6pt;\n",
       "  background-color: #4b4b4b;\n",
       "  color: #f1f1f1;\n",
       "}\n",
       "#T_1ef35_row2_col10, #T_1ef35_row7_col10, #T_1ef35_row8_col8, #T_1ef35_row8_col10, #T_1ef35_row9_col8, #T_1ef35_row9_col10, #T_1ef35_row18_col10, #T_1ef35_row19_col8 {\n",
       "  font-size: 6pt;\n",
       "  background-color: #010101;\n",
       "  color: #f1f1f1;\n",
       "}\n",
       "#T_1ef35_row3_col1 {\n",
       "  font-size: 6pt;\n",
       "  background-color: #272727;\n",
       "  color: #f1f1f1;\n",
       "}\n",
       "#T_1ef35_row3_col2 {\n",
       "  font-size: 6pt;\n",
       "  background-color: #0a0a0a;\n",
       "  color: #f1f1f1;\n",
       "}\n",
       "#T_1ef35_row3_col3, #T_1ef35_row14_col13 {\n",
       "  font-size: 6pt;\n",
       "  background-color: #050505;\n",
       "  color: #f1f1f1;\n",
       "}\n",
       "#T_1ef35_row3_col5, #T_1ef35_row8_col11, #T_1ef35_row10_col15, #T_1ef35_row19_col2 {\n",
       "  font-size: 6pt;\n",
       "  background-color: #545454;\n",
       "  color: #f1f1f1;\n",
       "}\n",
       "#T_1ef35_row3_col6 {\n",
       "  font-size: 6pt;\n",
       "  background-color: #e6e6e6;\n",
       "  color: #000000;\n",
       "}\n",
       "#T_1ef35_row3_col7, #T_1ef35_row3_col10, #T_1ef35_row8_col5 {\n",
       "  font-size: 6pt;\n",
       "  background-color: #fafafa;\n",
       "  color: #000000;\n",
       "}\n",
       "#T_1ef35_row3_col8, #T_1ef35_row11_col10, #T_1ef35_row16_col15 {\n",
       "  font-size: 6pt;\n",
       "  background-color: #fbfbfb;\n",
       "  color: #000000;\n",
       "}\n",
       "#T_1ef35_row3_col9 {\n",
       "  font-size: 6pt;\n",
       "  background-color: #fdfdfd;\n",
       "  color: #000000;\n",
       "}\n",
       "#T_1ef35_row4_col4 {\n",
       "  font-size: 6pt;\n",
       "  background-color: #1b1b1b;\n",
       "  color: #f1f1f1;\n",
       "}\n",
       "#T_1ef35_row4_col11 {\n",
       "  font-size: 6pt;\n",
       "  background-color: #4e4e4e;\n",
       "  color: #f1f1f1;\n",
       "}\n",
       "#T_1ef35_row4_col14 {\n",
       "  font-size: 6pt;\n",
       "  background-color: #767676;\n",
       "  color: #f1f1f1;\n",
       "}\n",
       "#T_1ef35_row5_col1 {\n",
       "  font-size: 6pt;\n",
       "  background-color: #fcfcfc;\n",
       "  color: #000000;\n",
       "}\n",
       "#T_1ef35_row5_col2, #T_1ef35_row5_col3, #T_1ef35_row15_col16 {\n",
       "  font-size: 6pt;\n",
       "  background-color: #f6f6f6;\n",
       "  color: #000000;\n",
       "}\n",
       "#T_1ef35_row5_col4, #T_1ef35_row7_col7 {\n",
       "  font-size: 6pt;\n",
       "  background-color: #f8f8f8;\n",
       "  color: #000000;\n",
       "}\n",
       "#T_1ef35_row5_col10, #T_1ef35_row10_col7 {\n",
       "  font-size: 6pt;\n",
       "  background-color: #e8e8e8;\n",
       "  color: #000000;\n",
       "}\n",
       "#T_1ef35_row5_col13, #T_1ef35_row6_col12 {\n",
       "  font-size: 6pt;\n",
       "  background-color: #090909;\n",
       "  color: #f1f1f1;\n",
       "}\n",
       "#T_1ef35_row5_col14 {\n",
       "  font-size: 6pt;\n",
       "  background-color: #d0d0d0;\n",
       "  color: #000000;\n",
       "}\n",
       "#T_1ef35_row6_col10, #T_1ef35_row7_col11, #T_1ef35_row9_col6 {\n",
       "  font-size: 6pt;\n",
       "  background-color: #060606;\n",
       "  color: #f1f1f1;\n",
       "}\n",
       "#T_1ef35_row6_col13 {\n",
       "  font-size: 6pt;\n",
       "  background-color: #979797;\n",
       "  color: #f1f1f1;\n",
       "}\n",
       "#T_1ef35_row7_col8 {\n",
       "  font-size: 6pt;\n",
       "  background-color: #b6b6b6;\n",
       "  color: #000000;\n",
       "}\n",
       "#T_1ef35_row7_col9 {\n",
       "  font-size: 6pt;\n",
       "  background-color: #252525;\n",
       "  color: #f1f1f1;\n",
       "}\n",
       "#T_1ef35_row7_col12 {\n",
       "  font-size: 6pt;\n",
       "  background-color: #999999;\n",
       "  color: #f1f1f1;\n",
       "}\n",
       "#T_1ef35_row8_col7, #T_1ef35_row18_col8 {\n",
       "  font-size: 6pt;\n",
       "  background-color: #101010;\n",
       "  color: #f1f1f1;\n",
       "}\n",
       "#T_1ef35_row8_col9, #T_1ef35_row9_col9, #T_1ef35_row17_col10, #T_1ef35_row18_col9, #T_1ef35_row19_col9 {\n",
       "  font-size: 6pt;\n",
       "  background-color: #020202;\n",
       "  color: #f1f1f1;\n",
       "}\n",
       "#T_1ef35_row9_col5 {\n",
       "  font-size: 6pt;\n",
       "  background-color: #f7f7f7;\n",
       "  color: #000000;\n",
       "}\n",
       "#T_1ef35_row9_col7, #T_1ef35_row18_col11 {\n",
       "  font-size: 6pt;\n",
       "  background-color: #030303;\n",
       "  color: #f1f1f1;\n",
       "}\n",
       "#T_1ef35_row9_col12 {\n",
       "  font-size: 6pt;\n",
       "  background-color: #181818;\n",
       "  color: #f1f1f1;\n",
       "}\n",
       "#T_1ef35_row9_col13 {\n",
       "  font-size: 6pt;\n",
       "  background-color: #303030;\n",
       "  color: #f1f1f1;\n",
       "}\n",
       "#T_1ef35_row9_col14 {\n",
       "  font-size: 6pt;\n",
       "  background-color: #a9a9a9;\n",
       "  color: #f1f1f1;\n",
       "}\n",
       "#T_1ef35_row9_col15 {\n",
       "  font-size: 6pt;\n",
       "  background-color: #fefefe;\n",
       "  color: #000000;\n",
       "}\n",
       "#T_1ef35_row10_col8, #T_1ef35_row10_col9, #T_1ef35_row16_col10 {\n",
       "  font-size: 6pt;\n",
       "  background-color: #bababa;\n",
       "  color: #000000;\n",
       "}\n",
       "#T_1ef35_row10_col10 {\n",
       "  font-size: 6pt;\n",
       "  background-color: #393939;\n",
       "  color: #f1f1f1;\n",
       "}\n",
       "#T_1ef35_row10_col16 {\n",
       "  font-size: 6pt;\n",
       "  background-color: #eaeaea;\n",
       "  color: #000000;\n",
       "}\n",
       "#T_1ef35_row11_col11 {\n",
       "  font-size: 6pt;\n",
       "  background-color: #e2e2e2;\n",
       "  color: #000000;\n",
       "}\n",
       "#T_1ef35_row11_col12 {\n",
       "  font-size: 6pt;\n",
       "  background-color: #9f9f9f;\n",
       "  color: #f1f1f1;\n",
       "}\n",
       "#T_1ef35_row11_col16 {\n",
       "  font-size: 6pt;\n",
       "  background-color: #898989;\n",
       "  color: #f1f1f1;\n",
       "}\n",
       "#T_1ef35_row12_col13 {\n",
       "  font-size: 6pt;\n",
       "  background-color: #585858;\n",
       "  color: #f1f1f1;\n",
       "}\n",
       "#T_1ef35_row13_col13 {\n",
       "  font-size: 6pt;\n",
       "  background-color: #5a5a5a;\n",
       "  color: #f1f1f1;\n",
       "}\n",
       "#T_1ef35_row13_col16 {\n",
       "  font-size: 6pt;\n",
       "  background-color: #525252;\n",
       "  color: #f1f1f1;\n",
       "}\n",
       "#T_1ef35_row14_col12, #T_1ef35_row19_col11 {\n",
       "  font-size: 6pt;\n",
       "  background-color: #c5c5c5;\n",
       "  color: #000000;\n",
       "}\n",
       "#T_1ef35_row14_col16 {\n",
       "  font-size: 6pt;\n",
       "  background-color: #d7d7d7;\n",
       "  color: #000000;\n",
       "}\n",
       "#T_1ef35_row15_col11, #T_1ef35_row18_col5 {\n",
       "  font-size: 6pt;\n",
       "  background-color: #dcdcdc;\n",
       "  color: #000000;\n",
       "}\n",
       "#T_1ef35_row15_col12 {\n",
       "  font-size: 6pt;\n",
       "  background-color: #2f2f2f;\n",
       "  color: #f1f1f1;\n",
       "}\n",
       "#T_1ef35_row15_col15 {\n",
       "  font-size: 6pt;\n",
       "  background-color: #636363;\n",
       "  color: #f1f1f1;\n",
       "}\n",
       "#T_1ef35_row16_col11 {\n",
       "  font-size: 6pt;\n",
       "  background-color: #070707;\n",
       "  color: #f1f1f1;\n",
       "}\n",
       "#T_1ef35_row16_col14 {\n",
       "  font-size: 6pt;\n",
       "  background-color: #1f1f1f;\n",
       "  color: #f1f1f1;\n",
       "}\n",
       "#T_1ef35_row17_col8, #T_1ef35_row18_col2, #T_1ef35_row18_col4 {\n",
       "  font-size: 6pt;\n",
       "  background-color: #e9e9e9;\n",
       "  color: #000000;\n",
       "}\n",
       "#T_1ef35_row17_col9 {\n",
       "  font-size: 6pt;\n",
       "  background-color: #7d7d7d;\n",
       "  color: #f1f1f1;\n",
       "}\n",
       "#T_1ef35_row17_col14 {\n",
       "  font-size: 6pt;\n",
       "  background-color: #e1e1e1;\n",
       "  color: #000000;\n",
       "}\n",
       "#T_1ef35_row18_col3, #T_1ef35_row18_col6 {\n",
       "  font-size: 6pt;\n",
       "  background-color: #a4a4a4;\n",
       "  color: #f1f1f1;\n",
       "}\n",
       "#T_1ef35_row18_col7 {\n",
       "  font-size: 6pt;\n",
       "  background-color: #727272;\n",
       "  color: #f1f1f1;\n",
       "}\n",
       "#T_1ef35_row18_col12 {\n",
       "  font-size: 6pt;\n",
       "  background-color: #616161;\n",
       "  color: #f1f1f1;\n",
       "}\n",
       "#T_1ef35_row18_col13 {\n",
       "  font-size: 6pt;\n",
       "  background-color: #f3f3f3;\n",
       "  color: #000000;\n",
       "}\n",
       "#T_1ef35_row19_col10 {\n",
       "  font-size: 6pt;\n",
       "  background-color: #484848;\n",
       "  color: #f1f1f1;\n",
       "}\n",
       "#T_1ef35_row20_col2 {\n",
       "  font-size: 6pt;\n",
       "  background-color: #b3b3b3;\n",
       "  color: #000000;\n",
       "}\n",
       "#T_1ef35_row20_col8 {\n",
       "  font-size: 6pt;\n",
       "  background-color: #1a1a1a;\n",
       "  color: #f1f1f1;\n",
       "}\n",
       "#T_1ef35_row20_col9 {\n",
       "  font-size: 6pt;\n",
       "  background-color: #d6d6d6;\n",
       "  color: #000000;\n",
       "}\n",
       "</style>\n",
       "<table id=\"T_1ef35\">\n",
       "  <thead>\n",
       "    <tr>\n",
       "      <th class=\"blank level0\" >&nbsp;</th>\n",
       "      <th id=\"T_1ef35_level0_col0\" class=\"col_heading level0 col0\" >0</th>\n",
       "      <th id=\"T_1ef35_level0_col1\" class=\"col_heading level0 col1\" >1</th>\n",
       "      <th id=\"T_1ef35_level0_col2\" class=\"col_heading level0 col2\" >2</th>\n",
       "      <th id=\"T_1ef35_level0_col3\" class=\"col_heading level0 col3\" >3</th>\n",
       "      <th id=\"T_1ef35_level0_col4\" class=\"col_heading level0 col4\" >4</th>\n",
       "      <th id=\"T_1ef35_level0_col5\" class=\"col_heading level0 col5\" >5</th>\n",
       "      <th id=\"T_1ef35_level0_col6\" class=\"col_heading level0 col6\" >6</th>\n",
       "      <th id=\"T_1ef35_level0_col7\" class=\"col_heading level0 col7\" >7</th>\n",
       "      <th id=\"T_1ef35_level0_col8\" class=\"col_heading level0 col8\" >8</th>\n",
       "      <th id=\"T_1ef35_level0_col9\" class=\"col_heading level0 col9\" >9</th>\n",
       "      <th id=\"T_1ef35_level0_col10\" class=\"col_heading level0 col10\" >10</th>\n",
       "      <th id=\"T_1ef35_level0_col11\" class=\"col_heading level0 col11\" >11</th>\n",
       "      <th id=\"T_1ef35_level0_col12\" class=\"col_heading level0 col12\" >12</th>\n",
       "      <th id=\"T_1ef35_level0_col13\" class=\"col_heading level0 col13\" >13</th>\n",
       "      <th id=\"T_1ef35_level0_col14\" class=\"col_heading level0 col14\" >14</th>\n",
       "      <th id=\"T_1ef35_level0_col15\" class=\"col_heading level0 col15\" >15</th>\n",
       "      <th id=\"T_1ef35_level0_col16\" class=\"col_heading level0 col16\" >16</th>\n",
       "      <th id=\"T_1ef35_level0_col17\" class=\"col_heading level0 col17\" >17</th>\n",
       "    </tr>\n",
       "  </thead>\n",
       "  <tbody>\n",
       "    <tr>\n",
       "      <th id=\"T_1ef35_level0_row0\" class=\"row_heading level0 row0\" >0</th>\n",
       "      <td id=\"T_1ef35_row0_col0\" class=\"data row0 col0\" >0</td>\n",
       "      <td id=\"T_1ef35_row0_col1\" class=\"data row0 col1\" >0</td>\n",
       "      <td id=\"T_1ef35_row0_col2\" class=\"data row0 col2\" >0</td>\n",
       "      <td id=\"T_1ef35_row0_col3\" class=\"data row0 col3\" >0</td>\n",
       "      <td id=\"T_1ef35_row0_col4\" class=\"data row0 col4\" >0</td>\n",
       "      <td id=\"T_1ef35_row0_col5\" class=\"data row0 col5\" >0</td>\n",
       "      <td id=\"T_1ef35_row0_col6\" class=\"data row0 col6\" >0</td>\n",
       "      <td id=\"T_1ef35_row0_col7\" class=\"data row0 col7\" >0</td>\n",
       "      <td id=\"T_1ef35_row0_col8\" class=\"data row0 col8\" >0</td>\n",
       "      <td id=\"T_1ef35_row0_col9\" class=\"data row0 col9\" >0</td>\n",
       "      <td id=\"T_1ef35_row0_col10\" class=\"data row0 col10\" >0</td>\n",
       "      <td id=\"T_1ef35_row0_col11\" class=\"data row0 col11\" >0</td>\n",
       "      <td id=\"T_1ef35_row0_col12\" class=\"data row0 col12\" >0</td>\n",
       "      <td id=\"T_1ef35_row0_col13\" class=\"data row0 col13\" >0</td>\n",
       "      <td id=\"T_1ef35_row0_col14\" class=\"data row0 col14\" >0</td>\n",
       "      <td id=\"T_1ef35_row0_col15\" class=\"data row0 col15\" >0</td>\n",
       "      <td id=\"T_1ef35_row0_col16\" class=\"data row0 col16\" >0</td>\n",
       "      <td id=\"T_1ef35_row0_col17\" class=\"data row0 col17\" >0</td>\n",
       "    </tr>\n",
       "    <tr>\n",
       "      <th id=\"T_1ef35_level0_row1\" class=\"row_heading level0 row1\" >1</th>\n",
       "      <td id=\"T_1ef35_row1_col0\" class=\"data row1 col0\" >0</td>\n",
       "      <td id=\"T_1ef35_row1_col1\" class=\"data row1 col1\" >0</td>\n",
       "      <td id=\"T_1ef35_row1_col2\" class=\"data row1 col2\" >0</td>\n",
       "      <td id=\"T_1ef35_row1_col3\" class=\"data row1 col3\" >0</td>\n",
       "      <td id=\"T_1ef35_row1_col4\" class=\"data row1 col4\" >0</td>\n",
       "      <td id=\"T_1ef35_row1_col5\" class=\"data row1 col5\" >29</td>\n",
       "      <td id=\"T_1ef35_row1_col6\" class=\"data row1 col6\" >150</td>\n",
       "      <td id=\"T_1ef35_row1_col7\" class=\"data row1 col7\" >195</td>\n",
       "      <td id=\"T_1ef35_row1_col8\" class=\"data row1 col8\" >254</td>\n",
       "      <td id=\"T_1ef35_row1_col9\" class=\"data row1 col9\" >255</td>\n",
       "      <td id=\"T_1ef35_row1_col10\" class=\"data row1 col10\" >254</td>\n",
       "      <td id=\"T_1ef35_row1_col11\" class=\"data row1 col11\" >176</td>\n",
       "      <td id=\"T_1ef35_row1_col12\" class=\"data row1 col12\" >193</td>\n",
       "      <td id=\"T_1ef35_row1_col13\" class=\"data row1 col13\" >150</td>\n",
       "      <td id=\"T_1ef35_row1_col14\" class=\"data row1 col14\" >96</td>\n",
       "      <td id=\"T_1ef35_row1_col15\" class=\"data row1 col15\" >0</td>\n",
       "      <td id=\"T_1ef35_row1_col16\" class=\"data row1 col16\" >0</td>\n",
       "      <td id=\"T_1ef35_row1_col17\" class=\"data row1 col17\" >0</td>\n",
       "    </tr>\n",
       "    <tr>\n",
       "      <th id=\"T_1ef35_level0_row2\" class=\"row_heading level0 row2\" >2</th>\n",
       "      <td id=\"T_1ef35_row2_col0\" class=\"data row2 col0\" >0</td>\n",
       "      <td id=\"T_1ef35_row2_col1\" class=\"data row2 col1\" >0</td>\n",
       "      <td id=\"T_1ef35_row2_col2\" class=\"data row2 col2\" >0</td>\n",
       "      <td id=\"T_1ef35_row2_col3\" class=\"data row2 col3\" >48</td>\n",
       "      <td id=\"T_1ef35_row2_col4\" class=\"data row2 col4\" >166</td>\n",
       "      <td id=\"T_1ef35_row2_col5\" class=\"data row2 col5\" >224</td>\n",
       "      <td id=\"T_1ef35_row2_col6\" class=\"data row2 col6\" >253</td>\n",
       "      <td id=\"T_1ef35_row2_col7\" class=\"data row2 col7\" >253</td>\n",
       "      <td id=\"T_1ef35_row2_col8\" class=\"data row2 col8\" >234</td>\n",
       "      <td id=\"T_1ef35_row2_col9\" class=\"data row2 col9\" >196</td>\n",
       "      <td id=\"T_1ef35_row2_col10\" class=\"data row2 col10\" >253</td>\n",
       "      <td id=\"T_1ef35_row2_col11\" class=\"data row2 col11\" >253</td>\n",
       "      <td id=\"T_1ef35_row2_col12\" class=\"data row2 col12\" >253</td>\n",
       "      <td id=\"T_1ef35_row2_col13\" class=\"data row2 col13\" >253</td>\n",
       "      <td id=\"T_1ef35_row2_col14\" class=\"data row2 col14\" >233</td>\n",
       "      <td id=\"T_1ef35_row2_col15\" class=\"data row2 col15\" >0</td>\n",
       "      <td id=\"T_1ef35_row2_col16\" class=\"data row2 col16\" >0</td>\n",
       "      <td id=\"T_1ef35_row2_col17\" class=\"data row2 col17\" >0</td>\n",
       "    </tr>\n",
       "    <tr>\n",
       "      <th id=\"T_1ef35_level0_row3\" class=\"row_heading level0 row3\" >3</th>\n",
       "      <td id=\"T_1ef35_row3_col0\" class=\"data row3 col0\" >0</td>\n",
       "      <td id=\"T_1ef35_row3_col1\" class=\"data row3 col1\" >93</td>\n",
       "      <td id=\"T_1ef35_row3_col2\" class=\"data row3 col2\" >244</td>\n",
       "      <td id=\"T_1ef35_row3_col3\" class=\"data row3 col3\" >249</td>\n",
       "      <td id=\"T_1ef35_row3_col4\" class=\"data row3 col4\" >253</td>\n",
       "      <td id=\"T_1ef35_row3_col5\" class=\"data row3 col5\" >187</td>\n",
       "      <td id=\"T_1ef35_row3_col6\" class=\"data row3 col6\" >46</td>\n",
       "      <td id=\"T_1ef35_row3_col7\" class=\"data row3 col7\" >10</td>\n",
       "      <td id=\"T_1ef35_row3_col8\" class=\"data row3 col8\" >8</td>\n",
       "      <td id=\"T_1ef35_row3_col9\" class=\"data row3 col9\" >4</td>\n",
       "      <td id=\"T_1ef35_row3_col10\" class=\"data row3 col10\" >10</td>\n",
       "      <td id=\"T_1ef35_row3_col11\" class=\"data row3 col11\" >194</td>\n",
       "      <td id=\"T_1ef35_row3_col12\" class=\"data row3 col12\" >253</td>\n",
       "      <td id=\"T_1ef35_row3_col13\" class=\"data row3 col13\" >253</td>\n",
       "      <td id=\"T_1ef35_row3_col14\" class=\"data row3 col14\" >233</td>\n",
       "      <td id=\"T_1ef35_row3_col15\" class=\"data row3 col15\" >0</td>\n",
       "      <td id=\"T_1ef35_row3_col16\" class=\"data row3 col16\" >0</td>\n",
       "      <td id=\"T_1ef35_row3_col17\" class=\"data row3 col17\" >0</td>\n",
       "    </tr>\n",
       "    <tr>\n",
       "      <th id=\"T_1ef35_level0_row4\" class=\"row_heading level0 row4\" >4</th>\n",
       "      <td id=\"T_1ef35_row4_col0\" class=\"data row4 col0\" >0</td>\n",
       "      <td id=\"T_1ef35_row4_col1\" class=\"data row4 col1\" >107</td>\n",
       "      <td id=\"T_1ef35_row4_col2\" class=\"data row4 col2\" >253</td>\n",
       "      <td id=\"T_1ef35_row4_col3\" class=\"data row4 col3\" >253</td>\n",
       "      <td id=\"T_1ef35_row4_col4\" class=\"data row4 col4\" >230</td>\n",
       "      <td id=\"T_1ef35_row4_col5\" class=\"data row4 col5\" >48</td>\n",
       "      <td id=\"T_1ef35_row4_col6\" class=\"data row4 col6\" >0</td>\n",
       "      <td id=\"T_1ef35_row4_col7\" class=\"data row4 col7\" >0</td>\n",
       "      <td id=\"T_1ef35_row4_col8\" class=\"data row4 col8\" >0</td>\n",
       "      <td id=\"T_1ef35_row4_col9\" class=\"data row4 col9\" >0</td>\n",
       "      <td id=\"T_1ef35_row4_col10\" class=\"data row4 col10\" >0</td>\n",
       "      <td id=\"T_1ef35_row4_col11\" class=\"data row4 col11\" >192</td>\n",
       "      <td id=\"T_1ef35_row4_col12\" class=\"data row4 col12\" >253</td>\n",
       "      <td id=\"T_1ef35_row4_col13\" class=\"data row4 col13\" >253</td>\n",
       "      <td id=\"T_1ef35_row4_col14\" class=\"data row4 col14\" >156</td>\n",
       "      <td id=\"T_1ef35_row4_col15\" class=\"data row4 col15\" >0</td>\n",
       "      <td id=\"T_1ef35_row4_col16\" class=\"data row4 col16\" >0</td>\n",
       "      <td id=\"T_1ef35_row4_col17\" class=\"data row4 col17\" >0</td>\n",
       "    </tr>\n",
       "    <tr>\n",
       "      <th id=\"T_1ef35_level0_row5\" class=\"row_heading level0 row5\" >5</th>\n",
       "      <td id=\"T_1ef35_row5_col0\" class=\"data row5 col0\" >0</td>\n",
       "      <td id=\"T_1ef35_row5_col1\" class=\"data row5 col1\" >3</td>\n",
       "      <td id=\"T_1ef35_row5_col2\" class=\"data row5 col2\" >20</td>\n",
       "      <td id=\"T_1ef35_row5_col3\" class=\"data row5 col3\" >20</td>\n",
       "      <td id=\"T_1ef35_row5_col4\" class=\"data row5 col4\" >15</td>\n",
       "      <td id=\"T_1ef35_row5_col5\" class=\"data row5 col5\" >0</td>\n",
       "      <td id=\"T_1ef35_row5_col6\" class=\"data row5 col6\" >0</td>\n",
       "      <td id=\"T_1ef35_row5_col7\" class=\"data row5 col7\" >0</td>\n",
       "      <td id=\"T_1ef35_row5_col8\" class=\"data row5 col8\" >0</td>\n",
       "      <td id=\"T_1ef35_row5_col9\" class=\"data row5 col9\" >0</td>\n",
       "      <td id=\"T_1ef35_row5_col10\" class=\"data row5 col10\" >43</td>\n",
       "      <td id=\"T_1ef35_row5_col11\" class=\"data row5 col11\" >224</td>\n",
       "      <td id=\"T_1ef35_row5_col12\" class=\"data row5 col12\" >253</td>\n",
       "      <td id=\"T_1ef35_row5_col13\" class=\"data row5 col13\" >245</td>\n",
       "      <td id=\"T_1ef35_row5_col14\" class=\"data row5 col14\" >74</td>\n",
       "      <td id=\"T_1ef35_row5_col15\" class=\"data row5 col15\" >0</td>\n",
       "      <td id=\"T_1ef35_row5_col16\" class=\"data row5 col16\" >0</td>\n",
       "      <td id=\"T_1ef35_row5_col17\" class=\"data row5 col17\" >0</td>\n",
       "    </tr>\n",
       "    <tr>\n",
       "      <th id=\"T_1ef35_level0_row6\" class=\"row_heading level0 row6\" >6</th>\n",
       "      <td id=\"T_1ef35_row6_col0\" class=\"data row6 col0\" >0</td>\n",
       "      <td id=\"T_1ef35_row6_col1\" class=\"data row6 col1\" >0</td>\n",
       "      <td id=\"T_1ef35_row6_col2\" class=\"data row6 col2\" >0</td>\n",
       "      <td id=\"T_1ef35_row6_col3\" class=\"data row6 col3\" >0</td>\n",
       "      <td id=\"T_1ef35_row6_col4\" class=\"data row6 col4\" >0</td>\n",
       "      <td id=\"T_1ef35_row6_col5\" class=\"data row6 col5\" >0</td>\n",
       "      <td id=\"T_1ef35_row6_col6\" class=\"data row6 col6\" >0</td>\n",
       "      <td id=\"T_1ef35_row6_col7\" class=\"data row6 col7\" >0</td>\n",
       "      <td id=\"T_1ef35_row6_col8\" class=\"data row6 col8\" >0</td>\n",
       "      <td id=\"T_1ef35_row6_col9\" class=\"data row6 col9\" >0</td>\n",
       "      <td id=\"T_1ef35_row6_col10\" class=\"data row6 col10\" >249</td>\n",
       "      <td id=\"T_1ef35_row6_col11\" class=\"data row6 col11\" >253</td>\n",
       "      <td id=\"T_1ef35_row6_col12\" class=\"data row6 col12\" >245</td>\n",
       "      <td id=\"T_1ef35_row6_col13\" class=\"data row6 col13\" >126</td>\n",
       "      <td id=\"T_1ef35_row6_col14\" class=\"data row6 col14\" >0</td>\n",
       "      <td id=\"T_1ef35_row6_col15\" class=\"data row6 col15\" >0</td>\n",
       "      <td id=\"T_1ef35_row6_col16\" class=\"data row6 col16\" >0</td>\n",
       "      <td id=\"T_1ef35_row6_col17\" class=\"data row6 col17\" >0</td>\n",
       "    </tr>\n",
       "    <tr>\n",
       "      <th id=\"T_1ef35_level0_row7\" class=\"row_heading level0 row7\" >7</th>\n",
       "      <td id=\"T_1ef35_row7_col0\" class=\"data row7 col0\" >0</td>\n",
       "      <td id=\"T_1ef35_row7_col1\" class=\"data row7 col1\" >0</td>\n",
       "      <td id=\"T_1ef35_row7_col2\" class=\"data row7 col2\" >0</td>\n",
       "      <td id=\"T_1ef35_row7_col3\" class=\"data row7 col3\" >0</td>\n",
       "      <td id=\"T_1ef35_row7_col4\" class=\"data row7 col4\" >0</td>\n",
       "      <td id=\"T_1ef35_row7_col5\" class=\"data row7 col5\" >0</td>\n",
       "      <td id=\"T_1ef35_row7_col6\" class=\"data row7 col6\" >0</td>\n",
       "      <td id=\"T_1ef35_row7_col7\" class=\"data row7 col7\" >14</td>\n",
       "      <td id=\"T_1ef35_row7_col8\" class=\"data row7 col8\" >101</td>\n",
       "      <td id=\"T_1ef35_row7_col9\" class=\"data row7 col9\" >223</td>\n",
       "      <td id=\"T_1ef35_row7_col10\" class=\"data row7 col10\" >253</td>\n",
       "      <td id=\"T_1ef35_row7_col11\" class=\"data row7 col11\" >248</td>\n",
       "      <td id=\"T_1ef35_row7_col12\" class=\"data row7 col12\" >124</td>\n",
       "      <td id=\"T_1ef35_row7_col13\" class=\"data row7 col13\" >0</td>\n",
       "      <td id=\"T_1ef35_row7_col14\" class=\"data row7 col14\" >0</td>\n",
       "      <td id=\"T_1ef35_row7_col15\" class=\"data row7 col15\" >0</td>\n",
       "      <td id=\"T_1ef35_row7_col16\" class=\"data row7 col16\" >0</td>\n",
       "      <td id=\"T_1ef35_row7_col17\" class=\"data row7 col17\" >0</td>\n",
       "    </tr>\n",
       "    <tr>\n",
       "      <th id=\"T_1ef35_level0_row8\" class=\"row_heading level0 row8\" >8</th>\n",
       "      <td id=\"T_1ef35_row8_col0\" class=\"data row8 col0\" >0</td>\n",
       "      <td id=\"T_1ef35_row8_col1\" class=\"data row8 col1\" >0</td>\n",
       "      <td id=\"T_1ef35_row8_col2\" class=\"data row8 col2\" >0</td>\n",
       "      <td id=\"T_1ef35_row8_col3\" class=\"data row8 col3\" >0</td>\n",
       "      <td id=\"T_1ef35_row8_col4\" class=\"data row8 col4\" >0</td>\n",
       "      <td id=\"T_1ef35_row8_col5\" class=\"data row8 col5\" >11</td>\n",
       "      <td id=\"T_1ef35_row8_col6\" class=\"data row8 col6\" >166</td>\n",
       "      <td id=\"T_1ef35_row8_col7\" class=\"data row8 col7\" >239</td>\n",
       "      <td id=\"T_1ef35_row8_col8\" class=\"data row8 col8\" >253</td>\n",
       "      <td id=\"T_1ef35_row8_col9\" class=\"data row8 col9\" >253</td>\n",
       "      <td id=\"T_1ef35_row8_col10\" class=\"data row8 col10\" >253</td>\n",
       "      <td id=\"T_1ef35_row8_col11\" class=\"data row8 col11\" >187</td>\n",
       "      <td id=\"T_1ef35_row8_col12\" class=\"data row8 col12\" >30</td>\n",
       "      <td id=\"T_1ef35_row8_col13\" class=\"data row8 col13\" >0</td>\n",
       "      <td id=\"T_1ef35_row8_col14\" class=\"data row8 col14\" >0</td>\n",
       "      <td id=\"T_1ef35_row8_col15\" class=\"data row8 col15\" >0</td>\n",
       "      <td id=\"T_1ef35_row8_col16\" class=\"data row8 col16\" >0</td>\n",
       "      <td id=\"T_1ef35_row8_col17\" class=\"data row8 col17\" >0</td>\n",
       "    </tr>\n",
       "    <tr>\n",
       "      <th id=\"T_1ef35_level0_row9\" class=\"row_heading level0 row9\" >9</th>\n",
       "      <td id=\"T_1ef35_row9_col0\" class=\"data row9 col0\" >0</td>\n",
       "      <td id=\"T_1ef35_row9_col1\" class=\"data row9 col1\" >0</td>\n",
       "      <td id=\"T_1ef35_row9_col2\" class=\"data row9 col2\" >0</td>\n",
       "      <td id=\"T_1ef35_row9_col3\" class=\"data row9 col3\" >0</td>\n",
       "      <td id=\"T_1ef35_row9_col4\" class=\"data row9 col4\" >0</td>\n",
       "      <td id=\"T_1ef35_row9_col5\" class=\"data row9 col5\" >16</td>\n",
       "      <td id=\"T_1ef35_row9_col6\" class=\"data row9 col6\" >248</td>\n",
       "      <td id=\"T_1ef35_row9_col7\" class=\"data row9 col7\" >250</td>\n",
       "      <td id=\"T_1ef35_row9_col8\" class=\"data row9 col8\" >253</td>\n",
       "      <td id=\"T_1ef35_row9_col9\" class=\"data row9 col9\" >253</td>\n",
       "      <td id=\"T_1ef35_row9_col10\" class=\"data row9 col10\" >253</td>\n",
       "      <td id=\"T_1ef35_row9_col11\" class=\"data row9 col11\" >253</td>\n",
       "      <td id=\"T_1ef35_row9_col12\" class=\"data row9 col12\" >232</td>\n",
       "      <td id=\"T_1ef35_row9_col13\" class=\"data row9 col13\" >213</td>\n",
       "      <td id=\"T_1ef35_row9_col14\" class=\"data row9 col14\" >111</td>\n",
       "      <td id=\"T_1ef35_row9_col15\" class=\"data row9 col15\" >2</td>\n",
       "      <td id=\"T_1ef35_row9_col16\" class=\"data row9 col16\" >0</td>\n",
       "      <td id=\"T_1ef35_row9_col17\" class=\"data row9 col17\" >0</td>\n",
       "    </tr>\n",
       "    <tr>\n",
       "      <th id=\"T_1ef35_level0_row10\" class=\"row_heading level0 row10\" >10</th>\n",
       "      <td id=\"T_1ef35_row10_col0\" class=\"data row10 col0\" >0</td>\n",
       "      <td id=\"T_1ef35_row10_col1\" class=\"data row10 col1\" >0</td>\n",
       "      <td id=\"T_1ef35_row10_col2\" class=\"data row10 col2\" >0</td>\n",
       "      <td id=\"T_1ef35_row10_col3\" class=\"data row10 col3\" >0</td>\n",
       "      <td id=\"T_1ef35_row10_col4\" class=\"data row10 col4\" >0</td>\n",
       "      <td id=\"T_1ef35_row10_col5\" class=\"data row10 col5\" >0</td>\n",
       "      <td id=\"T_1ef35_row10_col6\" class=\"data row10 col6\" >0</td>\n",
       "      <td id=\"T_1ef35_row10_col7\" class=\"data row10 col7\" >43</td>\n",
       "      <td id=\"T_1ef35_row10_col8\" class=\"data row10 col8\" >98</td>\n",
       "      <td id=\"T_1ef35_row10_col9\" class=\"data row10 col9\" >98</td>\n",
       "      <td id=\"T_1ef35_row10_col10\" class=\"data row10 col10\" >208</td>\n",
       "      <td id=\"T_1ef35_row10_col11\" class=\"data row10 col11\" >253</td>\n",
       "      <td id=\"T_1ef35_row10_col12\" class=\"data row10 col12\" >253</td>\n",
       "      <td id=\"T_1ef35_row10_col13\" class=\"data row10 col13\" >253</td>\n",
       "      <td id=\"T_1ef35_row10_col14\" class=\"data row10 col14\" >253</td>\n",
       "      <td id=\"T_1ef35_row10_col15\" class=\"data row10 col15\" >187</td>\n",
       "      <td id=\"T_1ef35_row10_col16\" class=\"data row10 col16\" >22</td>\n",
       "      <td id=\"T_1ef35_row10_col17\" class=\"data row10 col17\" >0</td>\n",
       "    </tr>\n",
       "    <tr>\n",
       "      <th id=\"T_1ef35_level0_row11\" class=\"row_heading level0 row11\" >11</th>\n",
       "      <td id=\"T_1ef35_row11_col0\" class=\"data row11 col0\" >0</td>\n",
       "      <td id=\"T_1ef35_row11_col1\" class=\"data row11 col1\" >0</td>\n",
       "      <td id=\"T_1ef35_row11_col2\" class=\"data row11 col2\" >0</td>\n",
       "      <td id=\"T_1ef35_row11_col3\" class=\"data row11 col3\" >0</td>\n",
       "      <td id=\"T_1ef35_row11_col4\" class=\"data row11 col4\" >0</td>\n",
       "      <td id=\"T_1ef35_row11_col5\" class=\"data row11 col5\" >0</td>\n",
       "      <td id=\"T_1ef35_row11_col6\" class=\"data row11 col6\" >0</td>\n",
       "      <td id=\"T_1ef35_row11_col7\" class=\"data row11 col7\" >0</td>\n",
       "      <td id=\"T_1ef35_row11_col8\" class=\"data row11 col8\" >0</td>\n",
       "      <td id=\"T_1ef35_row11_col9\" class=\"data row11 col9\" >0</td>\n",
       "      <td id=\"T_1ef35_row11_col10\" class=\"data row11 col10\" >9</td>\n",
       "      <td id=\"T_1ef35_row11_col11\" class=\"data row11 col11\" >51</td>\n",
       "      <td id=\"T_1ef35_row11_col12\" class=\"data row11 col12\" >119</td>\n",
       "      <td id=\"T_1ef35_row11_col13\" class=\"data row11 col13\" >253</td>\n",
       "      <td id=\"T_1ef35_row11_col14\" class=\"data row11 col14\" >253</td>\n",
       "      <td id=\"T_1ef35_row11_col15\" class=\"data row11 col15\" >253</td>\n",
       "      <td id=\"T_1ef35_row11_col16\" class=\"data row11 col16\" >76</td>\n",
       "      <td id=\"T_1ef35_row11_col17\" class=\"data row11 col17\" >0</td>\n",
       "    </tr>\n",
       "    <tr>\n",
       "      <th id=\"T_1ef35_level0_row12\" class=\"row_heading level0 row12\" >12</th>\n",
       "      <td id=\"T_1ef35_row12_col0\" class=\"data row12 col0\" >0</td>\n",
       "      <td id=\"T_1ef35_row12_col1\" class=\"data row12 col1\" >0</td>\n",
       "      <td id=\"T_1ef35_row12_col2\" class=\"data row12 col2\" >0</td>\n",
       "      <td id=\"T_1ef35_row12_col3\" class=\"data row12 col3\" >0</td>\n",
       "      <td id=\"T_1ef35_row12_col4\" class=\"data row12 col4\" >0</td>\n",
       "      <td id=\"T_1ef35_row12_col5\" class=\"data row12 col5\" >0</td>\n",
       "      <td id=\"T_1ef35_row12_col6\" class=\"data row12 col6\" >0</td>\n",
       "      <td id=\"T_1ef35_row12_col7\" class=\"data row12 col7\" >0</td>\n",
       "      <td id=\"T_1ef35_row12_col8\" class=\"data row12 col8\" >0</td>\n",
       "      <td id=\"T_1ef35_row12_col9\" class=\"data row12 col9\" >0</td>\n",
       "      <td id=\"T_1ef35_row12_col10\" class=\"data row12 col10\" >0</td>\n",
       "      <td id=\"T_1ef35_row12_col11\" class=\"data row12 col11\" >0</td>\n",
       "      <td id=\"T_1ef35_row12_col12\" class=\"data row12 col12\" >1</td>\n",
       "      <td id=\"T_1ef35_row12_col13\" class=\"data row12 col13\" >183</td>\n",
       "      <td id=\"T_1ef35_row12_col14\" class=\"data row12 col14\" >253</td>\n",
       "      <td id=\"T_1ef35_row12_col15\" class=\"data row12 col15\" >253</td>\n",
       "      <td id=\"T_1ef35_row12_col16\" class=\"data row12 col16\" >139</td>\n",
       "      <td id=\"T_1ef35_row12_col17\" class=\"data row12 col17\" >0</td>\n",
       "    </tr>\n",
       "    <tr>\n",
       "      <th id=\"T_1ef35_level0_row13\" class=\"row_heading level0 row13\" >13</th>\n",
       "      <td id=\"T_1ef35_row13_col0\" class=\"data row13 col0\" >0</td>\n",
       "      <td id=\"T_1ef35_row13_col1\" class=\"data row13 col1\" >0</td>\n",
       "      <td id=\"T_1ef35_row13_col2\" class=\"data row13 col2\" >0</td>\n",
       "      <td id=\"T_1ef35_row13_col3\" class=\"data row13 col3\" >0</td>\n",
       "      <td id=\"T_1ef35_row13_col4\" class=\"data row13 col4\" >0</td>\n",
       "      <td id=\"T_1ef35_row13_col5\" class=\"data row13 col5\" >0</td>\n",
       "      <td id=\"T_1ef35_row13_col6\" class=\"data row13 col6\" >0</td>\n",
       "      <td id=\"T_1ef35_row13_col7\" class=\"data row13 col7\" >0</td>\n",
       "      <td id=\"T_1ef35_row13_col8\" class=\"data row13 col8\" >0</td>\n",
       "      <td id=\"T_1ef35_row13_col9\" class=\"data row13 col9\" >0</td>\n",
       "      <td id=\"T_1ef35_row13_col10\" class=\"data row13 col10\" >0</td>\n",
       "      <td id=\"T_1ef35_row13_col11\" class=\"data row13 col11\" >0</td>\n",
       "      <td id=\"T_1ef35_row13_col12\" class=\"data row13 col12\" >0</td>\n",
       "      <td id=\"T_1ef35_row13_col13\" class=\"data row13 col13\" >182</td>\n",
       "      <td id=\"T_1ef35_row13_col14\" class=\"data row13 col14\" >253</td>\n",
       "      <td id=\"T_1ef35_row13_col15\" class=\"data row13 col15\" >253</td>\n",
       "      <td id=\"T_1ef35_row13_col16\" class=\"data row13 col16\" >104</td>\n",
       "      <td id=\"T_1ef35_row13_col17\" class=\"data row13 col17\" >0</td>\n",
       "    </tr>\n",
       "    <tr>\n",
       "      <th id=\"T_1ef35_level0_row14\" class=\"row_heading level0 row14\" >14</th>\n",
       "      <td id=\"T_1ef35_row14_col0\" class=\"data row14 col0\" >0</td>\n",
       "      <td id=\"T_1ef35_row14_col1\" class=\"data row14 col1\" >0</td>\n",
       "      <td id=\"T_1ef35_row14_col2\" class=\"data row14 col2\" >0</td>\n",
       "      <td id=\"T_1ef35_row14_col3\" class=\"data row14 col3\" >0</td>\n",
       "      <td id=\"T_1ef35_row14_col4\" class=\"data row14 col4\" >0</td>\n",
       "      <td id=\"T_1ef35_row14_col5\" class=\"data row14 col5\" >0</td>\n",
       "      <td id=\"T_1ef35_row14_col6\" class=\"data row14 col6\" >0</td>\n",
       "      <td id=\"T_1ef35_row14_col7\" class=\"data row14 col7\" >0</td>\n",
       "      <td id=\"T_1ef35_row14_col8\" class=\"data row14 col8\" >0</td>\n",
       "      <td id=\"T_1ef35_row14_col9\" class=\"data row14 col9\" >0</td>\n",
       "      <td id=\"T_1ef35_row14_col10\" class=\"data row14 col10\" >0</td>\n",
       "      <td id=\"T_1ef35_row14_col11\" class=\"data row14 col11\" >0</td>\n",
       "      <td id=\"T_1ef35_row14_col12\" class=\"data row14 col12\" >85</td>\n",
       "      <td id=\"T_1ef35_row14_col13\" class=\"data row14 col13\" >249</td>\n",
       "      <td id=\"T_1ef35_row14_col14\" class=\"data row14 col14\" >253</td>\n",
       "      <td id=\"T_1ef35_row14_col15\" class=\"data row14 col15\" >253</td>\n",
       "      <td id=\"T_1ef35_row14_col16\" class=\"data row14 col16\" >36</td>\n",
       "      <td id=\"T_1ef35_row14_col17\" class=\"data row14 col17\" >0</td>\n",
       "    </tr>\n",
       "    <tr>\n",
       "      <th id=\"T_1ef35_level0_row15\" class=\"row_heading level0 row15\" >15</th>\n",
       "      <td id=\"T_1ef35_row15_col0\" class=\"data row15 col0\" >0</td>\n",
       "      <td id=\"T_1ef35_row15_col1\" class=\"data row15 col1\" >0</td>\n",
       "      <td id=\"T_1ef35_row15_col2\" class=\"data row15 col2\" >0</td>\n",
       "      <td id=\"T_1ef35_row15_col3\" class=\"data row15 col3\" >0</td>\n",
       "      <td id=\"T_1ef35_row15_col4\" class=\"data row15 col4\" >0</td>\n",
       "      <td id=\"T_1ef35_row15_col5\" class=\"data row15 col5\" >0</td>\n",
       "      <td id=\"T_1ef35_row15_col6\" class=\"data row15 col6\" >0</td>\n",
       "      <td id=\"T_1ef35_row15_col7\" class=\"data row15 col7\" >0</td>\n",
       "      <td id=\"T_1ef35_row15_col8\" class=\"data row15 col8\" >0</td>\n",
       "      <td id=\"T_1ef35_row15_col9\" class=\"data row15 col9\" >0</td>\n",
       "      <td id=\"T_1ef35_row15_col10\" class=\"data row15 col10\" >0</td>\n",
       "      <td id=\"T_1ef35_row15_col11\" class=\"data row15 col11\" >60</td>\n",
       "      <td id=\"T_1ef35_row15_col12\" class=\"data row15 col12\" >214</td>\n",
       "      <td id=\"T_1ef35_row15_col13\" class=\"data row15 col13\" >253</td>\n",
       "      <td id=\"T_1ef35_row15_col14\" class=\"data row15 col14\" >253</td>\n",
       "      <td id=\"T_1ef35_row15_col15\" class=\"data row15 col15\" >173</td>\n",
       "      <td id=\"T_1ef35_row15_col16\" class=\"data row15 col16\" >11</td>\n",
       "      <td id=\"T_1ef35_row15_col17\" class=\"data row15 col17\" >0</td>\n",
       "    </tr>\n",
       "    <tr>\n",
       "      <th id=\"T_1ef35_level0_row16\" class=\"row_heading level0 row16\" >16</th>\n",
       "      <td id=\"T_1ef35_row16_col0\" class=\"data row16 col0\" >0</td>\n",
       "      <td id=\"T_1ef35_row16_col1\" class=\"data row16 col1\" >0</td>\n",
       "      <td id=\"T_1ef35_row16_col2\" class=\"data row16 col2\" >0</td>\n",
       "      <td id=\"T_1ef35_row16_col3\" class=\"data row16 col3\" >0</td>\n",
       "      <td id=\"T_1ef35_row16_col4\" class=\"data row16 col4\" >0</td>\n",
       "      <td id=\"T_1ef35_row16_col5\" class=\"data row16 col5\" >0</td>\n",
       "      <td id=\"T_1ef35_row16_col6\" class=\"data row16 col6\" >0</td>\n",
       "      <td id=\"T_1ef35_row16_col7\" class=\"data row16 col7\" >0</td>\n",
       "      <td id=\"T_1ef35_row16_col8\" class=\"data row16 col8\" >0</td>\n",
       "      <td id=\"T_1ef35_row16_col9\" class=\"data row16 col9\" >0</td>\n",
       "      <td id=\"T_1ef35_row16_col10\" class=\"data row16 col10\" >98</td>\n",
       "      <td id=\"T_1ef35_row16_col11\" class=\"data row16 col11\" >247</td>\n",
       "      <td id=\"T_1ef35_row16_col12\" class=\"data row16 col12\" >253</td>\n",
       "      <td id=\"T_1ef35_row16_col13\" class=\"data row16 col13\" >253</td>\n",
       "      <td id=\"T_1ef35_row16_col14\" class=\"data row16 col14\" >226</td>\n",
       "      <td id=\"T_1ef35_row16_col15\" class=\"data row16 col15\" >9</td>\n",
       "      <td id=\"T_1ef35_row16_col16\" class=\"data row16 col16\" >0</td>\n",
       "      <td id=\"T_1ef35_row16_col17\" class=\"data row16 col17\" >0</td>\n",
       "    </tr>\n",
       "    <tr>\n",
       "      <th id=\"T_1ef35_level0_row17\" class=\"row_heading level0 row17\" >17</th>\n",
       "      <td id=\"T_1ef35_row17_col0\" class=\"data row17 col0\" >0</td>\n",
       "      <td id=\"T_1ef35_row17_col1\" class=\"data row17 col1\" >0</td>\n",
       "      <td id=\"T_1ef35_row17_col2\" class=\"data row17 col2\" >0</td>\n",
       "      <td id=\"T_1ef35_row17_col3\" class=\"data row17 col3\" >0</td>\n",
       "      <td id=\"T_1ef35_row17_col4\" class=\"data row17 col4\" >0</td>\n",
       "      <td id=\"T_1ef35_row17_col5\" class=\"data row17 col5\" >0</td>\n",
       "      <td id=\"T_1ef35_row17_col6\" class=\"data row17 col6\" >0</td>\n",
       "      <td id=\"T_1ef35_row17_col7\" class=\"data row17 col7\" >0</td>\n",
       "      <td id=\"T_1ef35_row17_col8\" class=\"data row17 col8\" >42</td>\n",
       "      <td id=\"T_1ef35_row17_col9\" class=\"data row17 col9\" >150</td>\n",
       "      <td id=\"T_1ef35_row17_col10\" class=\"data row17 col10\" >252</td>\n",
       "      <td id=\"T_1ef35_row17_col11\" class=\"data row17 col11\" >253</td>\n",
       "      <td id=\"T_1ef35_row17_col12\" class=\"data row17 col12\" >253</td>\n",
       "      <td id=\"T_1ef35_row17_col13\" class=\"data row17 col13\" >233</td>\n",
       "      <td id=\"T_1ef35_row17_col14\" class=\"data row17 col14\" >53</td>\n",
       "      <td id=\"T_1ef35_row17_col15\" class=\"data row17 col15\" >0</td>\n",
       "      <td id=\"T_1ef35_row17_col16\" class=\"data row17 col16\" >0</td>\n",
       "      <td id=\"T_1ef35_row17_col17\" class=\"data row17 col17\" >0</td>\n",
       "    </tr>\n",
       "    <tr>\n",
       "      <th id=\"T_1ef35_level0_row18\" class=\"row_heading level0 row18\" >18</th>\n",
       "      <td id=\"T_1ef35_row18_col0\" class=\"data row18 col0\" >0</td>\n",
       "      <td id=\"T_1ef35_row18_col1\" class=\"data row18 col1\" >0</td>\n",
       "      <td id=\"T_1ef35_row18_col2\" class=\"data row18 col2\" >42</td>\n",
       "      <td id=\"T_1ef35_row18_col3\" class=\"data row18 col3\" >115</td>\n",
       "      <td id=\"T_1ef35_row18_col4\" class=\"data row18 col4\" >42</td>\n",
       "      <td id=\"T_1ef35_row18_col5\" class=\"data row18 col5\" >60</td>\n",
       "      <td id=\"T_1ef35_row18_col6\" class=\"data row18 col6\" >115</td>\n",
       "      <td id=\"T_1ef35_row18_col7\" class=\"data row18 col7\" >159</td>\n",
       "      <td id=\"T_1ef35_row18_col8\" class=\"data row18 col8\" >240</td>\n",
       "      <td id=\"T_1ef35_row18_col9\" class=\"data row18 col9\" >253</td>\n",
       "      <td id=\"T_1ef35_row18_col10\" class=\"data row18 col10\" >253</td>\n",
       "      <td id=\"T_1ef35_row18_col11\" class=\"data row18 col11\" >250</td>\n",
       "      <td id=\"T_1ef35_row18_col12\" class=\"data row18 col12\" >175</td>\n",
       "      <td id=\"T_1ef35_row18_col13\" class=\"data row18 col13\" >25</td>\n",
       "      <td id=\"T_1ef35_row18_col14\" class=\"data row18 col14\" >0</td>\n",
       "      <td id=\"T_1ef35_row18_col15\" class=\"data row18 col15\" >0</td>\n",
       "      <td id=\"T_1ef35_row18_col16\" class=\"data row18 col16\" >0</td>\n",
       "      <td id=\"T_1ef35_row18_col17\" class=\"data row18 col17\" >0</td>\n",
       "    </tr>\n",
       "    <tr>\n",
       "      <th id=\"T_1ef35_level0_row19\" class=\"row_heading level0 row19\" >19</th>\n",
       "      <td id=\"T_1ef35_row19_col0\" class=\"data row19 col0\" >0</td>\n",
       "      <td id=\"T_1ef35_row19_col1\" class=\"data row19 col1\" >0</td>\n",
       "      <td id=\"T_1ef35_row19_col2\" class=\"data row19 col2\" >187</td>\n",
       "      <td id=\"T_1ef35_row19_col3\" class=\"data row19 col3\" >253</td>\n",
       "      <td id=\"T_1ef35_row19_col4\" class=\"data row19 col4\" >253</td>\n",
       "      <td id=\"T_1ef35_row19_col5\" class=\"data row19 col5\" >253</td>\n",
       "      <td id=\"T_1ef35_row19_col6\" class=\"data row19 col6\" >253</td>\n",
       "      <td id=\"T_1ef35_row19_col7\" class=\"data row19 col7\" >253</td>\n",
       "      <td id=\"T_1ef35_row19_col8\" class=\"data row19 col8\" >253</td>\n",
       "      <td id=\"T_1ef35_row19_col9\" class=\"data row19 col9\" >253</td>\n",
       "      <td id=\"T_1ef35_row19_col10\" class=\"data row19 col10\" >197</td>\n",
       "      <td id=\"T_1ef35_row19_col11\" class=\"data row19 col11\" >86</td>\n",
       "      <td id=\"T_1ef35_row19_col12\" class=\"data row19 col12\" >0</td>\n",
       "      <td id=\"T_1ef35_row19_col13\" class=\"data row19 col13\" >0</td>\n",
       "      <td id=\"T_1ef35_row19_col14\" class=\"data row19 col14\" >0</td>\n",
       "      <td id=\"T_1ef35_row19_col15\" class=\"data row19 col15\" >0</td>\n",
       "      <td id=\"T_1ef35_row19_col16\" class=\"data row19 col16\" >0</td>\n",
       "      <td id=\"T_1ef35_row19_col17\" class=\"data row19 col17\" >0</td>\n",
       "    </tr>\n",
       "    <tr>\n",
       "      <th id=\"T_1ef35_level0_row20\" class=\"row_heading level0 row20\" >20</th>\n",
       "      <td id=\"T_1ef35_row20_col0\" class=\"data row20 col0\" >0</td>\n",
       "      <td id=\"T_1ef35_row20_col1\" class=\"data row20 col1\" >0</td>\n",
       "      <td id=\"T_1ef35_row20_col2\" class=\"data row20 col2\" >103</td>\n",
       "      <td id=\"T_1ef35_row20_col3\" class=\"data row20 col3\" >253</td>\n",
       "      <td id=\"T_1ef35_row20_col4\" class=\"data row20 col4\" >253</td>\n",
       "      <td id=\"T_1ef35_row20_col5\" class=\"data row20 col5\" >253</td>\n",
       "      <td id=\"T_1ef35_row20_col6\" class=\"data row20 col6\" >253</td>\n",
       "      <td id=\"T_1ef35_row20_col7\" class=\"data row20 col7\" >253</td>\n",
       "      <td id=\"T_1ef35_row20_col8\" class=\"data row20 col8\" >232</td>\n",
       "      <td id=\"T_1ef35_row20_col9\" class=\"data row20 col9\" >67</td>\n",
       "      <td id=\"T_1ef35_row20_col10\" class=\"data row20 col10\" >1</td>\n",
       "      <td id=\"T_1ef35_row20_col11\" class=\"data row20 col11\" >0</td>\n",
       "      <td id=\"T_1ef35_row20_col12\" class=\"data row20 col12\" >0</td>\n",
       "      <td id=\"T_1ef35_row20_col13\" class=\"data row20 col13\" >0</td>\n",
       "      <td id=\"T_1ef35_row20_col14\" class=\"data row20 col14\" >0</td>\n",
       "      <td id=\"T_1ef35_row20_col15\" class=\"data row20 col15\" >0</td>\n",
       "      <td id=\"T_1ef35_row20_col16\" class=\"data row20 col16\" >0</td>\n",
       "      <td id=\"T_1ef35_row20_col17\" class=\"data row20 col17\" >0</td>\n",
       "    </tr>\n",
       "    <tr>\n",
       "      <th id=\"T_1ef35_level0_row21\" class=\"row_heading level0 row21\" >21</th>\n",
       "      <td id=\"T_1ef35_row21_col0\" class=\"data row21 col0\" >0</td>\n",
       "      <td id=\"T_1ef35_row21_col1\" class=\"data row21 col1\" >0</td>\n",
       "      <td id=\"T_1ef35_row21_col2\" class=\"data row21 col2\" >0</td>\n",
       "      <td id=\"T_1ef35_row21_col3\" class=\"data row21 col3\" >0</td>\n",
       "      <td id=\"T_1ef35_row21_col4\" class=\"data row21 col4\" >0</td>\n",
       "      <td id=\"T_1ef35_row21_col5\" class=\"data row21 col5\" >0</td>\n",
       "      <td id=\"T_1ef35_row21_col6\" class=\"data row21 col6\" >0</td>\n",
       "      <td id=\"T_1ef35_row21_col7\" class=\"data row21 col7\" >0</td>\n",
       "      <td id=\"T_1ef35_row21_col8\" class=\"data row21 col8\" >0</td>\n",
       "      <td id=\"T_1ef35_row21_col9\" class=\"data row21 col9\" >0</td>\n",
       "      <td id=\"T_1ef35_row21_col10\" class=\"data row21 col10\" >0</td>\n",
       "      <td id=\"T_1ef35_row21_col11\" class=\"data row21 col11\" >0</td>\n",
       "      <td id=\"T_1ef35_row21_col12\" class=\"data row21 col12\" >0</td>\n",
       "      <td id=\"T_1ef35_row21_col13\" class=\"data row21 col13\" >0</td>\n",
       "      <td id=\"T_1ef35_row21_col14\" class=\"data row21 col14\" >0</td>\n",
       "      <td id=\"T_1ef35_row21_col15\" class=\"data row21 col15\" >0</td>\n",
       "      <td id=\"T_1ef35_row21_col16\" class=\"data row21 col16\" >0</td>\n",
       "      <td id=\"T_1ef35_row21_col17\" class=\"data row21 col17\" >0</td>\n",
       "    </tr>\n",
       "    <tr>\n",
       "      <th id=\"T_1ef35_level0_row22\" class=\"row_heading level0 row22\" >22</th>\n",
       "      <td id=\"T_1ef35_row22_col0\" class=\"data row22 col0\" >0</td>\n",
       "      <td id=\"T_1ef35_row22_col1\" class=\"data row22 col1\" >0</td>\n",
       "      <td id=\"T_1ef35_row22_col2\" class=\"data row22 col2\" >0</td>\n",
       "      <td id=\"T_1ef35_row22_col3\" class=\"data row22 col3\" >0</td>\n",
       "      <td id=\"T_1ef35_row22_col4\" class=\"data row22 col4\" >0</td>\n",
       "      <td id=\"T_1ef35_row22_col5\" class=\"data row22 col5\" >0</td>\n",
       "      <td id=\"T_1ef35_row22_col6\" class=\"data row22 col6\" >0</td>\n",
       "      <td id=\"T_1ef35_row22_col7\" class=\"data row22 col7\" >0</td>\n",
       "      <td id=\"T_1ef35_row22_col8\" class=\"data row22 col8\" >0</td>\n",
       "      <td id=\"T_1ef35_row22_col9\" class=\"data row22 col9\" >0</td>\n",
       "      <td id=\"T_1ef35_row22_col10\" class=\"data row22 col10\" >0</td>\n",
       "      <td id=\"T_1ef35_row22_col11\" class=\"data row22 col11\" >0</td>\n",
       "      <td id=\"T_1ef35_row22_col12\" class=\"data row22 col12\" >0</td>\n",
       "      <td id=\"T_1ef35_row22_col13\" class=\"data row22 col13\" >0</td>\n",
       "      <td id=\"T_1ef35_row22_col14\" class=\"data row22 col14\" >0</td>\n",
       "      <td id=\"T_1ef35_row22_col15\" class=\"data row22 col15\" >0</td>\n",
       "      <td id=\"T_1ef35_row22_col16\" class=\"data row22 col16\" >0</td>\n",
       "      <td id=\"T_1ef35_row22_col17\" class=\"data row22 col17\" >0</td>\n",
       "    </tr>\n",
       "    <tr>\n",
       "      <th id=\"T_1ef35_level0_row23\" class=\"row_heading level0 row23\" >23</th>\n",
       "      <td id=\"T_1ef35_row23_col0\" class=\"data row23 col0\" >0</td>\n",
       "      <td id=\"T_1ef35_row23_col1\" class=\"data row23 col1\" >0</td>\n",
       "      <td id=\"T_1ef35_row23_col2\" class=\"data row23 col2\" >0</td>\n",
       "      <td id=\"T_1ef35_row23_col3\" class=\"data row23 col3\" >0</td>\n",
       "      <td id=\"T_1ef35_row23_col4\" class=\"data row23 col4\" >0</td>\n",
       "      <td id=\"T_1ef35_row23_col5\" class=\"data row23 col5\" >0</td>\n",
       "      <td id=\"T_1ef35_row23_col6\" class=\"data row23 col6\" >0</td>\n",
       "      <td id=\"T_1ef35_row23_col7\" class=\"data row23 col7\" >0</td>\n",
       "      <td id=\"T_1ef35_row23_col8\" class=\"data row23 col8\" >0</td>\n",
       "      <td id=\"T_1ef35_row23_col9\" class=\"data row23 col9\" >0</td>\n",
       "      <td id=\"T_1ef35_row23_col10\" class=\"data row23 col10\" >0</td>\n",
       "      <td id=\"T_1ef35_row23_col11\" class=\"data row23 col11\" >0</td>\n",
       "      <td id=\"T_1ef35_row23_col12\" class=\"data row23 col12\" >0</td>\n",
       "      <td id=\"T_1ef35_row23_col13\" class=\"data row23 col13\" >0</td>\n",
       "      <td id=\"T_1ef35_row23_col14\" class=\"data row23 col14\" >0</td>\n",
       "      <td id=\"T_1ef35_row23_col15\" class=\"data row23 col15\" >0</td>\n",
       "      <td id=\"T_1ef35_row23_col16\" class=\"data row23 col16\" >0</td>\n",
       "      <td id=\"T_1ef35_row23_col17\" class=\"data row23 col17\" >0</td>\n",
       "    </tr>\n",
       "  </tbody>\n",
       "</table>\n"
      ],
      "text/plain": [
       "<pandas.io.formats.style.Styler at 0x7f73ce5087c0>"
      ]
     },
     "execution_count": 8,
     "metadata": {},
     "output_type": "execute_result"
    }
   ],
   "source": [
    "im3_t = tensor(im3)\n",
    "df = pd.DataFrame(im3_t[4:30, 4:22])\n",
    "df.style.set_properties(**{'font-size':'6pt'}).background_gradient('Greys')"
   ]
  },
  {
   "cell_type": "markdown",
   "id": "b68277b1",
   "metadata": {},
   "source": [
    "## Baseline - pixel similarity"
   ]
  },
  {
   "cell_type": "code",
   "execution_count": 9,
   "id": "9a36eaf1",
   "metadata": {},
   "outputs": [
    {
     "data": {
      "text/plain": [
       "(6265, 6131)"
      ]
     },
     "execution_count": 9,
     "metadata": {},
     "output_type": "execute_result"
    }
   ],
   "source": [
    "seven_tensors = [tensor(Image.open(o)) for o in sevens]\n",
    "three_tensors = [tensor(Image.open(o)) for o in threes]\n",
    "len(seven_tensors), len(three_tensors)"
   ]
  },
  {
   "cell_type": "code",
   "execution_count": 10,
   "id": "31f08f60",
   "metadata": {},
   "outputs": [
    {
     "data": {
      "image/png": "[encoded data removed]",
      "text/plain": [
       "<Figure size 100x100 with 1 Axes>"
      ]
     },
     "metadata": {},
     "output_type": "display_data"
    }
   ],
   "source": [
    "show_image(three_tensors[1]);"
   ]
  },
  {
   "cell_type": "code",
   "execution_count": 11,
   "id": "5129e1ee",
   "metadata": {},
   "outputs": [
    {
     "data": {
      "text/plain": [
       "torch.Size([6131, 28, 28])"
      ]
     },
     "execution_count": 11,
     "metadata": {},
     "output_type": "execute_result"
    }
   ],
   "source": [
    "stacked_sevens = torch.stack(seven_tensors).float()/255\n",
    "stacked_threes = torch.stack(three_tensors).float()/255\n",
    "stacked_threes.shape"
   ]
  },
  {
   "cell_type": "code",
   "execution_count": 12,
   "id": "dc5e8809",
   "metadata": {},
   "outputs": [
    {
     "data": {
      "text/plain": [
       "3"
      ]
     },
     "execution_count": 12,
     "metadata": {},
     "output_type": "execute_result"
    }
   ],
   "source": [
    "len(stacked_threes.shape)"
   ]
  },
  {
   "cell_type": "code",
   "execution_count": 13,
   "id": "a0531f60",
   "metadata": {},
   "outputs": [
    {
     "data": {
      "text/plain": [
       "3"
      ]
     },
     "execution_count": 13,
     "metadata": {},
     "output_type": "execute_result"
    }
   ],
   "source": [
    "stacked_threes.ndim"
   ]
  },
  {
   "cell_type": "code",
   "execution_count": 14,
   "id": "88e88e1b",
   "metadata": {},
   "outputs": [
    {
     "data": {
      "image/png": "[encoded data removed]",
      "text/plain": [
       "<Figure size 100x100 with 1 Axes>"
      ]
     },
     "metadata": {},
     "output_type": "display_data"
    }
   ],
   "source": [
    "mean3 = stacked_threes.mean(0)\n",
    "show_image(mean3);"
   ]
  },
  {
   "cell_type": "code",
   "execution_count": 15,
   "id": "480474ec",
   "metadata": {},
   "outputs": [
    {
     "data": {
      "image/png": "[encoded data removed]",
      "text/plain": [
       "<Figure size 100x100 with 1 Axes>"
      ]
     },
     "metadata": {},
     "output_type": "display_data"
    }
   ],
   "source": [
    "mean7 = stacked_sevens.mean(0)\n",
    "show_image(mean7);"
   ]
  },
  {
   "cell_type": "code",
   "execution_count": 16,
   "id": "3695fe7a",
   "metadata": {},
   "outputs": [
    {
     "data": {
      "image/png": "[encoded data removed]",
      "text/plain": [
       "<Figure size 100x100 with 1 Axes>"
      ]
     },
     "metadata": {},
     "output_type": "display_data"
    }
   ],
   "source": [
    "a_3 = stacked_threes[1]\n",
    "show_image(a_3);"
   ]
  },
  {
   "cell_type": "code",
   "execution_count": 17,
   "id": "2c09cdb1",
   "metadata": {},
   "outputs": [
    {
     "data": {
      "text/plain": [
       "(tensor(0.1114), tensor(0.2021))"
      ]
     },
     "execution_count": 17,
     "metadata": {},
     "output_type": "execute_result"
    }
   ],
   "source": [
    "dist_3_abs = (a_3 - mean3).abs().mean()\n",
    "dist_3_sqr = ((a_3 - mean3)**2).mean().sqrt()\n",
    "dist_3_abs, dist_3_sqr"
   ]
  },
  {
   "cell_type": "code",
   "execution_count": 18,
   "id": "07f8ccea",
   "metadata": {},
   "outputs": [
    {
     "data": {
      "text/plain": [
       "(tensor(0.1586), tensor(0.3021))"
      ]
     },
     "execution_count": 18,
     "metadata": {},
     "output_type": "execute_result"
    }
   ],
   "source": [
    "F.l1_loss(a_3.float(), mean7), F.mse_loss(a_3, mean7).sqrt()"
   ]
  },
  {
   "cell_type": "code",
   "execution_count": 19,
   "id": "59501312",
   "metadata": {},
   "outputs": [
    {
     "data": {
      "text/plain": [
       "(torch.Size([1010, 28, 28]), torch.Size([1028, 28, 28]))"
      ]
     },
     "execution_count": 19,
     "metadata": {},
     "output_type": "execute_result"
    }
   ],
   "source": [
    "valid_3_tens = torch.stack([tensor(Image.open(o)) for o in (path/'valid'/'3').ls()])\n",
    "valid_3_tens = valid_3_tens.float()/255\n",
    "\n",
    "valid_7_tens = torch.stack([tensor(Image.open(o)) for o in (path/'valid'/'7').ls()])\n",
    "valid_7_tens = valid_7_tens.float()/255\n",
    "\n",
    "valid_3_tens.shape, valid_7_tens.shape"
   ]
  },
  {
   "cell_type": "code",
   "execution_count": 20,
   "id": "9d844cbf",
   "metadata": {},
   "outputs": [
    {
     "data": {
      "text/plain": [
       "tensor(0.1114)"
      ]
     },
     "execution_count": 20,
     "metadata": {},
     "output_type": "execute_result"
    }
   ],
   "source": [
    "def mnist_distance(a, b):\n",
    "    return (a - b).abs().mean((-1, -2))\n",
    "\n",
    "mnist_distance(a_3, mean3)"
   ]
  },
  {
   "cell_type": "code",
   "execution_count": 21,
   "id": "558221ea",
   "metadata": {},
   "outputs": [
    {
     "data": {
      "text/plain": [
       "(tensor([0.1072, 0.1188, 0.1143,  ..., 0.1141, 0.1299, 0.1079]),\n",
       " torch.Size([1010]))"
      ]
     },
     "execution_count": 21,
     "metadata": {},
     "output_type": "execute_result"
    }
   ],
   "source": [
    "valid_3_dist = mnist_distance(valid_3_tens, mean3)\n",
    "valid_3_dist, valid_3_dist.shape"
   ]
  },
  {
   "cell_type": "code",
   "execution_count": 22,
   "id": "9d76a2ab",
   "metadata": {},
   "outputs": [
    {
     "data": {
      "text/plain": [
       "(tensor(True), tensor(1.))"
      ]
     },
     "execution_count": 22,
     "metadata": {},
     "output_type": "execute_result"
    }
   ],
   "source": [
    "def is_3(x):\n",
    "    return mnist_distance(x, mean3) < mnist_distance(x, mean7)\n",
    "\n",
    "is_3(a_3), is_3(a_3).float()"
   ]
  },
  {
   "cell_type": "code",
   "execution_count": 23,
   "id": "bdf759d4",
   "metadata": {},
   "outputs": [
    {
     "data": {
      "text/plain": [
       "tensor([True, True, True,  ..., True, True, True])"
      ]
     },
     "execution_count": 23,
     "metadata": {},
     "output_type": "execute_result"
    }
   ],
   "source": [
    "is_3(valid_3_tens)"
   ]
  },
  {
   "cell_type": "code",
   "execution_count": 24,
   "id": "8b30b81c",
   "metadata": {},
   "outputs": [
    {
     "data": {
      "text/plain": [
       "(tensor(0.9168), tensor(0.9854))"
      ]
     },
     "execution_count": 24,
     "metadata": {},
     "output_type": "execute_result"
    }
   ],
   "source": [
    "accuracy_3s = is_3(valid_3_tens).float().mean()\n",
    "accuracy_7s = (1 - is_3(valid_7_tens).float()).mean()\n",
    "\n",
    "accuracy_3s, accuracy_7s"
   ]
  },
  {
   "cell_type": "markdown",
   "id": "96c1812f",
   "metadata": {},
   "source": [
    "## MNIST loss function"
   ]
  },
  {
   "cell_type": "code",
   "execution_count": 26,
   "id": "3cb9ecaf",
   "metadata": {},
   "outputs": [
    {
     "data": {
      "text/plain": [
       "(torch.Size([12396, 784]), torch.Size([12396, 1]))"
      ]
     },
     "execution_count": 26,
     "metadata": {},
     "output_type": "execute_result"
    }
   ],
   "source": [
    "train_x = torch.cat([stacked_threes, stacked_sevens]).view(-1, 28*28)\n",
    "train_y = tensor([1]*len(threes) + [0]*len(sevens)).unsqueeze(1)\n",
    "\n",
    "train_x.shape, train_y.shape"
   ]
  },
  {
   "cell_type": "code",
   "execution_count": 27,
   "id": "6f4c359e",
   "metadata": {},
   "outputs": [
    {
     "data": {
      "text/plain": [
       "(torch.Size([784]), tensor([1]))"
      ]
     },
     "execution_count": 27,
     "metadata": {},
     "output_type": "execute_result"
    }
   ],
   "source": [
    "dset = list(zip(train_x, train_y))\n",
    "x, y = dset[0]\n",
    "x.shape, y"
   ]
  },
  {
   "cell_type": "code",
   "execution_count": 28,
   "id": "1bd633c4",
   "metadata": {},
   "outputs": [],
   "source": [
    "valid_x = torch.cat([valid_3_tens, valid_7_tens]).view(-1, 28*28)\n",
    "valid_y = tensor([1]*len(valid_3_tens) + [0]*len(valid_7_tens)).unsqueeze(1)\n",
    "valid_dset = list(zip(valid_x, valid_y))"
   ]
  },
  {
   "cell_type": "code",
   "execution_count": 29,
   "id": "e7189d2e",
   "metadata": {},
   "outputs": [
    {
     "data": {
      "text/plain": [
       "torch.Size([784, 1])"
      ]
     },
     "execution_count": 29,
     "metadata": {},
     "output_type": "execute_result"
    }
   ],
   "source": [
    "def init_params(size, std=1.0):\n",
    "    return (torch.randn(size)*std).requires_grad_()\n",
    "\n",
    "weights = init_params((28*28, 1))\n",
    "weights.shape"
   ]
  },
  {
   "cell_type": "code",
   "execution_count": 30,
   "id": "bfa3f0c9",
   "metadata": {},
   "outputs": [
    {
     "data": {
      "text/plain": [
       "tensor([-0.2163], requires_grad=True)"
      ]
     },
     "execution_count": 30,
     "metadata": {},
     "output_type": "execute_result"
    }
   ],
   "source": [
    "bias = init_params(1)\n",
    "bias"
   ]
  },
  {
   "cell_type": "code",
   "execution_count": 31,
   "id": "b51dd1f2",
   "metadata": {},
   "outputs": [
    {
     "data": {
      "text/plain": [
       "tensor([5.3515], grad_fn=<AddBackward0>)"
      ]
     },
     "execution_count": 31,
     "metadata": {},
     "output_type": "execute_result"
    }
   ],
   "source": [
    "(train_x[0] * weights.T).sum() + bias"
   ]
  },
  {
   "cell_type": "code",
   "execution_count": 32,
   "id": "7e166620",
   "metadata": {},
   "outputs": [
    {
     "data": {
      "text/plain": [
       "tensor([[  5.3515],\n",
       "        [ -1.6742],\n",
       "        [-10.9377],\n",
       "        ...,\n",
       "        [ -9.9933],\n",
       "        [ -4.0259],\n",
       "        [ -6.0251]], grad_fn=<AddBackward0>)"
      ]
     },
     "execution_count": 32,
     "metadata": {},
     "output_type": "execute_result"
    }
   ],
   "source": [
    "def linear1(xb):\n",
    "    return xb@weights + bias\n",
    "\n",
    "preds = linear1(train_x)\n",
    "preds"
   ]
  },
  {
   "cell_type": "code",
   "execution_count": 33,
   "id": "0d1540d9",
   "metadata": {},
   "outputs": [
    {
     "data": {
      "text/plain": [
       "tensor([[ True],\n",
       "        [False],\n",
       "        [False],\n",
       "        ...,\n",
       "        [ True],\n",
       "        [ True],\n",
       "        [ True]])"
      ]
     },
     "execution_count": 33,
     "metadata": {},
     "output_type": "execute_result"
    }
   ],
   "source": [
    "corrects = (preds > 0.0).float() == train_y\n",
    "corrects"
   ]
  },
  {
   "cell_type": "code",
   "execution_count": 34,
   "id": "194de634",
   "metadata": {},
   "outputs": [
    {
     "data": {
      "text/plain": [
       "0.5892223119735718"
      ]
     },
     "execution_count": 34,
     "metadata": {},
     "output_type": "execute_result"
    }
   ],
   "source": [
    "corrects.float().mean().item()"
   ]
  },
  {
   "cell_type": "code",
   "execution_count": 35,
   "id": "64e0e663",
   "metadata": {},
   "outputs": [],
   "source": [
    "# weights[0] *= 1.0001\n",
    "\n",
    "# preds = linear1(train_x)\n",
    "# ((preds > 0.0).float() == train_y).float().mean().item()"
   ]
  },
  {
   "cell_type": "code",
   "execution_count": 36,
   "id": "7c38cfdb",
   "metadata": {},
   "outputs": [
    {
     "data": {
      "text/plain": [
       "tensor(0.4333)"
      ]
     },
     "execution_count": 36,
     "metadata": {},
     "output_type": "execute_result"
    }
   ],
   "source": [
    "trgts = tensor([1, 0, 1])\n",
    "prds = tensor([0.9, 0.4, 0.2])\n",
    "\n",
    "torch.where(trgts==1, 1-prds, prds).mean()"
   ]
  },
  {
   "cell_type": "code",
   "execution_count": 37,
   "id": "a2804869",
   "metadata": {},
   "outputs": [],
   "source": [
    "def plot_function(f, title=None, min=-2.1, max=2.1, color='r', ylim=None):\n",
    "    x = torch.linspace(min,max, 100)[:,None]\n",
    "    if ylim: plt.ylim(ylim)\n",
    "    plt.plot(x, f(x), color)\n",
    "    if title is not None: plt.title(title)"
   ]
  },
  {
   "cell_type": "code",
   "execution_count": 38,
   "id": "bf4a6af4",
   "metadata": {},
   "outputs": [
    {
     "data": {
      "image/png": "[encoded data removed]",
      "text/plain": [
       "<Figure size 640x480 with 1 Axes>"
      ]
     },
     "metadata": {},
     "output_type": "display_data"
    }
   ],
   "source": [
    "plot_function(torch.sigmoid, title='Sigmoid', min=-4, max=4)"
   ]
  },
  {
   "cell_type": "code",
   "execution_count": 39,
   "id": "df3c458b",
   "metadata": {},
   "outputs": [
    {
     "data": {
      "text/plain": [
       "tensor(0.4460)"
      ]
     },
     "execution_count": 39,
     "metadata": {},
     "output_type": "execute_result"
    }
   ],
   "source": [
    "def mnist_loss(predictions, targets):\n",
    "    predictions = predictions.sigmoid()\n",
    "    return torch.where(targets==1, 1-predictions, predictions).mean()\n",
    "\n",
    "mnist_loss(prds, trgts)"
   ]
  },
  {
   "cell_type": "markdown",
   "id": "9fc9e5d1",
   "metadata": {},
   "source": [
    "## SGD and mini-batches"
   ]
  },
  {
   "cell_type": "code",
   "execution_count": 40,
   "id": "ad60cb99",
   "metadata": {},
   "outputs": [
    {
     "data": {
      "text/plain": [
       "[tensor([ 1, 10, 12,  5,  8]),\n",
       " tensor([ 7,  4, 11,  3,  2]),\n",
       " tensor([ 6,  9,  0, 13, 14])]"
      ]
     },
     "execution_count": 40,
     "metadata": {},
     "output_type": "execute_result"
    }
   ],
   "source": [
    "coll = range(15)\n",
    "dl = DataLoader(coll, batch_size=5, shuffle=True)\n",
    "list(dl)"
   ]
  },
  {
   "cell_type": "code",
   "execution_count": 41,
   "id": "be310fb4",
   "metadata": {},
   "outputs": [
    {
     "data": {
      "text/plain": [
       "[(0, 10), (1, 20), (2, 30)]"
      ]
     },
     "execution_count": 41,
     "metadata": {},
     "output_type": "execute_result"
    }
   ],
   "source": [
    "list(enumerate([10, 20, 30]))"
   ]
  },
  {
   "cell_type": "code",
   "execution_count": 42,
   "id": "1ca74354",
   "metadata": {},
   "outputs": [
    {
     "data": {
      "text/plain": [
       "(#26) [(0, 'a'),(1, 'b'),(2, 'c'),(3, 'd'),(4, 'e'),(5, 'f'),(6, 'g'),(7, 'h'),(8, 'i'),(9, 'j')...]"
      ]
     },
     "execution_count": 42,
     "metadata": {},
     "output_type": "execute_result"
    }
   ],
   "source": [
    "ds = L(enumerate(string.ascii_lowercase))\n",
    "ds"
   ]
  },
  {
   "cell_type": "code",
   "execution_count": 43,
   "id": "927c46b1",
   "metadata": {},
   "outputs": [
    {
     "data": {
      "text/plain": [
       "[(tensor([22, 15, 11,  1, 17, 16]), ('w', 'p', 'l', 'b', 'r', 'q')),\n",
       " (tensor([ 8, 14, 23, 13, 20,  2]), ('i', 'o', 'x', 'n', 'u', 'c')),\n",
       " (tensor([ 3, 25,  7, 21, 24,  4]), ('d', 'z', 'h', 'v', 'y', 'e')),\n",
       " (tensor([10, 12,  0,  9, 18,  5]), ('k', 'm', 'a', 'j', 's', 'f')),\n",
       " (tensor([ 6, 19]), ('g', 't'))]"
      ]
     },
     "execution_count": 43,
     "metadata": {},
     "output_type": "execute_result"
    }
   ],
   "source": [
    "dl = DataLoader(ds, batch_size=6, shuffle=True)\n",
    "list(dl)"
   ]
  },
  {
   "cell_type": "markdown",
   "id": "cd8ae849",
   "metadata": {},
   "source": [
    "## Putting it all together"
   ]
  },
  {
   "cell_type": "code",
   "execution_count": 44,
   "id": "2e0217ee",
   "metadata": {},
   "outputs": [
    {
     "data": {
      "text/plain": [
       "(torch.Size([784, 1]), tensor([0.4890], requires_grad=True))"
      ]
     },
     "execution_count": 44,
     "metadata": {},
     "output_type": "execute_result"
    }
   ],
   "source": [
    "weights = init_params((28*28, 1))\n",
    "bias = init_params(1)\n",
    "\n",
    "weights.shape, bias"
   ]
  },
  {
   "cell_type": "code",
   "execution_count": 45,
   "id": "8b729b07",
   "metadata": {},
   "outputs": [
    {
     "data": {
      "text/plain": [
       "(torch.Size([256, 784]), torch.Size([256, 1]))"
      ]
     },
     "execution_count": 45,
     "metadata": {},
     "output_type": "execute_result"
    }
   ],
   "source": [
    "dl = DataLoader(dset, batch_size=256)\n",
    "xb, yb = first(dl)\n",
    "xb.shape, yb.shape"
   ]
  },
  {
   "cell_type": "code",
   "execution_count": 46,
   "id": "b2ebc11e",
   "metadata": {},
   "outputs": [],
   "source": [
    "??first"
   ]
  },
  {
   "cell_type": "code",
   "execution_count": 47,
   "id": "67177254",
   "metadata": {},
   "outputs": [],
   "source": [
    "valid_dl = DataLoader(valid_dset, batch_size=256)"
   ]
  },
  {
   "cell_type": "code",
   "execution_count": 48,
   "id": "071343c3",
   "metadata": {},
   "outputs": [
    {
     "data": {
      "text/plain": [
       "torch.Size([4, 784])"
      ]
     },
     "execution_count": 48,
     "metadata": {},
     "output_type": "execute_result"
    }
   ],
   "source": [
    "batch = train_x[:4]\n",
    "batch.shape"
   ]
  },
  {
   "cell_type": "code",
   "execution_count": 49,
   "id": "42c1db5d",
   "metadata": {},
   "outputs": [
    {
     "data": {
      "text/plain": [
       "tensor([[-5.6689],\n",
       "        [-6.7713],\n",
       "        [-6.9316],\n",
       "        [-6.6990]], grad_fn=<AddBackward0>)"
      ]
     },
     "execution_count": 49,
     "metadata": {},
     "output_type": "execute_result"
    }
   ],
   "source": [
    "preds = linear1(batch)\n",
    "preds"
   ]
  },
  {
   "cell_type": "code",
   "execution_count": 50,
   "id": "ff3557cc",
   "metadata": {},
   "outputs": [
    {
     "data": {
      "text/plain": [
       "tensor(0.9983, grad_fn=<MeanBackward0>)"
      ]
     },
     "execution_count": 50,
     "metadata": {},
     "output_type": "execute_result"
    }
   ],
   "source": [
    "loss = mnist_loss(preds, train_y[:4])\n",
    "loss"
   ]
  },
  {
   "cell_type": "code",
   "execution_count": 51,
   "id": "7ad75026",
   "metadata": {},
   "outputs": [
    {
     "data": {
      "text/plain": [
       "(torch.Size([784, 1]), tensor(-0.0003), tensor([-0.0017]))"
      ]
     },
     "execution_count": 51,
     "metadata": {},
     "output_type": "execute_result"
    }
   ],
   "source": [
    "loss.backward()\n",
    "weights.grad.shape, weights.grad.mean(), bias.grad"
   ]
  },
  {
   "cell_type": "code",
   "execution_count": 52,
   "id": "33a11540",
   "metadata": {},
   "outputs": [],
   "source": [
    "def calc_grad(xb, yb, model):\n",
    "    preds = model(xb)\n",
    "    loss = mnist_loss(preds, yb)\n",
    "    loss.backward()"
   ]
  },
  {
   "cell_type": "code",
   "execution_count": 53,
   "id": "108f2221",
   "metadata": {},
   "outputs": [
    {
     "data": {
      "text/plain": [
       "(tensor(-0.0005), tensor([-0.0034]))"
      ]
     },
     "execution_count": 53,
     "metadata": {},
     "output_type": "execute_result"
    }
   ],
   "source": [
    "calc_grad(batch, train_y[:4], linear1)\n",
    "weights.grad.mean(), bias.grad"
   ]
  },
  {
   "cell_type": "code",
   "execution_count": 54,
   "id": "db4a7eda",
   "metadata": {},
   "outputs": [
    {
     "data": {
      "text/plain": [
       "(tensor(-0.0008), tensor([-0.0051]))"
      ]
     },
     "execution_count": 54,
     "metadata": {},
     "output_type": "execute_result"
    }
   ],
   "source": [
    "calc_grad(batch, train_y[:4], linear1)\n",
    "weights.grad.mean(), bias.grad"
   ]
  },
  {
   "cell_type": "code",
   "execution_count": 55,
   "id": "1c409fb5",
   "metadata": {},
   "outputs": [],
   "source": [
    "weights.grad.zero_()\n",
    "bias.grad.zero_();"
   ]
  },
  {
   "cell_type": "code",
   "execution_count": 56,
   "id": "6810d027",
   "metadata": {},
   "outputs": [],
   "source": [
    "def train_epoch(model, lr, params):\n",
    "    for xb, yb in dl:\n",
    "        calc_grad(xb, yb, model)\n",
    "        for p in params:\n",
    "            p.data -= p.grad*lr\n",
    "            p.grad.zero_()"
   ]
  },
  {
   "cell_type": "code",
   "execution_count": 57,
   "id": "4831b041",
   "metadata": {},
   "outputs": [
    {
     "data": {
      "text/plain": [
       "tensor([[False],\n",
       "        [False],\n",
       "        [False],\n",
       "        [False]])"
      ]
     },
     "execution_count": 57,
     "metadata": {},
     "output_type": "execute_result"
    }
   ],
   "source": [
    "(preds>0.0).float() == train_y[:4]"
   ]
  },
  {
   "cell_type": "code",
   "execution_count": 58,
   "id": "12e1434f",
   "metadata": {},
   "outputs": [],
   "source": [
    "def batch_accuracy(xb, yb):\n",
    "    preds = xb.sigmoid()\n",
    "    correct = (preds>0.5) == yb\n",
    "    return correct.float().mean()"
   ]
  },
  {
   "cell_type": "code",
   "execution_count": 59,
   "id": "806115e6",
   "metadata": {},
   "outputs": [
    {
     "data": {
      "text/plain": [
       "tensor(0.)"
      ]
     },
     "execution_count": 59,
     "metadata": {},
     "output_type": "execute_result"
    }
   ],
   "source": [
    "batch_accuracy(linear1(batch), train_y[:4])"
   ]
  },
  {
   "cell_type": "code",
   "execution_count": 64,
   "id": "14bc4fa4",
   "metadata": {},
   "outputs": [
    {
     "data": {
      "text/plain": [
       "0.4849"
      ]
     },
     "execution_count": 64,
     "metadata": {},
     "output_type": "execute_result"
    }
   ],
   "source": [
    "def validate_epoch(model):\n",
    "    accs = [batch_accuracy(model(xb), yb) for xb, yb in valid_dl]\n",
    "    return round(torch.stack(accs).mean().item(), 4)\n",
    "\n",
    "validate_epoch(linear1)"
   ]
  },
  {
   "cell_type": "code",
   "execution_count": 66,
   "id": "1611ce6f",
   "metadata": {},
   "outputs": [
    {
     "data": {
      "text/plain": [
       "0.6274"
      ]
     },
     "execution_count": 66,
     "metadata": {},
     "output_type": "execute_result"
    }
   ],
   "source": [
    "lr = 1.\n",
    "params = weights,bias\n",
    "train_epoch(linear1, lr, params)\n",
    "validate_epoch(linear1)"
   ]
  },
  {
   "cell_type": "code",
   "execution_count": 67,
   "id": "5cd1ef74",
   "metadata": {},
   "outputs": [
    {
     "name": "stdout",
     "output_type": "stream",
     "text": [
      "0.8447 0.9135 0.9355 0.9482 0.955 0.9579 0.9603 0.9618 0.9638 0.9667 0.9682 0.9687 0.9696 0.9706 0.9716 0.9716 0.9726 0.9735 0.974 0.9745 "
     ]
    }
   ],
   "source": [
    "for i in range(20):\n",
    "    train_epoch(linear1, lr, params)\n",
    "    print(validate_epoch(linear1), end= ' ')"
   ]
  },
  {
   "cell_type": "markdown",
   "id": "e4bf83d7",
   "metadata": {},
   "source": [
    "## Creating an Optimizer"
   ]
  },
  {
   "cell_type": "code",
   "execution_count": 68,
   "id": "f89a6c14",
   "metadata": {},
   "outputs": [
    {
     "data": {
      "text/plain": [
       "(torch.Size([1, 784]), torch.Size([1]))"
      ]
     },
     "execution_count": 68,
     "metadata": {},
     "output_type": "execute_result"
    }
   ],
   "source": [
    "linear_model = nn.Linear(28*28, 1)\n",
    "\n",
    "w,b = linear_model.parameters()\n",
    "w.shape, b.shape"
   ]
  },
  {
   "cell_type": "code",
   "execution_count": 69,
   "id": "036797c7",
   "metadata": {},
   "outputs": [],
   "source": [
    "class BasicOptim:\n",
    "    def __init__(self, params, lr):\n",
    "        self.params, self.lr = list(params), lr\n",
    "    \n",
    "    def step(self, *args, **kwargs):\n",
    "        for p in self.params:\n",
    "            p.data -= p.grad.data * self.lr\n",
    "    \n",
    "    def zero_grad(self, *args, **kwargs):\n",
    "        for p in self.params:\n",
    "            p.grad = None\n",
    "            \n",
    "\n",
    "opt = BasicOptim(linear_model.parameters(), lr)\n",
    "\n",
    "def train_epoch(model):\n",
    "    for xb, yb in dl:\n",
    "        calc_grad(xb, yb, model)\n",
    "        opt.step()\n",
    "        opt.zero_grad()"
   ]
  },
  {
   "cell_type": "code",
   "execution_count": 70,
   "id": "3c15c661",
   "metadata": {},
   "outputs": [
    {
     "data": {
      "text/plain": [
       "0.4213"
      ]
     },
     "execution_count": 70,
     "metadata": {},
     "output_type": "execute_result"
    }
   ],
   "source": [
    "validate_epoch(linear_model)"
   ]
  },
  {
   "cell_type": "code",
   "execution_count": 71,
   "id": "c77df75a",
   "metadata": {},
   "outputs": [],
   "source": [
    "def train_model(model, epochs):\n",
    "    for i in range(epochs):\n",
    "        train_epoch(model)\n",
    "        print(validate_epoch(model), end=' ')"
   ]
  },
  {
   "cell_type": "code",
   "execution_count": 72,
   "id": "ffe4947b",
   "metadata": {},
   "outputs": [
    {
     "name": "stdout",
     "output_type": "stream",
     "text": [
      "0.4932 0.9466 0.7656 0.895 0.9267 0.9429 0.9536 0.9604 0.9653 0.9663 0.9687 0.9692 0.9731 0.9746 0.9755 0.9765 0.9775 0.978 0.9785 0.9785 "
     ]
    }
   ],
   "source": [
    "train_model(linear_model, 20)"
   ]
  },
  {
   "cell_type": "code",
   "execution_count": 73,
   "id": "4f7c5ee7",
   "metadata": {},
   "outputs": [],
   "source": [
    "dls = DataLoaders(dl, valid_dl)"
   ]
  },
  {
   "cell_type": "code",
   "execution_count": 74,
   "id": "96e16ab0",
   "metadata": {},
   "outputs": [],
   "source": [
    "learn = Learner(dls, nn.Linear(28*28, 1), opt_func=SGD, loss_func=mnist_loss, metrics=batch_accuracy)"
   ]
  },
  {
   "cell_type": "code",
   "execution_count": 80,
   "id": "5bc67379",
   "metadata": {},
   "outputs": [
    {
     "data": {
      "text/html": [
       "\n",
       "<style>\n",
       "    /* Turns off some styling */\n",
       "    progress {\n",
       "        /* gets rid of default border in Firefox and Opera. */\n",
       "        border: none;\n",
       "        /* Needs to be in here for Safari polyfill so background images work as expected. */\n",
       "        background-size: auto;\n",
       "    }\n",
       "    progress:not([value]), progress:not([value])::-webkit-progress-bar {\n",
       "        background: repeating-linear-gradient(45deg, #7e7e7e, #7e7e7e 10px, #5c5c5c 10px, #5c5c5c 20px);\n",
       "    }\n",
       "    .progress-bar-interrupted, .progress-bar-interrupted::-webkit-progress-bar {\n",
       "        background: #F44336;\n",
       "    }\n",
       "</style>\n"
      ],
      "text/plain": [
       "<IPython.core.display.HTML object>"
      ]
     },
     "metadata": {},
     "output_type": "display_data"
    },
    {
     "data": {
      "text/html": [
       "<table border=\"1\" class=\"dataframe\">\n",
       "  <thead>\n",
       "    <tr style=\"text-align: left;\">\n",
       "      <th>epoch</th>\n",
       "      <th>train_loss</th>\n",
       "      <th>valid_loss</th>\n",
       "      <th>batch_accuracy</th>\n",
       "      <th>time</th>\n",
       "    </tr>\n",
       "  </thead>\n",
       "  <tbody>\n",
       "    <tr>\n",
       "      <td>0</td>\n",
       "      <td>0.013063</td>\n",
       "      <td>0.022027</td>\n",
       "      <td>0.981845</td>\n",
       "      <td>00:00</td>\n",
       "    </tr>\n",
       "    <tr>\n",
       "      <td>1</td>\n",
       "      <td>0.013002</td>\n",
       "      <td>0.021831</td>\n",
       "      <td>0.981845</td>\n",
       "      <td>00:00</td>\n",
       "    </tr>\n",
       "    <tr>\n",
       "      <td>2</td>\n",
       "      <td>0.012934</td>\n",
       "      <td>0.021649</td>\n",
       "      <td>0.981354</td>\n",
       "      <td>00:00</td>\n",
       "    </tr>\n",
       "    <tr>\n",
       "      <td>3</td>\n",
       "      <td>0.012861</td>\n",
       "      <td>0.021478</td>\n",
       "      <td>0.980864</td>\n",
       "      <td>00:00</td>\n",
       "    </tr>\n",
       "    <tr>\n",
       "      <td>4</td>\n",
       "      <td>0.012786</td>\n",
       "      <td>0.021317</td>\n",
       "      <td>0.980864</td>\n",
       "      <td>00:00</td>\n",
       "    </tr>\n",
       "    <tr>\n",
       "      <td>5</td>\n",
       "      <td>0.012712</td>\n",
       "      <td>0.021167</td>\n",
       "      <td>0.981354</td>\n",
       "      <td>00:00</td>\n",
       "    </tr>\n",
       "    <tr>\n",
       "      <td>6</td>\n",
       "      <td>0.012638</td>\n",
       "      <td>0.021025</td>\n",
       "      <td>0.981354</td>\n",
       "      <td>00:00</td>\n",
       "    </tr>\n",
       "    <tr>\n",
       "      <td>7</td>\n",
       "      <td>0.012566</td>\n",
       "      <td>0.020891</td>\n",
       "      <td>0.981354</td>\n",
       "      <td>00:00</td>\n",
       "    </tr>\n",
       "    <tr>\n",
       "      <td>8</td>\n",
       "      <td>0.012496</td>\n",
       "      <td>0.020764</td>\n",
       "      <td>0.981354</td>\n",
       "      <td>00:00</td>\n",
       "    </tr>\n",
       "    <tr>\n",
       "      <td>9</td>\n",
       "      <td>0.012427</td>\n",
       "      <td>0.020643</td>\n",
       "      <td>0.981354</td>\n",
       "      <td>00:00</td>\n",
       "    </tr>\n",
       "  </tbody>\n",
       "</table>"
      ],
      "text/plain": [
       "<IPython.core.display.HTML object>"
      ]
     },
     "metadata": {},
     "output_type": "display_data"
    }
   ],
   "source": [
    "learn.fit(10, lr=lr)"
   ]
  },
  {
   "cell_type": "markdown",
   "id": "c2c02255",
   "metadata": {},
   "source": [
    "## Adding a Nonlinearity"
   ]
  },
  {
   "cell_type": "code",
   "execution_count": 88,
   "id": "b0e87a50",
   "metadata": {},
   "outputs": [],
   "source": [
    "def simple_net(xb):\n",
    "    res = xb@w1 + b1\n",
    "    res = res.max(tensor(0.0))\n",
    "    res = res@w2 + b2\n",
    "    return res\n",
    "\n",
    "w1 = init_params((28*28, 30))\n",
    "b1 = init_params(30)\n",
    "w2 = init_params((30, 1))\n",
    "b2 = init_params(1)"
   ]
  },
  {
   "cell_type": "code",
   "execution_count": 89,
   "id": "42b3da2a",
   "metadata": {},
   "outputs": [
    {
     "data": {
      "image/png": "[encoded data removed]",
      "text/plain": [
       "<Figure size 640x480 with 1 Axes>"
      ]
     },
     "metadata": {},
     "output_type": "display_data"
    }
   ],
   "source": [
    "plot_function(F.relu)"
   ]
  },
  {
   "cell_type": "code",
   "execution_count": 90,
   "id": "0b582d1a",
   "metadata": {},
   "outputs": [],
   "source": [
    "simple_net = nn.Sequential(\n",
    "    nn.Linear(28*28, 30),\n",
    "    nn.ReLU(),\n",
    "    nn.Linear(30, 1),\n",
    ")"
   ]
  },
  {
   "cell_type": "code",
   "execution_count": 91,
   "id": "d4716abc",
   "metadata": {},
   "outputs": [
    {
     "data": {
      "text/html": [
       "\n",
       "<style>\n",
       "    /* Turns off some styling */\n",
       "    progress {\n",
       "        /* gets rid of default border in Firefox and Opera. */\n",
       "        border: none;\n",
       "        /* Needs to be in here for Safari polyfill so background images work as expected. */\n",
       "        background-size: auto;\n",
       "    }\n",
       "    progress:not([value]), progress:not([value])::-webkit-progress-bar {\n",
       "        background: repeating-linear-gradient(45deg, #7e7e7e, #7e7e7e 10px, #5c5c5c 10px, #5c5c5c 20px);\n",
       "    }\n",
       "    .progress-bar-interrupted, .progress-bar-interrupted::-webkit-progress-bar {\n",
       "        background: #F44336;\n",
       "    }\n",
       "</style>\n"
      ],
      "text/plain": [
       "<IPython.core.display.HTML object>"
      ]
     },
     "metadata": {},
     "output_type": "display_data"
    },
    {
     "data": {
      "text/html": [
       "<table border=\"1\" class=\"dataframe\">\n",
       "  <thead>\n",
       "    <tr style=\"text-align: left;\">\n",
       "      <th>epoch</th>\n",
       "      <th>train_loss</th>\n",
       "      <th>valid_loss</th>\n",
       "      <th>batch_accuracy</th>\n",
       "      <th>time</th>\n",
       "    </tr>\n",
       "  </thead>\n",
       "  <tbody>\n",
       "    <tr>\n",
       "      <td>0</td>\n",
       "      <td>0.357114</td>\n",
       "      <td>0.391439</td>\n",
       "      <td>0.524534</td>\n",
       "      <td>00:00</td>\n",
       "    </tr>\n",
       "    <tr>\n",
       "      <td>1</td>\n",
       "      <td>0.161235</td>\n",
       "      <td>0.248457</td>\n",
       "      <td>0.777233</td>\n",
       "      <td>00:00</td>\n",
       "    </tr>\n",
       "    <tr>\n",
       "      <td>2</td>\n",
       "      <td>0.087146</td>\n",
       "      <td>0.122140</td>\n",
       "      <td>0.909715</td>\n",
       "      <td>00:00</td>\n",
       "    </tr>\n",
       "    <tr>\n",
       "      <td>3</td>\n",
       "      <td>0.055749</td>\n",
       "      <td>0.080945</td>\n",
       "      <td>0.938665</td>\n",
       "      <td>00:00</td>\n",
       "    </tr>\n",
       "    <tr>\n",
       "      <td>4</td>\n",
       "      <td>0.041398</td>\n",
       "      <td>0.062618</td>\n",
       "      <td>0.953386</td>\n",
       "      <td>00:00</td>\n",
       "    </tr>\n",
       "    <tr>\n",
       "      <td>5</td>\n",
       "      <td>0.034209</td>\n",
       "      <td>0.052454</td>\n",
       "      <td>0.965162</td>\n",
       "      <td>00:00</td>\n",
       "    </tr>\n",
       "    <tr>\n",
       "      <td>6</td>\n",
       "      <td>0.030170</td>\n",
       "      <td>0.046073</td>\n",
       "      <td>0.966143</td>\n",
       "      <td>00:00</td>\n",
       "    </tr>\n",
       "    <tr>\n",
       "      <td>7</td>\n",
       "      <td>0.027600</td>\n",
       "      <td>0.041721</td>\n",
       "      <td>0.967615</td>\n",
       "      <td>00:00</td>\n",
       "    </tr>\n",
       "    <tr>\n",
       "      <td>8</td>\n",
       "      <td>0.025776</td>\n",
       "      <td>0.038563</td>\n",
       "      <td>0.969578</td>\n",
       "      <td>00:00</td>\n",
       "    </tr>\n",
       "    <tr>\n",
       "      <td>9</td>\n",
       "      <td>0.024381</td>\n",
       "      <td>0.036152</td>\n",
       "      <td>0.970559</td>\n",
       "      <td>00:00</td>\n",
       "    </tr>\n",
       "    <tr>\n",
       "      <td>10</td>\n",
       "      <td>0.023258</td>\n",
       "      <td>0.034242</td>\n",
       "      <td>0.972522</td>\n",
       "      <td>00:00</td>\n",
       "    </tr>\n",
       "    <tr>\n",
       "      <td>11</td>\n",
       "      <td>0.022325</td>\n",
       "      <td>0.032684</td>\n",
       "      <td>0.974485</td>\n",
       "      <td>00:00</td>\n",
       "    </tr>\n",
       "    <tr>\n",
       "      <td>12</td>\n",
       "      <td>0.021533</td>\n",
       "      <td>0.031380</td>\n",
       "      <td>0.975466</td>\n",
       "      <td>00:00</td>\n",
       "    </tr>\n",
       "    <tr>\n",
       "      <td>13</td>\n",
       "      <td>0.020849</td>\n",
       "      <td>0.030266</td>\n",
       "      <td>0.975466</td>\n",
       "      <td>00:00</td>\n",
       "    </tr>\n",
       "    <tr>\n",
       "      <td>14</td>\n",
       "      <td>0.020250</td>\n",
       "      <td>0.029301</td>\n",
       "      <td>0.975957</td>\n",
       "      <td>00:00</td>\n",
       "    </tr>\n",
       "    <tr>\n",
       "      <td>15</td>\n",
       "      <td>0.019721</td>\n",
       "      <td>0.028451</td>\n",
       "      <td>0.976448</td>\n",
       "      <td>00:00</td>\n",
       "    </tr>\n",
       "    <tr>\n",
       "      <td>16</td>\n",
       "      <td>0.019248</td>\n",
       "      <td>0.027697</td>\n",
       "      <td>0.976938</td>\n",
       "      <td>00:00</td>\n",
       "    </tr>\n",
       "    <tr>\n",
       "      <td>17</td>\n",
       "      <td>0.018822</td>\n",
       "      <td>0.027020</td>\n",
       "      <td>0.977920</td>\n",
       "      <td>00:00</td>\n",
       "    </tr>\n",
       "    <tr>\n",
       "      <td>18</td>\n",
       "      <td>0.018436</td>\n",
       "      <td>0.026411</td>\n",
       "      <td>0.978410</td>\n",
       "      <td>00:00</td>\n",
       "    </tr>\n",
       "    <tr>\n",
       "      <td>19</td>\n",
       "      <td>0.018083</td>\n",
       "      <td>0.025860</td>\n",
       "      <td>0.978410</td>\n",
       "      <td>00:00</td>\n",
       "    </tr>\n",
       "    <tr>\n",
       "      <td>20</td>\n",
       "      <td>0.017759</td>\n",
       "      <td>0.025357</td>\n",
       "      <td>0.978901</td>\n",
       "      <td>00:00</td>\n",
       "    </tr>\n",
       "    <tr>\n",
       "      <td>21</td>\n",
       "      <td>0.017460</td>\n",
       "      <td>0.024898</td>\n",
       "      <td>0.979392</td>\n",
       "      <td>00:00</td>\n",
       "    </tr>\n",
       "    <tr>\n",
       "      <td>22</td>\n",
       "      <td>0.017182</td>\n",
       "      <td>0.024477</td>\n",
       "      <td>0.979882</td>\n",
       "      <td>00:00</td>\n",
       "    </tr>\n",
       "    <tr>\n",
       "      <td>23</td>\n",
       "      <td>0.016922</td>\n",
       "      <td>0.024090</td>\n",
       "      <td>0.980864</td>\n",
       "      <td>00:00</td>\n",
       "    </tr>\n",
       "    <tr>\n",
       "      <td>24</td>\n",
       "      <td>0.016679</td>\n",
       "      <td>0.023732</td>\n",
       "      <td>0.980864</td>\n",
       "      <td>00:00</td>\n",
       "    </tr>\n",
       "    <tr>\n",
       "      <td>25</td>\n",
       "      <td>0.016450</td>\n",
       "      <td>0.023402</td>\n",
       "      <td>0.980864</td>\n",
       "      <td>00:00</td>\n",
       "    </tr>\n",
       "    <tr>\n",
       "      <td>26</td>\n",
       "      <td>0.016234</td>\n",
       "      <td>0.023096</td>\n",
       "      <td>0.981845</td>\n",
       "      <td>00:00</td>\n",
       "    </tr>\n",
       "    <tr>\n",
       "      <td>27</td>\n",
       "      <td>0.016030</td>\n",
       "      <td>0.022811</td>\n",
       "      <td>0.981845</td>\n",
       "      <td>00:00</td>\n",
       "    </tr>\n",
       "    <tr>\n",
       "      <td>28</td>\n",
       "      <td>0.015836</td>\n",
       "      <td>0.022546</td>\n",
       "      <td>0.982336</td>\n",
       "      <td>00:00</td>\n",
       "    </tr>\n",
       "    <tr>\n",
       "      <td>29</td>\n",
       "      <td>0.015652</td>\n",
       "      <td>0.022300</td>\n",
       "      <td>0.982336</td>\n",
       "      <td>00:00</td>\n",
       "    </tr>\n",
       "    <tr>\n",
       "      <td>30</td>\n",
       "      <td>0.015476</td>\n",
       "      <td>0.022069</td>\n",
       "      <td>0.982336</td>\n",
       "      <td>00:00</td>\n",
       "    </tr>\n",
       "    <tr>\n",
       "      <td>31</td>\n",
       "      <td>0.015308</td>\n",
       "      <td>0.021854</td>\n",
       "      <td>0.982336</td>\n",
       "      <td>00:00</td>\n",
       "    </tr>\n",
       "    <tr>\n",
       "      <td>32</td>\n",
       "      <td>0.015148</td>\n",
       "      <td>0.021653</td>\n",
       "      <td>0.982826</td>\n",
       "      <td>00:00</td>\n",
       "    </tr>\n",
       "    <tr>\n",
       "      <td>33</td>\n",
       "      <td>0.014994</td>\n",
       "      <td>0.021465</td>\n",
       "      <td>0.982826</td>\n",
       "      <td>00:00</td>\n",
       "    </tr>\n",
       "    <tr>\n",
       "      <td>34</td>\n",
       "      <td>0.014846</td>\n",
       "      <td>0.021288</td>\n",
       "      <td>0.982826</td>\n",
       "      <td>00:00</td>\n",
       "    </tr>\n",
       "    <tr>\n",
       "      <td>35</td>\n",
       "      <td>0.014705</td>\n",
       "      <td>0.021122</td>\n",
       "      <td>0.982826</td>\n",
       "      <td>00:00</td>\n",
       "    </tr>\n",
       "    <tr>\n",
       "      <td>36</td>\n",
       "      <td>0.014568</td>\n",
       "      <td>0.020965</td>\n",
       "      <td>0.982826</td>\n",
       "      <td>00:00</td>\n",
       "    </tr>\n",
       "    <tr>\n",
       "      <td>37</td>\n",
       "      <td>0.014437</td>\n",
       "      <td>0.020818</td>\n",
       "      <td>0.982826</td>\n",
       "      <td>00:00</td>\n",
       "    </tr>\n",
       "    <tr>\n",
       "      <td>38</td>\n",
       "      <td>0.014310</td>\n",
       "      <td>0.020678</td>\n",
       "      <td>0.982826</td>\n",
       "      <td>00:00</td>\n",
       "    </tr>\n",
       "    <tr>\n",
       "      <td>39</td>\n",
       "      <td>0.014188</td>\n",
       "      <td>0.020546</td>\n",
       "      <td>0.982826</td>\n",
       "      <td>00:00</td>\n",
       "    </tr>\n",
       "  </tbody>\n",
       "</table>"
      ],
      "text/plain": [
       "<IPython.core.display.HTML object>"
      ]
     },
     "metadata": {},
     "output_type": "display_data"
    }
   ],
   "source": [
    "learn = Learner(dls, simple_net, opt_func=SGD, loss_func=mnist_loss, metrics=batch_accuracy)\n",
    "learn.fit(40, 0.1)"
   ]
  },
  {
   "cell_type": "code",
   "execution_count": 97,
   "id": "6e597c4c",
   "metadata": {},
   "outputs": [
    {
     "data": {
      "text/plain": [
       "[<matplotlib.lines.Line2D at 0x7f73ccaeb850>]"
      ]
     },
     "execution_count": 97,
     "metadata": {},
     "output_type": "execute_result"
    },
    {
     "data": {
      "image/png": "[encoded data removed]",
      "text/plain": [
       "<Figure size 640x480 with 1 Axes>"
      ]
     },
     "metadata": {},
     "output_type": "display_data"
    }
   ],
   "source": [
    "plt.plot(L(learn.recorder.values).itemgot(2))"
   ]
  },
  {
   "cell_type": "code",
   "execution_count": 98,
   "id": "7ee1ed2a",
   "metadata": {},
   "outputs": [
    {
     "data": {
      "text/plain": [
       "0.982826292514801"
      ]
     },
     "execution_count": 98,
     "metadata": {},
     "output_type": "execute_result"
    }
   ],
   "source": [
    "learn.recorder.values[-1][2]"
   ]
  },
  {
   "cell_type": "code",
   "execution_count": 99,
   "id": "72d16bc6",
   "metadata": {},
   "outputs": [
    {
     "name": "stderr",
     "output_type": "stream",
     "text": [
      "/home/jvinarek/mambaforge/lib/python3.10/site-packages/fastai/vision/learner.py:288: UserWarning: `cnn_learner` has been renamed to `vision_learner` -- please update your code\n",
      "  warn(\"`cnn_learner` has been renamed to `vision_learner` -- please update your code\")\n",
      "/home/jvinarek/mambaforge/lib/python3.10/site-packages/torchvision/models/_utils.py:208: UserWarning: The parameter 'pretrained' is deprecated since 0.13 and may be removed in the future, please use 'weights' instead.\n",
      "  warnings.warn(\n",
      "/home/jvinarek/mambaforge/lib/python3.10/site-packages/torchvision/models/_utils.py:223: UserWarning: Arguments other than a weight enum or `None` for 'weights' are deprecated since 0.13 and may be removed in the future. The current behavior is equivalent to passing `weights=None`.\n",
      "  warnings.warn(msg)\n"
     ]
    },
    {
     "data": {
      "text/html": [
       "\n",
       "<style>\n",
       "    /* Turns off some styling */\n",
       "    progress {\n",
       "        /* gets rid of default border in Firefox and Opera. */\n",
       "        border: none;\n",
       "        /* Needs to be in here for Safari polyfill so background images work as expected. */\n",
       "        background-size: auto;\n",
       "    }\n",
       "    progress:not([value]), progress:not([value])::-webkit-progress-bar {\n",
       "        background: repeating-linear-gradient(45deg, #7e7e7e, #7e7e7e 10px, #5c5c5c 10px, #5c5c5c 20px);\n",
       "    }\n",
       "    .progress-bar-interrupted, .progress-bar-interrupted::-webkit-progress-bar {\n",
       "        background: #F44336;\n",
       "    }\n",
       "</style>\n"
      ],
      "text/plain": [
       "<IPython.core.display.HTML object>"
      ]
     },
     "metadata": {},
     "output_type": "display_data"
    },
    {
     "data": {
      "text/html": [
       "<table border=\"1\" class=\"dataframe\">\n",
       "  <thead>\n",
       "    <tr style=\"text-align: left;\">\n",
       "      <th>epoch</th>\n",
       "      <th>train_loss</th>\n",
       "      <th>valid_loss</th>\n",
       "      <th>accuracy</th>\n",
       "      <th>time</th>\n",
       "    </tr>\n",
       "  </thead>\n",
       "  <tbody>\n",
       "    <tr>\n",
       "      <td>0</td>\n",
       "      <td>0.114088</td>\n",
       "      <td>0.013936</td>\n",
       "      <td>0.996565</td>\n",
       "      <td>01:24</td>\n",
       "    </tr>\n",
       "  </tbody>\n",
       "</table>"
      ],
      "text/plain": [
       "<IPython.core.display.HTML object>"
      ]
     },
     "metadata": {},
     "output_type": "display_data"
    }
   ],
   "source": [
    "dls = ImageDataLoaders.from_folder(path)\n",
    "learn = cnn_learner(dls, resnet18, pretrained=False, loss_func=F.cross_entropy, metrics=accuracy)\n",
    "learn.fit_one_cycle(1, 0.1)"
   ]
  },
  {
   "cell_type": "code",
   "execution_count": null,
   "id": "398746c8",
   "metadata": {},
   "outputs": [],
   "source": []
  }
 ],
 "metadata": {
  "kernelspec": {
   "display_name": "Python 3 (ipykernel)",
   "language": "python",
   "name": "python3"
  },
  "language_info": {
   "codemirror_mode": {
    "name": "ipython",
    "version": 3
   },
   "file_extension": ".py",
   "mimetype": "text/x-python",
   "name": "python",
   "nbconvert_exporter": "python",
   "pygments_lexer": "ipython3",
   "version": "3.10.9"
  }
 },
 "nbformat": 4,
 "nbformat_minor": 5
}
