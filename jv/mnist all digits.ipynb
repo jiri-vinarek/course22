{
 "cells": [
  {
   "cell_type": "code",
   "execution_count": 1,
   "id": "e504dd24",
   "metadata": {},
   "outputs": [],
   "source": [
    "from fastai.basics import *\n",
    "\n",
    "path = untar_data(URLs.MNIST)"
   ]
  },
  {
   "cell_type": "code",
   "execution_count": 2,
   "id": "6b2f4c9a",
   "metadata": {},
   "outputs": [
    {
     "data": {
      "text/plain": [
       "(#2) [Path('/home/jvinarek/.fastai/data/mnist_png/training'),Path('/home/jvinarek/.fastai/data/mnist_png/testing')]"
      ]
     },
     "execution_count": 2,
     "metadata": {},
     "output_type": "execute_result"
    }
   ],
   "source": [
    "path.ls()"
   ]
  },
  {
   "cell_type": "code",
   "execution_count": 3,
   "id": "7f374596",
   "metadata": {},
   "outputs": [
    {
     "data": {
      "text/plain": [
       "(#10) [Path('/home/jvinarek/.fastai/data/mnist_png/training/9'),Path('/home/jvinarek/.fastai/data/mnist_png/training/1'),Path('/home/jvinarek/.fastai/data/mnist_png/training/6'),Path('/home/jvinarek/.fastai/data/mnist_png/training/3'),Path('/home/jvinarek/.fastai/data/mnist_png/training/7'),Path('/home/jvinarek/.fastai/data/mnist_png/training/5'),Path('/home/jvinarek/.fastai/data/mnist_png/training/0'),Path('/home/jvinarek/.fastai/data/mnist_png/training/2'),Path('/home/jvinarek/.fastai/data/mnist_png/training/4'),Path('/home/jvinarek/.fastai/data/mnist_png/training/8')]"
      ]
     },
     "execution_count": 3,
     "metadata": {},
     "output_type": "execute_result"
    }
   ],
   "source": [
    "(path/'training').ls()"
   ]
  },
  {
   "cell_type": "code",
   "execution_count": 4,
   "id": "a4b99222",
   "metadata": {},
   "outputs": [
    {
     "data": {
      "text/plain": [
       "(#5949) [Path('/home/jvinarek/.fastai/data/mnist_png/training/9/10003.png'),Path('/home/jvinarek/.fastai/data/mnist_png/training/9/10004.png'),Path('/home/jvinarek/.fastai/data/mnist_png/training/9/10023.png'),Path('/home/jvinarek/.fastai/data/mnist_png/training/9/10028.png'),Path('/home/jvinarek/.fastai/data/mnist_png/training/9/10038.png'),Path('/home/jvinarek/.fastai/data/mnist_png/training/9/10043.png'),Path('/home/jvinarek/.fastai/data/mnist_png/training/9/10047.png'),Path('/home/jvinarek/.fastai/data/mnist_png/training/9/1005.png'),Path('/home/jvinarek/.fastai/data/mnist_png/training/9/10055.png'),Path('/home/jvinarek/.fastai/data/mnist_png/training/9/10059.png')...]"
      ]
     },
     "execution_count": 4,
     "metadata": {},
     "output_type": "execute_result"
    }
   ],
   "source": [
    "digits = { d: (path/'training'/f'{d}').ls().sorted() for d in range(0, 10)}\n",
    "digits[9]"
   ]
  },
  {
   "cell_type": "code",
   "execution_count": 5,
   "id": "e417361e",
   "metadata": {},
   "outputs": [
    {
     "data": {
      "image/png": "[encoded data removed]",
      "text/plain": [
       "<PIL.PngImagePlugin.PngImageFile image mode=L size=28x28>"
      ]
     },
     "execution_count": 5,
     "metadata": {},
     "output_type": "execute_result"
    }
   ],
   "source": [
    "from fastai.vision.all import *\n",
    "\n",
    "im3_path = digits[3][1]\n",
    "im3 = Image.open(im3_path)\n",
    "im3"
   ]
  },
  {
   "cell_type": "code",
   "execution_count": 6,
   "id": "92122332",
   "metadata": {},
   "outputs": [
    {
     "data": {
      "text/plain": [
       "array([[  0,   0,   0,   0,   0,   0],\n",
       "       [  0,   0,   0,   0,   0,  29],\n",
       "       [  0,   0,   0,  48, 166, 224],\n",
       "       [  0,  93, 244, 249, 253, 187],\n",
       "       [  0, 107, 253, 253, 230,  48],\n",
       "       [  0,   3,  20,  20,  15,   0]], dtype=uint8)"
      ]
     },
     "execution_count": 6,
     "metadata": {},
     "output_type": "execute_result"
    }
   ],
   "source": [
    "array(im3)[4:10, 4:10]"
   ]
  },
  {
   "cell_type": "code",
   "execution_count": 7,
   "id": "faa86dfd",
   "metadata": {},
   "outputs": [
    {
     "data": {
      "text/plain": [
       "tensor([[  0,   0,   0,   0,   0,   0],\n",
       "        [  0,   0,   0,   0,   0,  29],\n",
       "        [  0,   0,   0,  48, 166, 224],\n",
       "        [  0,  93, 244, 249, 253, 187],\n",
       "        [  0, 107, 253, 253, 230,  48],\n",
       "        [  0,   3,  20,  20,  15,   0]], dtype=torch.uint8)"
      ]
     },
     "execution_count": 7,
     "metadata": {},
     "output_type": "execute_result"
    }
   ],
   "source": [
    "tensor(im3)[4:10, 4:10]"
   ]
  },
  {
   "cell_type": "code",
   "execution_count": 8,
   "id": "8a1bbbd5",
   "metadata": {},
   "outputs": [
    {
     "data": {
      "text/html": [
       "<style type=\"text/css\">\n",
       "#T_c2de9_row0_col0, #T_c2de9_row0_col1, #T_c2de9_row0_col2, #T_c2de9_row0_col3, #T_c2de9_row0_col4, #T_c2de9_row0_col5, #T_c2de9_row0_col6, #T_c2de9_row0_col7, #T_c2de9_row0_col8, #T_c2de9_row0_col9, #T_c2de9_row0_col10, #T_c2de9_row0_col11, #T_c2de9_row0_col12, #T_c2de9_row0_col13, #T_c2de9_row0_col14, #T_c2de9_row0_col15, #T_c2de9_row0_col16, #T_c2de9_row0_col17, #T_c2de9_row1_col0, #T_c2de9_row1_col1, #T_c2de9_row1_col2, #T_c2de9_row1_col3, #T_c2de9_row1_col4, #T_c2de9_row1_col15, #T_c2de9_row1_col16, #T_c2de9_row1_col17, #T_c2de9_row2_col0, #T_c2de9_row2_col1, #T_c2de9_row2_col2, #T_c2de9_row2_col15, #T_c2de9_row2_col16, #T_c2de9_row2_col17, #T_c2de9_row3_col0, #T_c2de9_row3_col15, #T_c2de9_row3_col16, #T_c2de9_row3_col17, #T_c2de9_row4_col0, #T_c2de9_row4_col6, #T_c2de9_row4_col7, #T_c2de9_row4_col8, #T_c2de9_row4_col9, #T_c2de9_row4_col10, #T_c2de9_row4_col15, #T_c2de9_row4_col16, #T_c2de9_row4_col17, #T_c2de9_row5_col0, #T_c2de9_row5_col5, #T_c2de9_row5_col6, #T_c2de9_row5_col7, #T_c2de9_row5_col8, #T_c2de9_row5_col9, #T_c2de9_row5_col15, #T_c2de9_row5_col16, #T_c2de9_row5_col17, #T_c2de9_row6_col0, #T_c2de9_row6_col1, #T_c2de9_row6_col2, #T_c2de9_row6_col3, #T_c2de9_row6_col4, #T_c2de9_row6_col5, #T_c2de9_row6_col6, #T_c2de9_row6_col7, #T_c2de9_row6_col8, #T_c2de9_row6_col9, #T_c2de9_row6_col14, #T_c2de9_row6_col15, #T_c2de9_row6_col16, #T_c2de9_row6_col17, #T_c2de9_row7_col0, #T_c2de9_row7_col1, #T_c2de9_row7_col2, #T_c2de9_row7_col3, #T_c2de9_row7_col4, #T_c2de9_row7_col5, #T_c2de9_row7_col6, #T_c2de9_row7_col13, #T_c2de9_row7_col14, #T_c2de9_row7_col15, #T_c2de9_row7_col16, #T_c2de9_row7_col17, #T_c2de9_row8_col0, #T_c2de9_row8_col1, #T_c2de9_row8_col2, #T_c2de9_row8_col3, #T_c2de9_row8_col4, #T_c2de9_row8_col13, #T_c2de9_row8_col14, #T_c2de9_row8_col15, #T_c2de9_row8_col16, #T_c2de9_row8_col17, #T_c2de9_row9_col0, #T_c2de9_row9_col1, #T_c2de9_row9_col2, #T_c2de9_row9_col3, #T_c2de9_row9_col4, #T_c2de9_row9_col16, #T_c2de9_row9_col17, #T_c2de9_row10_col0, #T_c2de9_row10_col1, #T_c2de9_row10_col2, #T_c2de9_row10_col3, #T_c2de9_row10_col4, #T_c2de9_row10_col5, #T_c2de9_row10_col6, #T_c2de9_row10_col17, #T_c2de9_row11_col0, #T_c2de9_row11_col1, #T_c2de9_row11_col2, #T_c2de9_row11_col3, #T_c2de9_row11_col4, #T_c2de9_row11_col5, #T_c2de9_row11_col6, #T_c2de9_row11_col7, #T_c2de9_row11_col8, #T_c2de9_row11_col9, #T_c2de9_row11_col17, #T_c2de9_row12_col0, #T_c2de9_row12_col1, #T_c2de9_row12_col2, #T_c2de9_row12_col3, #T_c2de9_row12_col4, #T_c2de9_row12_col5, #T_c2de9_row12_col6, #T_c2de9_row12_col7, #T_c2de9_row12_col8, #T_c2de9_row12_col9, #T_c2de9_row12_col10, #T_c2de9_row12_col11, #T_c2de9_row12_col12, #T_c2de9_row12_col17, #T_c2de9_row13_col0, #T_c2de9_row13_col1, #T_c2de9_row13_col2, #T_c2de9_row13_col3, #T_c2de9_row13_col4, #T_c2de9_row13_col5, #T_c2de9_row13_col6, #T_c2de9_row13_col7, #T_c2de9_row13_col8, #T_c2de9_row13_col9, #T_c2de9_row13_col10, #T_c2de9_row13_col11, #T_c2de9_row13_col12, #T_c2de9_row13_col17, #T_c2de9_row14_col0, #T_c2de9_row14_col1, #T_c2de9_row14_col2, #T_c2de9_row14_col3, #T_c2de9_row14_col4, #T_c2de9_row14_col5, #T_c2de9_row14_col6, #T_c2de9_row14_col7, #T_c2de9_row14_col8, #T_c2de9_row14_col9, #T_c2de9_row14_col10, #T_c2de9_row14_col11, #T_c2de9_row14_col17, #T_c2de9_row15_col0, #T_c2de9_row15_col1, #T_c2de9_row15_col2, #T_c2de9_row15_col3, #T_c2de9_row15_col4, #T_c2de9_row15_col5, #T_c2de9_row15_col6, #T_c2de9_row15_col7, #T_c2de9_row15_col8, #T_c2de9_row15_col9, #T_c2de9_row15_col10, #T_c2de9_row15_col17, #T_c2de9_row16_col0, #T_c2de9_row16_col1, #T_c2de9_row16_col2, #T_c2de9_row16_col3, #T_c2de9_row16_col4, #T_c2de9_row16_col5, #T_c2de9_row16_col6, #T_c2de9_row16_col7, #T_c2de9_row16_col8, #T_c2de9_row16_col9, #T_c2de9_row16_col16, #T_c2de9_row16_col17, #T_c2de9_row17_col0, #T_c2de9_row17_col1, #T_c2de9_row17_col2, #T_c2de9_row17_col3, #T_c2de9_row17_col4, #T_c2de9_row17_col5, #T_c2de9_row17_col6, #T_c2de9_row17_col7, #T_c2de9_row17_col15, #T_c2de9_row17_col16, #T_c2de9_row17_col17, #T_c2de9_row18_col0, #T_c2de9_row18_col1, #T_c2de9_row18_col14, #T_c2de9_row18_col15, #T_c2de9_row18_col16, #T_c2de9_row18_col17, #T_c2de9_row19_col0, #T_c2de9_row19_col1, #T_c2de9_row19_col12, #T_c2de9_row19_col13, #T_c2de9_row19_col14, #T_c2de9_row19_col15, #T_c2de9_row19_col16, #T_c2de9_row19_col17, #T_c2de9_row20_col0, #T_c2de9_row20_col1, #T_c2de9_row20_col10, #T_c2de9_row20_col11, #T_c2de9_row20_col12, #T_c2de9_row20_col13, #T_c2de9_row20_col14, #T_c2de9_row20_col15, #T_c2de9_row20_col16, #T_c2de9_row20_col17, #T_c2de9_row21_col0, #T_c2de9_row21_col1, #T_c2de9_row21_col2, #T_c2de9_row21_col3, #T_c2de9_row21_col4, #T_c2de9_row21_col5, #T_c2de9_row21_col6, #T_c2de9_row21_col7, #T_c2de9_row21_col8, #T_c2de9_row21_col9, #T_c2de9_row21_col10, #T_c2de9_row21_col11, #T_c2de9_row21_col12, #T_c2de9_row21_col13, #T_c2de9_row21_col14, #T_c2de9_row21_col15, #T_c2de9_row21_col16, #T_c2de9_row21_col17, #T_c2de9_row22_col0, #T_c2de9_row22_col1, #T_c2de9_row22_col2, #T_c2de9_row22_col3, #T_c2de9_row22_col4, #T_c2de9_row22_col5, #T_c2de9_row22_col6, #T_c2de9_row22_col7, #T_c2de9_row22_col8, #T_c2de9_row22_col9, #T_c2de9_row22_col10, #T_c2de9_row22_col11, #T_c2de9_row22_col12, #T_c2de9_row22_col13, #T_c2de9_row22_col14, #T_c2de9_row22_col15, #T_c2de9_row22_col16, #T_c2de9_row22_col17, #T_c2de9_row23_col0, #T_c2de9_row23_col1, #T_c2de9_row23_col2, #T_c2de9_row23_col3, #T_c2de9_row23_col4, #T_c2de9_row23_col5, #T_c2de9_row23_col6, #T_c2de9_row23_col7, #T_c2de9_row23_col8, #T_c2de9_row23_col9, #T_c2de9_row23_col10, #T_c2de9_row23_col11, #T_c2de9_row23_col12, #T_c2de9_row23_col13, #T_c2de9_row23_col14, #T_c2de9_row23_col15, #T_c2de9_row23_col16, #T_c2de9_row23_col17 {\n",
       "  font-size: 6pt;\n",
       "  background-color: #ffffff;\n",
       "  color: #000000;\n",
       "}\n",
       "#T_c2de9_row1_col5, #T_c2de9_row8_col12 {\n",
       "  font-size: 6pt;\n",
       "  background-color: #f1f1f1;\n",
       "  color: #000000;\n",
       "}\n",
       "#T_c2de9_row1_col6, #T_c2de9_row1_col13 {\n",
       "  font-size: 6pt;\n",
       "  background-color: #7c7c7c;\n",
       "  color: #f1f1f1;\n",
       "}\n",
       "#T_c2de9_row1_col7 {\n",
       "  font-size: 6pt;\n",
       "  background-color: #4a4a4a;\n",
       "  color: #f1f1f1;\n",
       "}\n",
       "#T_c2de9_row1_col8, #T_c2de9_row1_col9, #T_c2de9_row1_col10, #T_c2de9_row2_col6, #T_c2de9_row2_col7, #T_c2de9_row2_col11, #T_c2de9_row2_col12, #T_c2de9_row2_col13, #T_c2de9_row3_col4, #T_c2de9_row3_col12, #T_c2de9_row3_col13, #T_c2de9_row4_col1, #T_c2de9_row4_col2, #T_c2de9_row4_col3, #T_c2de9_row4_col12, #T_c2de9_row4_col13, #T_c2de9_row5_col12, #T_c2de9_row6_col11, #T_c2de9_row9_col11, #T_c2de9_row10_col11, #T_c2de9_row10_col12, #T_c2de9_row10_col13, #T_c2de9_row10_col14, #T_c2de9_row11_col13, #T_c2de9_row11_col14, #T_c2de9_row11_col15, #T_c2de9_row12_col14, #T_c2de9_row12_col15, #T_c2de9_row12_col16, #T_c2de9_row13_col14, #T_c2de9_row13_col15, #T_c2de9_row14_col14, #T_c2de9_row14_col15, #T_c2de9_row15_col13, #T_c2de9_row15_col14, #T_c2de9_row16_col12, #T_c2de9_row16_col13, #T_c2de9_row17_col11, #T_c2de9_row17_col12, #T_c2de9_row19_col3, #T_c2de9_row19_col4, #T_c2de9_row19_col5, #T_c2de9_row19_col6, #T_c2de9_row19_col7, #T_c2de9_row20_col3, #T_c2de9_row20_col4, #T_c2de9_row20_col5, #T_c2de9_row20_col6, #T_c2de9_row20_col7 {\n",
       "  font-size: 6pt;\n",
       "  background-color: #000000;\n",
       "  color: #f1f1f1;\n",
       "}\n",
       "#T_c2de9_row1_col11 {\n",
       "  font-size: 6pt;\n",
       "  background-color: #606060;\n",
       "  color: #f1f1f1;\n",
       "}\n",
       "#T_c2de9_row1_col12 {\n",
       "  font-size: 6pt;\n",
       "  background-color: #4d4d4d;\n",
       "  color: #f1f1f1;\n",
       "}\n",
       "#T_c2de9_row1_col14 {\n",
       "  font-size: 6pt;\n",
       "  background-color: #bbbbbb;\n",
       "  color: #000000;\n",
       "}\n",
       "#T_c2de9_row2_col3, #T_c2de9_row4_col5 {\n",
       "  font-size: 6pt;\n",
       "  background-color: #e4e4e4;\n",
       "  color: #000000;\n",
       "}\n",
       "#T_c2de9_row2_col4, #T_c2de9_row8_col6 {\n",
       "  font-size: 6pt;\n",
       "  background-color: #6b6b6b;\n",
       "  color: #f1f1f1;\n",
       "}\n",
       "#T_c2de9_row2_col5, #T_c2de9_row5_col11 {\n",
       "  font-size: 6pt;\n",
       "  background-color: #222222;\n",
       "  color: #f1f1f1;\n",
       "}\n",
       "#T_c2de9_row2_col8, #T_c2de9_row2_col14, #T_c2de9_row3_col14, #T_c2de9_row17_col13 {\n",
       "  font-size: 6pt;\n",
       "  background-color: #171717;\n",
       "  color: #f1f1f1;\n",
       "}\n",
       "#T_c2de9_row2_col9, #T_c2de9_row3_col11 {\n",
       "  font-size: 6pt;\n",
       "  background-color: #4b4b4b;\n",
       "  color: #f1f1f1;\n",
       "}\n",
       "#T_c2de9_row2_col10, #T_c2de9_row7_col10, #T_c2de9_row8_col8, #T_c2de9_row8_col10, #T_c2de9_row9_col8, #T_c2de9_row9_col10, #T_c2de9_row18_col10, #T_c2de9_row19_col8 {\n",
       "  font-size: 6pt;\n",
       "  background-color: #010101;\n",
       "  color: #f1f1f1;\n",
       "}\n",
       "#T_c2de9_row3_col1 {\n",
       "  font-size: 6pt;\n",
       "  background-color: #272727;\n",
       "  color: #f1f1f1;\n",
       "}\n",
       "#T_c2de9_row3_col2 {\n",
       "  font-size: 6pt;\n",
       "  background-color: #0a0a0a;\n",
       "  color: #f1f1f1;\n",
       "}\n",
       "#T_c2de9_row3_col3, #T_c2de9_row14_col13 {\n",
       "  font-size: 6pt;\n",
       "  background-color: #050505;\n",
       "  color: #f1f1f1;\n",
       "}\n",
       "#T_c2de9_row3_col5, #T_c2de9_row8_col11, #T_c2de9_row10_col15, #T_c2de9_row19_col2 {\n",
       "  font-size: 6pt;\n",
       "  background-color: #545454;\n",
       "  color: #f1f1f1;\n",
       "}\n",
       "#T_c2de9_row3_col6 {\n",
       "  font-size: 6pt;\n",
       "  background-color: #e6e6e6;\n",
       "  color: #000000;\n",
       "}\n",
       "#T_c2de9_row3_col7, #T_c2de9_row3_col10, #T_c2de9_row8_col5 {\n",
       "  font-size: 6pt;\n",
       "  background-color: #fafafa;\n",
       "  color: #000000;\n",
       "}\n",
       "#T_c2de9_row3_col8, #T_c2de9_row11_col10, #T_c2de9_row16_col15 {\n",
       "  font-size: 6pt;\n",
       "  background-color: #fbfbfb;\n",
       "  color: #000000;\n",
       "}\n",
       "#T_c2de9_row3_col9 {\n",
       "  font-size: 6pt;\n",
       "  background-color: #fdfdfd;\n",
       "  color: #000000;\n",
       "}\n",
       "#T_c2de9_row4_col4 {\n",
       "  font-size: 6pt;\n",
       "  background-color: #1b1b1b;\n",
       "  color: #f1f1f1;\n",
       "}\n",
       "#T_c2de9_row4_col11 {\n",
       "  font-size: 6pt;\n",
       "  background-color: #4e4e4e;\n",
       "  color: #f1f1f1;\n",
       "}\n",
       "#T_c2de9_row4_col14 {\n",
       "  font-size: 6pt;\n",
       "  background-color: #767676;\n",
       "  color: #f1f1f1;\n",
       "}\n",
       "#T_c2de9_row5_col1 {\n",
       "  font-size: 6pt;\n",
       "  background-color: #fcfcfc;\n",
       "  color: #000000;\n",
       "}\n",
       "#T_c2de9_row5_col2, #T_c2de9_row5_col3, #T_c2de9_row15_col16 {\n",
       "  font-size: 6pt;\n",
       "  background-color: #f6f6f6;\n",
       "  color: #000000;\n",
       "}\n",
       "#T_c2de9_row5_col4, #T_c2de9_row7_col7 {\n",
       "  font-size: 6pt;\n",
       "  background-color: #f8f8f8;\n",
       "  color: #000000;\n",
       "}\n",
       "#T_c2de9_row5_col10, #T_c2de9_row10_col7 {\n",
       "  font-size: 6pt;\n",
       "  background-color: #e8e8e8;\n",
       "  color: #000000;\n",
       "}\n",
       "#T_c2de9_row5_col13, #T_c2de9_row6_col12 {\n",
       "  font-size: 6pt;\n",
       "  background-color: #090909;\n",
       "  color: #f1f1f1;\n",
       "}\n",
       "#T_c2de9_row5_col14 {\n",
       "  font-size: 6pt;\n",
       "  background-color: #d0d0d0;\n",
       "  color: #000000;\n",
       "}\n",
       "#T_c2de9_row6_col10, #T_c2de9_row7_col11, #T_c2de9_row9_col6 {\n",
       "  font-size: 6pt;\n",
       "  background-color: #060606;\n",
       "  color: #f1f1f1;\n",
       "}\n",
       "#T_c2de9_row6_col13 {\n",
       "  font-size: 6pt;\n",
       "  background-color: #979797;\n",
       "  color: #f1f1f1;\n",
       "}\n",
       "#T_c2de9_row7_col8 {\n",
       "  font-size: 6pt;\n",
       "  background-color: #b6b6b6;\n",
       "  color: #000000;\n",
       "}\n",
       "#T_c2de9_row7_col9 {\n",
       "  font-size: 6pt;\n",
       "  background-color: #252525;\n",
       "  color: #f1f1f1;\n",
       "}\n",
       "#T_c2de9_row7_col12 {\n",
       "  font-size: 6pt;\n",
       "  background-color: #999999;\n",
       "  color: #f1f1f1;\n",
       "}\n",
       "#T_c2de9_row8_col7, #T_c2de9_row18_col8 {\n",
       "  font-size: 6pt;\n",
       "  background-color: #101010;\n",
       "  color: #f1f1f1;\n",
       "}\n",
       "#T_c2de9_row8_col9, #T_c2de9_row9_col9, #T_c2de9_row17_col10, #T_c2de9_row18_col9, #T_c2de9_row19_col9 {\n",
       "  font-size: 6pt;\n",
       "  background-color: #020202;\n",
       "  color: #f1f1f1;\n",
       "}\n",
       "#T_c2de9_row9_col5 {\n",
       "  font-size: 6pt;\n",
       "  background-color: #f7f7f7;\n",
       "  color: #000000;\n",
       "}\n",
       "#T_c2de9_row9_col7, #T_c2de9_row18_col11 {\n",
       "  font-size: 6pt;\n",
       "  background-color: #030303;\n",
       "  color: #f1f1f1;\n",
       "}\n",
       "#T_c2de9_row9_col12 {\n",
       "  font-size: 6pt;\n",
       "  background-color: #181818;\n",
       "  color: #f1f1f1;\n",
       "}\n",
       "#T_c2de9_row9_col13 {\n",
       "  font-size: 6pt;\n",
       "  background-color: #303030;\n",
       "  color: #f1f1f1;\n",
       "}\n",
       "#T_c2de9_row9_col14 {\n",
       "  font-size: 6pt;\n",
       "  background-color: #a9a9a9;\n",
       "  color: #f1f1f1;\n",
       "}\n",
       "#T_c2de9_row9_col15 {\n",
       "  font-size: 6pt;\n",
       "  background-color: #fefefe;\n",
       "  color: #000000;\n",
       "}\n",
       "#T_c2de9_row10_col8, #T_c2de9_row10_col9, #T_c2de9_row16_col10 {\n",
       "  font-size: 6pt;\n",
       "  background-color: #bababa;\n",
       "  color: #000000;\n",
       "}\n",
       "#T_c2de9_row10_col10 {\n",
       "  font-size: 6pt;\n",
       "  background-color: #393939;\n",
       "  color: #f1f1f1;\n",
       "}\n",
       "#T_c2de9_row10_col16 {\n",
       "  font-size: 6pt;\n",
       "  background-color: #eaeaea;\n",
       "  color: #000000;\n",
       "}\n",
       "#T_c2de9_row11_col11 {\n",
       "  font-size: 6pt;\n",
       "  background-color: #e2e2e2;\n",
       "  color: #000000;\n",
       "}\n",
       "#T_c2de9_row11_col12 {\n",
       "  font-size: 6pt;\n",
       "  background-color: #9f9f9f;\n",
       "  color: #f1f1f1;\n",
       "}\n",
       "#T_c2de9_row11_col16 {\n",
       "  font-size: 6pt;\n",
       "  background-color: #898989;\n",
       "  color: #f1f1f1;\n",
       "}\n",
       "#T_c2de9_row12_col13 {\n",
       "  font-size: 6pt;\n",
       "  background-color: #585858;\n",
       "  color: #f1f1f1;\n",
       "}\n",
       "#T_c2de9_row13_col13 {\n",
       "  font-size: 6pt;\n",
       "  background-color: #5a5a5a;\n",
       "  color: #f1f1f1;\n",
       "}\n",
       "#T_c2de9_row13_col16 {\n",
       "  font-size: 6pt;\n",
       "  background-color: #525252;\n",
       "  color: #f1f1f1;\n",
       "}\n",
       "#T_c2de9_row14_col12, #T_c2de9_row19_col11 {\n",
       "  font-size: 6pt;\n",
       "  background-color: #c5c5c5;\n",
       "  color: #000000;\n",
       "}\n",
       "#T_c2de9_row14_col16 {\n",
       "  font-size: 6pt;\n",
       "  background-color: #d7d7d7;\n",
       "  color: #000000;\n",
       "}\n",
       "#T_c2de9_row15_col11, #T_c2de9_row18_col5 {\n",
       "  font-size: 6pt;\n",
       "  background-color: #dcdcdc;\n",
       "  color: #000000;\n",
       "}\n",
       "#T_c2de9_row15_col12 {\n",
       "  font-size: 6pt;\n",
       "  background-color: #2f2f2f;\n",
       "  color: #f1f1f1;\n",
       "}\n",
       "#T_c2de9_row15_col15 {\n",
       "  font-size: 6pt;\n",
       "  background-color: #636363;\n",
       "  color: #f1f1f1;\n",
       "}\n",
       "#T_c2de9_row16_col11 {\n",
       "  font-size: 6pt;\n",
       "  background-color: #070707;\n",
       "  color: #f1f1f1;\n",
       "}\n",
       "#T_c2de9_row16_col14 {\n",
       "  font-size: 6pt;\n",
       "  background-color: #1f1f1f;\n",
       "  color: #f1f1f1;\n",
       "}\n",
       "#T_c2de9_row17_col8, #T_c2de9_row18_col2, #T_c2de9_row18_col4 {\n",
       "  font-size: 6pt;\n",
       "  background-color: #e9e9e9;\n",
       "  color: #000000;\n",
       "}\n",
       "#T_c2de9_row17_col9 {\n",
       "  font-size: 6pt;\n",
       "  background-color: #7d7d7d;\n",
       "  color: #f1f1f1;\n",
       "}\n",
       "#T_c2de9_row17_col14 {\n",
       "  font-size: 6pt;\n",
       "  background-color: #e1e1e1;\n",
       "  color: #000000;\n",
       "}\n",
       "#T_c2de9_row18_col3, #T_c2de9_row18_col6 {\n",
       "  font-size: 6pt;\n",
       "  background-color: #a4a4a4;\n",
       "  color: #f1f1f1;\n",
       "}\n",
       "#T_c2de9_row18_col7 {\n",
       "  font-size: 6pt;\n",
       "  background-color: #727272;\n",
       "  color: #f1f1f1;\n",
       "}\n",
       "#T_c2de9_row18_col12 {\n",
       "  font-size: 6pt;\n",
       "  background-color: #616161;\n",
       "  color: #f1f1f1;\n",
       "}\n",
       "#T_c2de9_row18_col13 {\n",
       "  font-size: 6pt;\n",
       "  background-color: #f3f3f3;\n",
       "  color: #000000;\n",
       "}\n",
       "#T_c2de9_row19_col10 {\n",
       "  font-size: 6pt;\n",
       "  background-color: #484848;\n",
       "  color: #f1f1f1;\n",
       "}\n",
       "#T_c2de9_row20_col2 {\n",
       "  font-size: 6pt;\n",
       "  background-color: #b3b3b3;\n",
       "  color: #000000;\n",
       "}\n",
       "#T_c2de9_row20_col8 {\n",
       "  font-size: 6pt;\n",
       "  background-color: #1a1a1a;\n",
       "  color: #f1f1f1;\n",
       "}\n",
       "#T_c2de9_row20_col9 {\n",
       "  font-size: 6pt;\n",
       "  background-color: #d6d6d6;\n",
       "  color: #000000;\n",
       "}\n",
       "</style>\n",
       "<table id=\"T_c2de9\">\n",
       "  <thead>\n",
       "    <tr>\n",
       "      <th class=\"blank level0\" >&nbsp;</th>\n",
       "      <th id=\"T_c2de9_level0_col0\" class=\"col_heading level0 col0\" >0</th>\n",
       "      <th id=\"T_c2de9_level0_col1\" class=\"col_heading level0 col1\" >1</th>\n",
       "      <th id=\"T_c2de9_level0_col2\" class=\"col_heading level0 col2\" >2</th>\n",
       "      <th id=\"T_c2de9_level0_col3\" class=\"col_heading level0 col3\" >3</th>\n",
       "      <th id=\"T_c2de9_level0_col4\" class=\"col_heading level0 col4\" >4</th>\n",
       "      <th id=\"T_c2de9_level0_col5\" class=\"col_heading level0 col5\" >5</th>\n",
       "      <th id=\"T_c2de9_level0_col6\" class=\"col_heading level0 col6\" >6</th>\n",
       "      <th id=\"T_c2de9_level0_col7\" class=\"col_heading level0 col7\" >7</th>\n",
       "      <th id=\"T_c2de9_level0_col8\" class=\"col_heading level0 col8\" >8</th>\n",
       "      <th id=\"T_c2de9_level0_col9\" class=\"col_heading level0 col9\" >9</th>\n",
       "      <th id=\"T_c2de9_level0_col10\" class=\"col_heading level0 col10\" >10</th>\n",
       "      <th id=\"T_c2de9_level0_col11\" class=\"col_heading level0 col11\" >11</th>\n",
       "      <th id=\"T_c2de9_level0_col12\" class=\"col_heading level0 col12\" >12</th>\n",
       "      <th id=\"T_c2de9_level0_col13\" class=\"col_heading level0 col13\" >13</th>\n",
       "      <th id=\"T_c2de9_level0_col14\" class=\"col_heading level0 col14\" >14</th>\n",
       "      <th id=\"T_c2de9_level0_col15\" class=\"col_heading level0 col15\" >15</th>\n",
       "      <th id=\"T_c2de9_level0_col16\" class=\"col_heading level0 col16\" >16</th>\n",
       "      <th id=\"T_c2de9_level0_col17\" class=\"col_heading level0 col17\" >17</th>\n",
       "    </tr>\n",
       "  </thead>\n",
       "  <tbody>\n",
       "    <tr>\n",
       "      <th id=\"T_c2de9_level0_row0\" class=\"row_heading level0 row0\" >0</th>\n",
       "      <td id=\"T_c2de9_row0_col0\" class=\"data row0 col0\" >0</td>\n",
       "      <td id=\"T_c2de9_row0_col1\" class=\"data row0 col1\" >0</td>\n",
       "      <td id=\"T_c2de9_row0_col2\" class=\"data row0 col2\" >0</td>\n",
       "      <td id=\"T_c2de9_row0_col3\" class=\"data row0 col3\" >0</td>\n",
       "      <td id=\"T_c2de9_row0_col4\" class=\"data row0 col4\" >0</td>\n",
       "      <td id=\"T_c2de9_row0_col5\" class=\"data row0 col5\" >0</td>\n",
       "      <td id=\"T_c2de9_row0_col6\" class=\"data row0 col6\" >0</td>\n",
       "      <td id=\"T_c2de9_row0_col7\" class=\"data row0 col7\" >0</td>\n",
       "      <td id=\"T_c2de9_row0_col8\" class=\"data row0 col8\" >0</td>\n",
       "      <td id=\"T_c2de9_row0_col9\" class=\"data row0 col9\" >0</td>\n",
       "      <td id=\"T_c2de9_row0_col10\" class=\"data row0 col10\" >0</td>\n",
       "      <td id=\"T_c2de9_row0_col11\" class=\"data row0 col11\" >0</td>\n",
       "      <td id=\"T_c2de9_row0_col12\" class=\"data row0 col12\" >0</td>\n",
       "      <td id=\"T_c2de9_row0_col13\" class=\"data row0 col13\" >0</td>\n",
       "      <td id=\"T_c2de9_row0_col14\" class=\"data row0 col14\" >0</td>\n",
       "      <td id=\"T_c2de9_row0_col15\" class=\"data row0 col15\" >0</td>\n",
       "      <td id=\"T_c2de9_row0_col16\" class=\"data row0 col16\" >0</td>\n",
       "      <td id=\"T_c2de9_row0_col17\" class=\"data row0 col17\" >0</td>\n",
       "    </tr>\n",
       "    <tr>\n",
       "      <th id=\"T_c2de9_level0_row1\" class=\"row_heading level0 row1\" >1</th>\n",
       "      <td id=\"T_c2de9_row1_col0\" class=\"data row1 col0\" >0</td>\n",
       "      <td id=\"T_c2de9_row1_col1\" class=\"data row1 col1\" >0</td>\n",
       "      <td id=\"T_c2de9_row1_col2\" class=\"data row1 col2\" >0</td>\n",
       "      <td id=\"T_c2de9_row1_col3\" class=\"data row1 col3\" >0</td>\n",
       "      <td id=\"T_c2de9_row1_col4\" class=\"data row1 col4\" >0</td>\n",
       "      <td id=\"T_c2de9_row1_col5\" class=\"data row1 col5\" >29</td>\n",
       "      <td id=\"T_c2de9_row1_col6\" class=\"data row1 col6\" >150</td>\n",
       "      <td id=\"T_c2de9_row1_col7\" class=\"data row1 col7\" >195</td>\n",
       "      <td id=\"T_c2de9_row1_col8\" class=\"data row1 col8\" >254</td>\n",
       "      <td id=\"T_c2de9_row1_col9\" class=\"data row1 col9\" >255</td>\n",
       "      <td id=\"T_c2de9_row1_col10\" class=\"data row1 col10\" >254</td>\n",
       "      <td id=\"T_c2de9_row1_col11\" class=\"data row1 col11\" >176</td>\n",
       "      <td id=\"T_c2de9_row1_col12\" class=\"data row1 col12\" >193</td>\n",
       "      <td id=\"T_c2de9_row1_col13\" class=\"data row1 col13\" >150</td>\n",
       "      <td id=\"T_c2de9_row1_col14\" class=\"data row1 col14\" >96</td>\n",
       "      <td id=\"T_c2de9_row1_col15\" class=\"data row1 col15\" >0</td>\n",
       "      <td id=\"T_c2de9_row1_col16\" class=\"data row1 col16\" >0</td>\n",
       "      <td id=\"T_c2de9_row1_col17\" class=\"data row1 col17\" >0</td>\n",
       "    </tr>\n",
       "    <tr>\n",
       "      <th id=\"T_c2de9_level0_row2\" class=\"row_heading level0 row2\" >2</th>\n",
       "      <td id=\"T_c2de9_row2_col0\" class=\"data row2 col0\" >0</td>\n",
       "      <td id=\"T_c2de9_row2_col1\" class=\"data row2 col1\" >0</td>\n",
       "      <td id=\"T_c2de9_row2_col2\" class=\"data row2 col2\" >0</td>\n",
       "      <td id=\"T_c2de9_row2_col3\" class=\"data row2 col3\" >48</td>\n",
       "      <td id=\"T_c2de9_row2_col4\" class=\"data row2 col4\" >166</td>\n",
       "      <td id=\"T_c2de9_row2_col5\" class=\"data row2 col5\" >224</td>\n",
       "      <td id=\"T_c2de9_row2_col6\" class=\"data row2 col6\" >253</td>\n",
       "      <td id=\"T_c2de9_row2_col7\" class=\"data row2 col7\" >253</td>\n",
       "      <td id=\"T_c2de9_row2_col8\" class=\"data row2 col8\" >234</td>\n",
       "      <td id=\"T_c2de9_row2_col9\" class=\"data row2 col9\" >196</td>\n",
       "      <td id=\"T_c2de9_row2_col10\" class=\"data row2 col10\" >253</td>\n",
       "      <td id=\"T_c2de9_row2_col11\" class=\"data row2 col11\" >253</td>\n",
       "      <td id=\"T_c2de9_row2_col12\" class=\"data row2 col12\" >253</td>\n",
       "      <td id=\"T_c2de9_row2_col13\" class=\"data row2 col13\" >253</td>\n",
       "      <td id=\"T_c2de9_row2_col14\" class=\"data row2 col14\" >233</td>\n",
       "      <td id=\"T_c2de9_row2_col15\" class=\"data row2 col15\" >0</td>\n",
       "      <td id=\"T_c2de9_row2_col16\" class=\"data row2 col16\" >0</td>\n",
       "      <td id=\"T_c2de9_row2_col17\" class=\"data row2 col17\" >0</td>\n",
       "    </tr>\n",
       "    <tr>\n",
       "      <th id=\"T_c2de9_level0_row3\" class=\"row_heading level0 row3\" >3</th>\n",
       "      <td id=\"T_c2de9_row3_col0\" class=\"data row3 col0\" >0</td>\n",
       "      <td id=\"T_c2de9_row3_col1\" class=\"data row3 col1\" >93</td>\n",
       "      <td id=\"T_c2de9_row3_col2\" class=\"data row3 col2\" >244</td>\n",
       "      <td id=\"T_c2de9_row3_col3\" class=\"data row3 col3\" >249</td>\n",
       "      <td id=\"T_c2de9_row3_col4\" class=\"data row3 col4\" >253</td>\n",
       "      <td id=\"T_c2de9_row3_col5\" class=\"data row3 col5\" >187</td>\n",
       "      <td id=\"T_c2de9_row3_col6\" class=\"data row3 col6\" >46</td>\n",
       "      <td id=\"T_c2de9_row3_col7\" class=\"data row3 col7\" >10</td>\n",
       "      <td id=\"T_c2de9_row3_col8\" class=\"data row3 col8\" >8</td>\n",
       "      <td id=\"T_c2de9_row3_col9\" class=\"data row3 col9\" >4</td>\n",
       "      <td id=\"T_c2de9_row3_col10\" class=\"data row3 col10\" >10</td>\n",
       "      <td id=\"T_c2de9_row3_col11\" class=\"data row3 col11\" >194</td>\n",
       "      <td id=\"T_c2de9_row3_col12\" class=\"data row3 col12\" >253</td>\n",
       "      <td id=\"T_c2de9_row3_col13\" class=\"data row3 col13\" >253</td>\n",
       "      <td id=\"T_c2de9_row3_col14\" class=\"data row3 col14\" >233</td>\n",
       "      <td id=\"T_c2de9_row3_col15\" class=\"data row3 col15\" >0</td>\n",
       "      <td id=\"T_c2de9_row3_col16\" class=\"data row3 col16\" >0</td>\n",
       "      <td id=\"T_c2de9_row3_col17\" class=\"data row3 col17\" >0</td>\n",
       "    </tr>\n",
       "    <tr>\n",
       "      <th id=\"T_c2de9_level0_row4\" class=\"row_heading level0 row4\" >4</th>\n",
       "      <td id=\"T_c2de9_row4_col0\" class=\"data row4 col0\" >0</td>\n",
       "      <td id=\"T_c2de9_row4_col1\" class=\"data row4 col1\" >107</td>\n",
       "      <td id=\"T_c2de9_row4_col2\" class=\"data row4 col2\" >253</td>\n",
       "      <td id=\"T_c2de9_row4_col3\" class=\"data row4 col3\" >253</td>\n",
       "      <td id=\"T_c2de9_row4_col4\" class=\"data row4 col4\" >230</td>\n",
       "      <td id=\"T_c2de9_row4_col5\" class=\"data row4 col5\" >48</td>\n",
       "      <td id=\"T_c2de9_row4_col6\" class=\"data row4 col6\" >0</td>\n",
       "      <td id=\"T_c2de9_row4_col7\" class=\"data row4 col7\" >0</td>\n",
       "      <td id=\"T_c2de9_row4_col8\" class=\"data row4 col8\" >0</td>\n",
       "      <td id=\"T_c2de9_row4_col9\" class=\"data row4 col9\" >0</td>\n",
       "      <td id=\"T_c2de9_row4_col10\" class=\"data row4 col10\" >0</td>\n",
       "      <td id=\"T_c2de9_row4_col11\" class=\"data row4 col11\" >192</td>\n",
       "      <td id=\"T_c2de9_row4_col12\" class=\"data row4 col12\" >253</td>\n",
       "      <td id=\"T_c2de9_row4_col13\" class=\"data row4 col13\" >253</td>\n",
       "      <td id=\"T_c2de9_row4_col14\" class=\"data row4 col14\" >156</td>\n",
       "      <td id=\"T_c2de9_row4_col15\" class=\"data row4 col15\" >0</td>\n",
       "      <td id=\"T_c2de9_row4_col16\" class=\"data row4 col16\" >0</td>\n",
       "      <td id=\"T_c2de9_row4_col17\" class=\"data row4 col17\" >0</td>\n",
       "    </tr>\n",
       "    <tr>\n",
       "      <th id=\"T_c2de9_level0_row5\" class=\"row_heading level0 row5\" >5</th>\n",
       "      <td id=\"T_c2de9_row5_col0\" class=\"data row5 col0\" >0</td>\n",
       "      <td id=\"T_c2de9_row5_col1\" class=\"data row5 col1\" >3</td>\n",
       "      <td id=\"T_c2de9_row5_col2\" class=\"data row5 col2\" >20</td>\n",
       "      <td id=\"T_c2de9_row5_col3\" class=\"data row5 col3\" >20</td>\n",
       "      <td id=\"T_c2de9_row5_col4\" class=\"data row5 col4\" >15</td>\n",
       "      <td id=\"T_c2de9_row5_col5\" class=\"data row5 col5\" >0</td>\n",
       "      <td id=\"T_c2de9_row5_col6\" class=\"data row5 col6\" >0</td>\n",
       "      <td id=\"T_c2de9_row5_col7\" class=\"data row5 col7\" >0</td>\n",
       "      <td id=\"T_c2de9_row5_col8\" class=\"data row5 col8\" >0</td>\n",
       "      <td id=\"T_c2de9_row5_col9\" class=\"data row5 col9\" >0</td>\n",
       "      <td id=\"T_c2de9_row5_col10\" class=\"data row5 col10\" >43</td>\n",
       "      <td id=\"T_c2de9_row5_col11\" class=\"data row5 col11\" >224</td>\n",
       "      <td id=\"T_c2de9_row5_col12\" class=\"data row5 col12\" >253</td>\n",
       "      <td id=\"T_c2de9_row5_col13\" class=\"data row5 col13\" >245</td>\n",
       "      <td id=\"T_c2de9_row5_col14\" class=\"data row5 col14\" >74</td>\n",
       "      <td id=\"T_c2de9_row5_col15\" class=\"data row5 col15\" >0</td>\n",
       "      <td id=\"T_c2de9_row5_col16\" class=\"data row5 col16\" >0</td>\n",
       "      <td id=\"T_c2de9_row5_col17\" class=\"data row5 col17\" >0</td>\n",
       "    </tr>\n",
       "    <tr>\n",
       "      <th id=\"T_c2de9_level0_row6\" class=\"row_heading level0 row6\" >6</th>\n",
       "      <td id=\"T_c2de9_row6_col0\" class=\"data row6 col0\" >0</td>\n",
       "      <td id=\"T_c2de9_row6_col1\" class=\"data row6 col1\" >0</td>\n",
       "      <td id=\"T_c2de9_row6_col2\" class=\"data row6 col2\" >0</td>\n",
       "      <td id=\"T_c2de9_row6_col3\" class=\"data row6 col3\" >0</td>\n",
       "      <td id=\"T_c2de9_row6_col4\" class=\"data row6 col4\" >0</td>\n",
       "      <td id=\"T_c2de9_row6_col5\" class=\"data row6 col5\" >0</td>\n",
       "      <td id=\"T_c2de9_row6_col6\" class=\"data row6 col6\" >0</td>\n",
       "      <td id=\"T_c2de9_row6_col7\" class=\"data row6 col7\" >0</td>\n",
       "      <td id=\"T_c2de9_row6_col8\" class=\"data row6 col8\" >0</td>\n",
       "      <td id=\"T_c2de9_row6_col9\" class=\"data row6 col9\" >0</td>\n",
       "      <td id=\"T_c2de9_row6_col10\" class=\"data row6 col10\" >249</td>\n",
       "      <td id=\"T_c2de9_row6_col11\" class=\"data row6 col11\" >253</td>\n",
       "      <td id=\"T_c2de9_row6_col12\" class=\"data row6 col12\" >245</td>\n",
       "      <td id=\"T_c2de9_row6_col13\" class=\"data row6 col13\" >126</td>\n",
       "      <td id=\"T_c2de9_row6_col14\" class=\"data row6 col14\" >0</td>\n",
       "      <td id=\"T_c2de9_row6_col15\" class=\"data row6 col15\" >0</td>\n",
       "      <td id=\"T_c2de9_row6_col16\" class=\"data row6 col16\" >0</td>\n",
       "      <td id=\"T_c2de9_row6_col17\" class=\"data row6 col17\" >0</td>\n",
       "    </tr>\n",
       "    <tr>\n",
       "      <th id=\"T_c2de9_level0_row7\" class=\"row_heading level0 row7\" >7</th>\n",
       "      <td id=\"T_c2de9_row7_col0\" class=\"data row7 col0\" >0</td>\n",
       "      <td id=\"T_c2de9_row7_col1\" class=\"data row7 col1\" >0</td>\n",
       "      <td id=\"T_c2de9_row7_col2\" class=\"data row7 col2\" >0</td>\n",
       "      <td id=\"T_c2de9_row7_col3\" class=\"data row7 col3\" >0</td>\n",
       "      <td id=\"T_c2de9_row7_col4\" class=\"data row7 col4\" >0</td>\n",
       "      <td id=\"T_c2de9_row7_col5\" class=\"data row7 col5\" >0</td>\n",
       "      <td id=\"T_c2de9_row7_col6\" class=\"data row7 col6\" >0</td>\n",
       "      <td id=\"T_c2de9_row7_col7\" class=\"data row7 col7\" >14</td>\n",
       "      <td id=\"T_c2de9_row7_col8\" class=\"data row7 col8\" >101</td>\n",
       "      <td id=\"T_c2de9_row7_col9\" class=\"data row7 col9\" >223</td>\n",
       "      <td id=\"T_c2de9_row7_col10\" class=\"data row7 col10\" >253</td>\n",
       "      <td id=\"T_c2de9_row7_col11\" class=\"data row7 col11\" >248</td>\n",
       "      <td id=\"T_c2de9_row7_col12\" class=\"data row7 col12\" >124</td>\n",
       "      <td id=\"T_c2de9_row7_col13\" class=\"data row7 col13\" >0</td>\n",
       "      <td id=\"T_c2de9_row7_col14\" class=\"data row7 col14\" >0</td>\n",
       "      <td id=\"T_c2de9_row7_col15\" class=\"data row7 col15\" >0</td>\n",
       "      <td id=\"T_c2de9_row7_col16\" class=\"data row7 col16\" >0</td>\n",
       "      <td id=\"T_c2de9_row7_col17\" class=\"data row7 col17\" >0</td>\n",
       "    </tr>\n",
       "    <tr>\n",
       "      <th id=\"T_c2de9_level0_row8\" class=\"row_heading level0 row8\" >8</th>\n",
       "      <td id=\"T_c2de9_row8_col0\" class=\"data row8 col0\" >0</td>\n",
       "      <td id=\"T_c2de9_row8_col1\" class=\"data row8 col1\" >0</td>\n",
       "      <td id=\"T_c2de9_row8_col2\" class=\"data row8 col2\" >0</td>\n",
       "      <td id=\"T_c2de9_row8_col3\" class=\"data row8 col3\" >0</td>\n",
       "      <td id=\"T_c2de9_row8_col4\" class=\"data row8 col4\" >0</td>\n",
       "      <td id=\"T_c2de9_row8_col5\" class=\"data row8 col5\" >11</td>\n",
       "      <td id=\"T_c2de9_row8_col6\" class=\"data row8 col6\" >166</td>\n",
       "      <td id=\"T_c2de9_row8_col7\" class=\"data row8 col7\" >239</td>\n",
       "      <td id=\"T_c2de9_row8_col8\" class=\"data row8 col8\" >253</td>\n",
       "      <td id=\"T_c2de9_row8_col9\" class=\"data row8 col9\" >253</td>\n",
       "      <td id=\"T_c2de9_row8_col10\" class=\"data row8 col10\" >253</td>\n",
       "      <td id=\"T_c2de9_row8_col11\" class=\"data row8 col11\" >187</td>\n",
       "      <td id=\"T_c2de9_row8_col12\" class=\"data row8 col12\" >30</td>\n",
       "      <td id=\"T_c2de9_row8_col13\" class=\"data row8 col13\" >0</td>\n",
       "      <td id=\"T_c2de9_row8_col14\" class=\"data row8 col14\" >0</td>\n",
       "      <td id=\"T_c2de9_row8_col15\" class=\"data row8 col15\" >0</td>\n",
       "      <td id=\"T_c2de9_row8_col16\" class=\"data row8 col16\" >0</td>\n",
       "      <td id=\"T_c2de9_row8_col17\" class=\"data row8 col17\" >0</td>\n",
       "    </tr>\n",
       "    <tr>\n",
       "      <th id=\"T_c2de9_level0_row9\" class=\"row_heading level0 row9\" >9</th>\n",
       "      <td id=\"T_c2de9_row9_col0\" class=\"data row9 col0\" >0</td>\n",
       "      <td id=\"T_c2de9_row9_col1\" class=\"data row9 col1\" >0</td>\n",
       "      <td id=\"T_c2de9_row9_col2\" class=\"data row9 col2\" >0</td>\n",
       "      <td id=\"T_c2de9_row9_col3\" class=\"data row9 col3\" >0</td>\n",
       "      <td id=\"T_c2de9_row9_col4\" class=\"data row9 col4\" >0</td>\n",
       "      <td id=\"T_c2de9_row9_col5\" class=\"data row9 col5\" >16</td>\n",
       "      <td id=\"T_c2de9_row9_col6\" class=\"data row9 col6\" >248</td>\n",
       "      <td id=\"T_c2de9_row9_col7\" class=\"data row9 col7\" >250</td>\n",
       "      <td id=\"T_c2de9_row9_col8\" class=\"data row9 col8\" >253</td>\n",
       "      <td id=\"T_c2de9_row9_col9\" class=\"data row9 col9\" >253</td>\n",
       "      <td id=\"T_c2de9_row9_col10\" class=\"data row9 col10\" >253</td>\n",
       "      <td id=\"T_c2de9_row9_col11\" class=\"data row9 col11\" >253</td>\n",
       "      <td id=\"T_c2de9_row9_col12\" class=\"data row9 col12\" >232</td>\n",
       "      <td id=\"T_c2de9_row9_col13\" class=\"data row9 col13\" >213</td>\n",
       "      <td id=\"T_c2de9_row9_col14\" class=\"data row9 col14\" >111</td>\n",
       "      <td id=\"T_c2de9_row9_col15\" class=\"data row9 col15\" >2</td>\n",
       "      <td id=\"T_c2de9_row9_col16\" class=\"data row9 col16\" >0</td>\n",
       "      <td id=\"T_c2de9_row9_col17\" class=\"data row9 col17\" >0</td>\n",
       "    </tr>\n",
       "    <tr>\n",
       "      <th id=\"T_c2de9_level0_row10\" class=\"row_heading level0 row10\" >10</th>\n",
       "      <td id=\"T_c2de9_row10_col0\" class=\"data row10 col0\" >0</td>\n",
       "      <td id=\"T_c2de9_row10_col1\" class=\"data row10 col1\" >0</td>\n",
       "      <td id=\"T_c2de9_row10_col2\" class=\"data row10 col2\" >0</td>\n",
       "      <td id=\"T_c2de9_row10_col3\" class=\"data row10 col3\" >0</td>\n",
       "      <td id=\"T_c2de9_row10_col4\" class=\"data row10 col4\" >0</td>\n",
       "      <td id=\"T_c2de9_row10_col5\" class=\"data row10 col5\" >0</td>\n",
       "      <td id=\"T_c2de9_row10_col6\" class=\"data row10 col6\" >0</td>\n",
       "      <td id=\"T_c2de9_row10_col7\" class=\"data row10 col7\" >43</td>\n",
       "      <td id=\"T_c2de9_row10_col8\" class=\"data row10 col8\" >98</td>\n",
       "      <td id=\"T_c2de9_row10_col9\" class=\"data row10 col9\" >98</td>\n",
       "      <td id=\"T_c2de9_row10_col10\" class=\"data row10 col10\" >208</td>\n",
       "      <td id=\"T_c2de9_row10_col11\" class=\"data row10 col11\" >253</td>\n",
       "      <td id=\"T_c2de9_row10_col12\" class=\"data row10 col12\" >253</td>\n",
       "      <td id=\"T_c2de9_row10_col13\" class=\"data row10 col13\" >253</td>\n",
       "      <td id=\"T_c2de9_row10_col14\" class=\"data row10 col14\" >253</td>\n",
       "      <td id=\"T_c2de9_row10_col15\" class=\"data row10 col15\" >187</td>\n",
       "      <td id=\"T_c2de9_row10_col16\" class=\"data row10 col16\" >22</td>\n",
       "      <td id=\"T_c2de9_row10_col17\" class=\"data row10 col17\" >0</td>\n",
       "    </tr>\n",
       "    <tr>\n",
       "      <th id=\"T_c2de9_level0_row11\" class=\"row_heading level0 row11\" >11</th>\n",
       "      <td id=\"T_c2de9_row11_col0\" class=\"data row11 col0\" >0</td>\n",
       "      <td id=\"T_c2de9_row11_col1\" class=\"data row11 col1\" >0</td>\n",
       "      <td id=\"T_c2de9_row11_col2\" class=\"data row11 col2\" >0</td>\n",
       "      <td id=\"T_c2de9_row11_col3\" class=\"data row11 col3\" >0</td>\n",
       "      <td id=\"T_c2de9_row11_col4\" class=\"data row11 col4\" >0</td>\n",
       "      <td id=\"T_c2de9_row11_col5\" class=\"data row11 col5\" >0</td>\n",
       "      <td id=\"T_c2de9_row11_col6\" class=\"data row11 col6\" >0</td>\n",
       "      <td id=\"T_c2de9_row11_col7\" class=\"data row11 col7\" >0</td>\n",
       "      <td id=\"T_c2de9_row11_col8\" class=\"data row11 col8\" >0</td>\n",
       "      <td id=\"T_c2de9_row11_col9\" class=\"data row11 col9\" >0</td>\n",
       "      <td id=\"T_c2de9_row11_col10\" class=\"data row11 col10\" >9</td>\n",
       "      <td id=\"T_c2de9_row11_col11\" class=\"data row11 col11\" >51</td>\n",
       "      <td id=\"T_c2de9_row11_col12\" class=\"data row11 col12\" >119</td>\n",
       "      <td id=\"T_c2de9_row11_col13\" class=\"data row11 col13\" >253</td>\n",
       "      <td id=\"T_c2de9_row11_col14\" class=\"data row11 col14\" >253</td>\n",
       "      <td id=\"T_c2de9_row11_col15\" class=\"data row11 col15\" >253</td>\n",
       "      <td id=\"T_c2de9_row11_col16\" class=\"data row11 col16\" >76</td>\n",
       "      <td id=\"T_c2de9_row11_col17\" class=\"data row11 col17\" >0</td>\n",
       "    </tr>\n",
       "    <tr>\n",
       "      <th id=\"T_c2de9_level0_row12\" class=\"row_heading level0 row12\" >12</th>\n",
       "      <td id=\"T_c2de9_row12_col0\" class=\"data row12 col0\" >0</td>\n",
       "      <td id=\"T_c2de9_row12_col1\" class=\"data row12 col1\" >0</td>\n",
       "      <td id=\"T_c2de9_row12_col2\" class=\"data row12 col2\" >0</td>\n",
       "      <td id=\"T_c2de9_row12_col3\" class=\"data row12 col3\" >0</td>\n",
       "      <td id=\"T_c2de9_row12_col4\" class=\"data row12 col4\" >0</td>\n",
       "      <td id=\"T_c2de9_row12_col5\" class=\"data row12 col5\" >0</td>\n",
       "      <td id=\"T_c2de9_row12_col6\" class=\"data row12 col6\" >0</td>\n",
       "      <td id=\"T_c2de9_row12_col7\" class=\"data row12 col7\" >0</td>\n",
       "      <td id=\"T_c2de9_row12_col8\" class=\"data row12 col8\" >0</td>\n",
       "      <td id=\"T_c2de9_row12_col9\" class=\"data row12 col9\" >0</td>\n",
       "      <td id=\"T_c2de9_row12_col10\" class=\"data row12 col10\" >0</td>\n",
       "      <td id=\"T_c2de9_row12_col11\" class=\"data row12 col11\" >0</td>\n",
       "      <td id=\"T_c2de9_row12_col12\" class=\"data row12 col12\" >1</td>\n",
       "      <td id=\"T_c2de9_row12_col13\" class=\"data row12 col13\" >183</td>\n",
       "      <td id=\"T_c2de9_row12_col14\" class=\"data row12 col14\" >253</td>\n",
       "      <td id=\"T_c2de9_row12_col15\" class=\"data row12 col15\" >253</td>\n",
       "      <td id=\"T_c2de9_row12_col16\" class=\"data row12 col16\" >139</td>\n",
       "      <td id=\"T_c2de9_row12_col17\" class=\"data row12 col17\" >0</td>\n",
       "    </tr>\n",
       "    <tr>\n",
       "      <th id=\"T_c2de9_level0_row13\" class=\"row_heading level0 row13\" >13</th>\n",
       "      <td id=\"T_c2de9_row13_col0\" class=\"data row13 col0\" >0</td>\n",
       "      <td id=\"T_c2de9_row13_col1\" class=\"data row13 col1\" >0</td>\n",
       "      <td id=\"T_c2de9_row13_col2\" class=\"data row13 col2\" >0</td>\n",
       "      <td id=\"T_c2de9_row13_col3\" class=\"data row13 col3\" >0</td>\n",
       "      <td id=\"T_c2de9_row13_col4\" class=\"data row13 col4\" >0</td>\n",
       "      <td id=\"T_c2de9_row13_col5\" class=\"data row13 col5\" >0</td>\n",
       "      <td id=\"T_c2de9_row13_col6\" class=\"data row13 col6\" >0</td>\n",
       "      <td id=\"T_c2de9_row13_col7\" class=\"data row13 col7\" >0</td>\n",
       "      <td id=\"T_c2de9_row13_col8\" class=\"data row13 col8\" >0</td>\n",
       "      <td id=\"T_c2de9_row13_col9\" class=\"data row13 col9\" >0</td>\n",
       "      <td id=\"T_c2de9_row13_col10\" class=\"data row13 col10\" >0</td>\n",
       "      <td id=\"T_c2de9_row13_col11\" class=\"data row13 col11\" >0</td>\n",
       "      <td id=\"T_c2de9_row13_col12\" class=\"data row13 col12\" >0</td>\n",
       "      <td id=\"T_c2de9_row13_col13\" class=\"data row13 col13\" >182</td>\n",
       "      <td id=\"T_c2de9_row13_col14\" class=\"data row13 col14\" >253</td>\n",
       "      <td id=\"T_c2de9_row13_col15\" class=\"data row13 col15\" >253</td>\n",
       "      <td id=\"T_c2de9_row13_col16\" class=\"data row13 col16\" >104</td>\n",
       "      <td id=\"T_c2de9_row13_col17\" class=\"data row13 col17\" >0</td>\n",
       "    </tr>\n",
       "    <tr>\n",
       "      <th id=\"T_c2de9_level0_row14\" class=\"row_heading level0 row14\" >14</th>\n",
       "      <td id=\"T_c2de9_row14_col0\" class=\"data row14 col0\" >0</td>\n",
       "      <td id=\"T_c2de9_row14_col1\" class=\"data row14 col1\" >0</td>\n",
       "      <td id=\"T_c2de9_row14_col2\" class=\"data row14 col2\" >0</td>\n",
       "      <td id=\"T_c2de9_row14_col3\" class=\"data row14 col3\" >0</td>\n",
       "      <td id=\"T_c2de9_row14_col4\" class=\"data row14 col4\" >0</td>\n",
       "      <td id=\"T_c2de9_row14_col5\" class=\"data row14 col5\" >0</td>\n",
       "      <td id=\"T_c2de9_row14_col6\" class=\"data row14 col6\" >0</td>\n",
       "      <td id=\"T_c2de9_row14_col7\" class=\"data row14 col7\" >0</td>\n",
       "      <td id=\"T_c2de9_row14_col8\" class=\"data row14 col8\" >0</td>\n",
       "      <td id=\"T_c2de9_row14_col9\" class=\"data row14 col9\" >0</td>\n",
       "      <td id=\"T_c2de9_row14_col10\" class=\"data row14 col10\" >0</td>\n",
       "      <td id=\"T_c2de9_row14_col11\" class=\"data row14 col11\" >0</td>\n",
       "      <td id=\"T_c2de9_row14_col12\" class=\"data row14 col12\" >85</td>\n",
       "      <td id=\"T_c2de9_row14_col13\" class=\"data row14 col13\" >249</td>\n",
       "      <td id=\"T_c2de9_row14_col14\" class=\"data row14 col14\" >253</td>\n",
       "      <td id=\"T_c2de9_row14_col15\" class=\"data row14 col15\" >253</td>\n",
       "      <td id=\"T_c2de9_row14_col16\" class=\"data row14 col16\" >36</td>\n",
       "      <td id=\"T_c2de9_row14_col17\" class=\"data row14 col17\" >0</td>\n",
       "    </tr>\n",
       "    <tr>\n",
       "      <th id=\"T_c2de9_level0_row15\" class=\"row_heading level0 row15\" >15</th>\n",
       "      <td id=\"T_c2de9_row15_col0\" class=\"data row15 col0\" >0</td>\n",
       "      <td id=\"T_c2de9_row15_col1\" class=\"data row15 col1\" >0</td>\n",
       "      <td id=\"T_c2de9_row15_col2\" class=\"data row15 col2\" >0</td>\n",
       "      <td id=\"T_c2de9_row15_col3\" class=\"data row15 col3\" >0</td>\n",
       "      <td id=\"T_c2de9_row15_col4\" class=\"data row15 col4\" >0</td>\n",
       "      <td id=\"T_c2de9_row15_col5\" class=\"data row15 col5\" >0</td>\n",
       "      <td id=\"T_c2de9_row15_col6\" class=\"data row15 col6\" >0</td>\n",
       "      <td id=\"T_c2de9_row15_col7\" class=\"data row15 col7\" >0</td>\n",
       "      <td id=\"T_c2de9_row15_col8\" class=\"data row15 col8\" >0</td>\n",
       "      <td id=\"T_c2de9_row15_col9\" class=\"data row15 col9\" >0</td>\n",
       "      <td id=\"T_c2de9_row15_col10\" class=\"data row15 col10\" >0</td>\n",
       "      <td id=\"T_c2de9_row15_col11\" class=\"data row15 col11\" >60</td>\n",
       "      <td id=\"T_c2de9_row15_col12\" class=\"data row15 col12\" >214</td>\n",
       "      <td id=\"T_c2de9_row15_col13\" class=\"data row15 col13\" >253</td>\n",
       "      <td id=\"T_c2de9_row15_col14\" class=\"data row15 col14\" >253</td>\n",
       "      <td id=\"T_c2de9_row15_col15\" class=\"data row15 col15\" >173</td>\n",
       "      <td id=\"T_c2de9_row15_col16\" class=\"data row15 col16\" >11</td>\n",
       "      <td id=\"T_c2de9_row15_col17\" class=\"data row15 col17\" >0</td>\n",
       "    </tr>\n",
       "    <tr>\n",
       "      <th id=\"T_c2de9_level0_row16\" class=\"row_heading level0 row16\" >16</th>\n",
       "      <td id=\"T_c2de9_row16_col0\" class=\"data row16 col0\" >0</td>\n",
       "      <td id=\"T_c2de9_row16_col1\" class=\"data row16 col1\" >0</td>\n",
       "      <td id=\"T_c2de9_row16_col2\" class=\"data row16 col2\" >0</td>\n",
       "      <td id=\"T_c2de9_row16_col3\" class=\"data row16 col3\" >0</td>\n",
       "      <td id=\"T_c2de9_row16_col4\" class=\"data row16 col4\" >0</td>\n",
       "      <td id=\"T_c2de9_row16_col5\" class=\"data row16 col5\" >0</td>\n",
       "      <td id=\"T_c2de9_row16_col6\" class=\"data row16 col6\" >0</td>\n",
       "      <td id=\"T_c2de9_row16_col7\" class=\"data row16 col7\" >0</td>\n",
       "      <td id=\"T_c2de9_row16_col8\" class=\"data row16 col8\" >0</td>\n",
       "      <td id=\"T_c2de9_row16_col9\" class=\"data row16 col9\" >0</td>\n",
       "      <td id=\"T_c2de9_row16_col10\" class=\"data row16 col10\" >98</td>\n",
       "      <td id=\"T_c2de9_row16_col11\" class=\"data row16 col11\" >247</td>\n",
       "      <td id=\"T_c2de9_row16_col12\" class=\"data row16 col12\" >253</td>\n",
       "      <td id=\"T_c2de9_row16_col13\" class=\"data row16 col13\" >253</td>\n",
       "      <td id=\"T_c2de9_row16_col14\" class=\"data row16 col14\" >226</td>\n",
       "      <td id=\"T_c2de9_row16_col15\" class=\"data row16 col15\" >9</td>\n",
       "      <td id=\"T_c2de9_row16_col16\" class=\"data row16 col16\" >0</td>\n",
       "      <td id=\"T_c2de9_row16_col17\" class=\"data row16 col17\" >0</td>\n",
       "    </tr>\n",
       "    <tr>\n",
       "      <th id=\"T_c2de9_level0_row17\" class=\"row_heading level0 row17\" >17</th>\n",
       "      <td id=\"T_c2de9_row17_col0\" class=\"data row17 col0\" >0</td>\n",
       "      <td id=\"T_c2de9_row17_col1\" class=\"data row17 col1\" >0</td>\n",
       "      <td id=\"T_c2de9_row17_col2\" class=\"data row17 col2\" >0</td>\n",
       "      <td id=\"T_c2de9_row17_col3\" class=\"data row17 col3\" >0</td>\n",
       "      <td id=\"T_c2de9_row17_col4\" class=\"data row17 col4\" >0</td>\n",
       "      <td id=\"T_c2de9_row17_col5\" class=\"data row17 col5\" >0</td>\n",
       "      <td id=\"T_c2de9_row17_col6\" class=\"data row17 col6\" >0</td>\n",
       "      <td id=\"T_c2de9_row17_col7\" class=\"data row17 col7\" >0</td>\n",
       "      <td id=\"T_c2de9_row17_col8\" class=\"data row17 col8\" >42</td>\n",
       "      <td id=\"T_c2de9_row17_col9\" class=\"data row17 col9\" >150</td>\n",
       "      <td id=\"T_c2de9_row17_col10\" class=\"data row17 col10\" >252</td>\n",
       "      <td id=\"T_c2de9_row17_col11\" class=\"data row17 col11\" >253</td>\n",
       "      <td id=\"T_c2de9_row17_col12\" class=\"data row17 col12\" >253</td>\n",
       "      <td id=\"T_c2de9_row17_col13\" class=\"data row17 col13\" >233</td>\n",
       "      <td id=\"T_c2de9_row17_col14\" class=\"data row17 col14\" >53</td>\n",
       "      <td id=\"T_c2de9_row17_col15\" class=\"data row17 col15\" >0</td>\n",
       "      <td id=\"T_c2de9_row17_col16\" class=\"data row17 col16\" >0</td>\n",
       "      <td id=\"T_c2de9_row17_col17\" class=\"data row17 col17\" >0</td>\n",
       "    </tr>\n",
       "    <tr>\n",
       "      <th id=\"T_c2de9_level0_row18\" class=\"row_heading level0 row18\" >18</th>\n",
       "      <td id=\"T_c2de9_row18_col0\" class=\"data row18 col0\" >0</td>\n",
       "      <td id=\"T_c2de9_row18_col1\" class=\"data row18 col1\" >0</td>\n",
       "      <td id=\"T_c2de9_row18_col2\" class=\"data row18 col2\" >42</td>\n",
       "      <td id=\"T_c2de9_row18_col3\" class=\"data row18 col3\" >115</td>\n",
       "      <td id=\"T_c2de9_row18_col4\" class=\"data row18 col4\" >42</td>\n",
       "      <td id=\"T_c2de9_row18_col5\" class=\"data row18 col5\" >60</td>\n",
       "      <td id=\"T_c2de9_row18_col6\" class=\"data row18 col6\" >115</td>\n",
       "      <td id=\"T_c2de9_row18_col7\" class=\"data row18 col7\" >159</td>\n",
       "      <td id=\"T_c2de9_row18_col8\" class=\"data row18 col8\" >240</td>\n",
       "      <td id=\"T_c2de9_row18_col9\" class=\"data row18 col9\" >253</td>\n",
       "      <td id=\"T_c2de9_row18_col10\" class=\"data row18 col10\" >253</td>\n",
       "      <td id=\"T_c2de9_row18_col11\" class=\"data row18 col11\" >250</td>\n",
       "      <td id=\"T_c2de9_row18_col12\" class=\"data row18 col12\" >175</td>\n",
       "      <td id=\"T_c2de9_row18_col13\" class=\"data row18 col13\" >25</td>\n",
       "      <td id=\"T_c2de9_row18_col14\" class=\"data row18 col14\" >0</td>\n",
       "      <td id=\"T_c2de9_row18_col15\" class=\"data row18 col15\" >0</td>\n",
       "      <td id=\"T_c2de9_row18_col16\" class=\"data row18 col16\" >0</td>\n",
       "      <td id=\"T_c2de9_row18_col17\" class=\"data row18 col17\" >0</td>\n",
       "    </tr>\n",
       "    <tr>\n",
       "      <th id=\"T_c2de9_level0_row19\" class=\"row_heading level0 row19\" >19</th>\n",
       "      <td id=\"T_c2de9_row19_col0\" class=\"data row19 col0\" >0</td>\n",
       "      <td id=\"T_c2de9_row19_col1\" class=\"data row19 col1\" >0</td>\n",
       "      <td id=\"T_c2de9_row19_col2\" class=\"data row19 col2\" >187</td>\n",
       "      <td id=\"T_c2de9_row19_col3\" class=\"data row19 col3\" >253</td>\n",
       "      <td id=\"T_c2de9_row19_col4\" class=\"data row19 col4\" >253</td>\n",
       "      <td id=\"T_c2de9_row19_col5\" class=\"data row19 col5\" >253</td>\n",
       "      <td id=\"T_c2de9_row19_col6\" class=\"data row19 col6\" >253</td>\n",
       "      <td id=\"T_c2de9_row19_col7\" class=\"data row19 col7\" >253</td>\n",
       "      <td id=\"T_c2de9_row19_col8\" class=\"data row19 col8\" >253</td>\n",
       "      <td id=\"T_c2de9_row19_col9\" class=\"data row19 col9\" >253</td>\n",
       "      <td id=\"T_c2de9_row19_col10\" class=\"data row19 col10\" >197</td>\n",
       "      <td id=\"T_c2de9_row19_col11\" class=\"data row19 col11\" >86</td>\n",
       "      <td id=\"T_c2de9_row19_col12\" class=\"data row19 col12\" >0</td>\n",
       "      <td id=\"T_c2de9_row19_col13\" class=\"data row19 col13\" >0</td>\n",
       "      <td id=\"T_c2de9_row19_col14\" class=\"data row19 col14\" >0</td>\n",
       "      <td id=\"T_c2de9_row19_col15\" class=\"data row19 col15\" >0</td>\n",
       "      <td id=\"T_c2de9_row19_col16\" class=\"data row19 col16\" >0</td>\n",
       "      <td id=\"T_c2de9_row19_col17\" class=\"data row19 col17\" >0</td>\n",
       "    </tr>\n",
       "    <tr>\n",
       "      <th id=\"T_c2de9_level0_row20\" class=\"row_heading level0 row20\" >20</th>\n",
       "      <td id=\"T_c2de9_row20_col0\" class=\"data row20 col0\" >0</td>\n",
       "      <td id=\"T_c2de9_row20_col1\" class=\"data row20 col1\" >0</td>\n",
       "      <td id=\"T_c2de9_row20_col2\" class=\"data row20 col2\" >103</td>\n",
       "      <td id=\"T_c2de9_row20_col3\" class=\"data row20 col3\" >253</td>\n",
       "      <td id=\"T_c2de9_row20_col4\" class=\"data row20 col4\" >253</td>\n",
       "      <td id=\"T_c2de9_row20_col5\" class=\"data row20 col5\" >253</td>\n",
       "      <td id=\"T_c2de9_row20_col6\" class=\"data row20 col6\" >253</td>\n",
       "      <td id=\"T_c2de9_row20_col7\" class=\"data row20 col7\" >253</td>\n",
       "      <td id=\"T_c2de9_row20_col8\" class=\"data row20 col8\" >232</td>\n",
       "      <td id=\"T_c2de9_row20_col9\" class=\"data row20 col9\" >67</td>\n",
       "      <td id=\"T_c2de9_row20_col10\" class=\"data row20 col10\" >1</td>\n",
       "      <td id=\"T_c2de9_row20_col11\" class=\"data row20 col11\" >0</td>\n",
       "      <td id=\"T_c2de9_row20_col12\" class=\"data row20 col12\" >0</td>\n",
       "      <td id=\"T_c2de9_row20_col13\" class=\"data row20 col13\" >0</td>\n",
       "      <td id=\"T_c2de9_row20_col14\" class=\"data row20 col14\" >0</td>\n",
       "      <td id=\"T_c2de9_row20_col15\" class=\"data row20 col15\" >0</td>\n",
       "      <td id=\"T_c2de9_row20_col16\" class=\"data row20 col16\" >0</td>\n",
       "      <td id=\"T_c2de9_row20_col17\" class=\"data row20 col17\" >0</td>\n",
       "    </tr>\n",
       "    <tr>\n",
       "      <th id=\"T_c2de9_level0_row21\" class=\"row_heading level0 row21\" >21</th>\n",
       "      <td id=\"T_c2de9_row21_col0\" class=\"data row21 col0\" >0</td>\n",
       "      <td id=\"T_c2de9_row21_col1\" class=\"data row21 col1\" >0</td>\n",
       "      <td id=\"T_c2de9_row21_col2\" class=\"data row21 col2\" >0</td>\n",
       "      <td id=\"T_c2de9_row21_col3\" class=\"data row21 col3\" >0</td>\n",
       "      <td id=\"T_c2de9_row21_col4\" class=\"data row21 col4\" >0</td>\n",
       "      <td id=\"T_c2de9_row21_col5\" class=\"data row21 col5\" >0</td>\n",
       "      <td id=\"T_c2de9_row21_col6\" class=\"data row21 col6\" >0</td>\n",
       "      <td id=\"T_c2de9_row21_col7\" class=\"data row21 col7\" >0</td>\n",
       "      <td id=\"T_c2de9_row21_col8\" class=\"data row21 col8\" >0</td>\n",
       "      <td id=\"T_c2de9_row21_col9\" class=\"data row21 col9\" >0</td>\n",
       "      <td id=\"T_c2de9_row21_col10\" class=\"data row21 col10\" >0</td>\n",
       "      <td id=\"T_c2de9_row21_col11\" class=\"data row21 col11\" >0</td>\n",
       "      <td id=\"T_c2de9_row21_col12\" class=\"data row21 col12\" >0</td>\n",
       "      <td id=\"T_c2de9_row21_col13\" class=\"data row21 col13\" >0</td>\n",
       "      <td id=\"T_c2de9_row21_col14\" class=\"data row21 col14\" >0</td>\n",
       "      <td id=\"T_c2de9_row21_col15\" class=\"data row21 col15\" >0</td>\n",
       "      <td id=\"T_c2de9_row21_col16\" class=\"data row21 col16\" >0</td>\n",
       "      <td id=\"T_c2de9_row21_col17\" class=\"data row21 col17\" >0</td>\n",
       "    </tr>\n",
       "    <tr>\n",
       "      <th id=\"T_c2de9_level0_row22\" class=\"row_heading level0 row22\" >22</th>\n",
       "      <td id=\"T_c2de9_row22_col0\" class=\"data row22 col0\" >0</td>\n",
       "      <td id=\"T_c2de9_row22_col1\" class=\"data row22 col1\" >0</td>\n",
       "      <td id=\"T_c2de9_row22_col2\" class=\"data row22 col2\" >0</td>\n",
       "      <td id=\"T_c2de9_row22_col3\" class=\"data row22 col3\" >0</td>\n",
       "      <td id=\"T_c2de9_row22_col4\" class=\"data row22 col4\" >0</td>\n",
       "      <td id=\"T_c2de9_row22_col5\" class=\"data row22 col5\" >0</td>\n",
       "      <td id=\"T_c2de9_row22_col6\" class=\"data row22 col6\" >0</td>\n",
       "      <td id=\"T_c2de9_row22_col7\" class=\"data row22 col7\" >0</td>\n",
       "      <td id=\"T_c2de9_row22_col8\" class=\"data row22 col8\" >0</td>\n",
       "      <td id=\"T_c2de9_row22_col9\" class=\"data row22 col9\" >0</td>\n",
       "      <td id=\"T_c2de9_row22_col10\" class=\"data row22 col10\" >0</td>\n",
       "      <td id=\"T_c2de9_row22_col11\" class=\"data row22 col11\" >0</td>\n",
       "      <td id=\"T_c2de9_row22_col12\" class=\"data row22 col12\" >0</td>\n",
       "      <td id=\"T_c2de9_row22_col13\" class=\"data row22 col13\" >0</td>\n",
       "      <td id=\"T_c2de9_row22_col14\" class=\"data row22 col14\" >0</td>\n",
       "      <td id=\"T_c2de9_row22_col15\" class=\"data row22 col15\" >0</td>\n",
       "      <td id=\"T_c2de9_row22_col16\" class=\"data row22 col16\" >0</td>\n",
       "      <td id=\"T_c2de9_row22_col17\" class=\"data row22 col17\" >0</td>\n",
       "    </tr>\n",
       "    <tr>\n",
       "      <th id=\"T_c2de9_level0_row23\" class=\"row_heading level0 row23\" >23</th>\n",
       "      <td id=\"T_c2de9_row23_col0\" class=\"data row23 col0\" >0</td>\n",
       "      <td id=\"T_c2de9_row23_col1\" class=\"data row23 col1\" >0</td>\n",
       "      <td id=\"T_c2de9_row23_col2\" class=\"data row23 col2\" >0</td>\n",
       "      <td id=\"T_c2de9_row23_col3\" class=\"data row23 col3\" >0</td>\n",
       "      <td id=\"T_c2de9_row23_col4\" class=\"data row23 col4\" >0</td>\n",
       "      <td id=\"T_c2de9_row23_col5\" class=\"data row23 col5\" >0</td>\n",
       "      <td id=\"T_c2de9_row23_col6\" class=\"data row23 col6\" >0</td>\n",
       "      <td id=\"T_c2de9_row23_col7\" class=\"data row23 col7\" >0</td>\n",
       "      <td id=\"T_c2de9_row23_col8\" class=\"data row23 col8\" >0</td>\n",
       "      <td id=\"T_c2de9_row23_col9\" class=\"data row23 col9\" >0</td>\n",
       "      <td id=\"T_c2de9_row23_col10\" class=\"data row23 col10\" >0</td>\n",
       "      <td id=\"T_c2de9_row23_col11\" class=\"data row23 col11\" >0</td>\n",
       "      <td id=\"T_c2de9_row23_col12\" class=\"data row23 col12\" >0</td>\n",
       "      <td id=\"T_c2de9_row23_col13\" class=\"data row23 col13\" >0</td>\n",
       "      <td id=\"T_c2de9_row23_col14\" class=\"data row23 col14\" >0</td>\n",
       "      <td id=\"T_c2de9_row23_col15\" class=\"data row23 col15\" >0</td>\n",
       "      <td id=\"T_c2de9_row23_col16\" class=\"data row23 col16\" >0</td>\n",
       "      <td id=\"T_c2de9_row23_col17\" class=\"data row23 col17\" >0</td>\n",
       "    </tr>\n",
       "  </tbody>\n",
       "</table>\n"
      ],
      "text/plain": [
       "<pandas.io.formats.style.Styler at 0x7fdeca908160>"
      ]
     },
     "execution_count": 8,
     "metadata": {},
     "output_type": "execute_result"
    }
   ],
   "source": [
    "im3_t = tensor(im3)\n",
    "df = pd.DataFrame(im3_t[4:30, 4:22])\n",
    "df.style.set_properties(**{'font-size':'6pt'}).background_gradient('Greys')"
   ]
  },
  {
   "cell_type": "markdown",
   "id": "b68277b1",
   "metadata": {},
   "source": [
    "## Baseline - pixel similarity"
   ]
  },
  {
   "cell_type": "code",
   "execution_count": 9,
   "id": "9a36eaf1",
   "metadata": {},
   "outputs": [],
   "source": [
    "digit_tensors = {d: [tensor(Image.open(o)) for o in digits[d]] for d in digits}\n",
    "# three_tensors = [tensor(Image.open(o)) for o in threes]\n",
    "# len(seven_tensors), len(three_tensors)"
   ]
  },
  {
   "cell_type": "code",
   "execution_count": 10,
   "id": "ed206bb1",
   "metadata": {},
   "outputs": [
    {
     "data": {
      "text/plain": [
       "(5923, 6742, 5949)"
      ]
     },
     "execution_count": 10,
     "metadata": {},
     "output_type": "execute_result"
    }
   ],
   "source": [
    "len(digit_tensors[0]), len(digit_tensors[1]), len(digit_tensors[9])"
   ]
  },
  {
   "cell_type": "code",
   "execution_count": 11,
   "id": "31f08f60",
   "metadata": {},
   "outputs": [
    {
     "data": {
      "image/png": "[encoded data removed]",
      "text/plain": [
       "<Figure size 100x100 with 1 Axes>"
      ]
     },
     "metadata": {},
     "output_type": "display_data"
    }
   ],
   "source": [
    "show_image(digit_tensors[3][1]);"
   ]
  },
  {
   "cell_type": "code",
   "execution_count": 12,
   "id": "5129e1ee",
   "metadata": {},
   "outputs": [
    {
     "data": {
      "text/plain": [
       "[(0, torch.Size([5923, 28, 28])),\n",
       " (1, torch.Size([6742, 28, 28])),\n",
       " (2, torch.Size([5958, 28, 28])),\n",
       " (3, torch.Size([6131, 28, 28])),\n",
       " (4, torch.Size([5842, 28, 28])),\n",
       " (5, torch.Size([5421, 28, 28])),\n",
       " (6, torch.Size([5918, 28, 28])),\n",
       " (7, torch.Size([6265, 28, 28])),\n",
       " (8, torch.Size([5851, 28, 28])),\n",
       " (9, torch.Size([5949, 28, 28]))]"
      ]
     },
     "execution_count": 12,
     "metadata": {},
     "output_type": "execute_result"
    }
   ],
   "source": [
    "stacked_digits = {d: torch.stack(digit_tensors[d]).float()/255 for d in digits}\n",
    "[(i, stacked_digits[i].shape) for i in range(0, 10)]"
   ]
  },
  {
   "cell_type": "code",
   "execution_count": 13,
   "id": "dc5e8809",
   "metadata": {},
   "outputs": [
    {
     "data": {
      "text/plain": [
       "3"
      ]
     },
     "execution_count": 13,
     "metadata": {},
     "output_type": "execute_result"
    }
   ],
   "source": [
    "len(stacked_digits[3].shape)"
   ]
  },
  {
   "cell_type": "code",
   "execution_count": 14,
   "id": "a0531f60",
   "metadata": {},
   "outputs": [
    {
     "data": {
      "text/plain": [
       "3"
      ]
     },
     "execution_count": 14,
     "metadata": {},
     "output_type": "execute_result"
    }
   ],
   "source": [
    "stacked_digits[3].ndim"
   ]
  },
  {
   "cell_type": "code",
   "execution_count": 15,
   "id": "88e88e1b",
   "metadata": {
    "scrolled": true
   },
   "outputs": [
    {
     "data": {
      "image/png": "[encoded data removed]",
      "text/plain": [
       "<Figure size 3000x300 with 10 Axes>"
      ]
     },
     "metadata": {},
     "output_type": "display_data"
    }
   ],
   "source": [
    "mean = [stacked_digits[i].mean(0) for i in digits]\n",
    "show_images(mean);"
   ]
  },
  {
   "cell_type": "code",
   "execution_count": 16,
   "id": "49bbc78f",
   "metadata": {},
   "outputs": [
    {
     "data": {
      "text/plain": [
       "torch.Size([28, 28])"
      ]
     },
     "execution_count": 16,
     "metadata": {},
     "output_type": "execute_result"
    }
   ],
   "source": [
    "mean[3].shape"
   ]
  },
  {
   "cell_type": "code",
   "execution_count": 17,
   "id": "3695fe7a",
   "metadata": {},
   "outputs": [
    {
     "data": {
      "image/png": "[encoded data removed]",
      "text/plain": [
       "<Figure size 100x100 with 1 Axes>"
      ]
     },
     "metadata": {},
     "output_type": "display_data"
    }
   ],
   "source": [
    "a_3 = stacked_digits[3][1]\n",
    "show_image(a_3);"
   ]
  },
  {
   "cell_type": "code",
   "execution_count": 18,
   "id": "2c09cdb1",
   "metadata": {},
   "outputs": [
    {
     "data": {
      "text/plain": [
       "(tensor(0.1114), tensor(0.2021))"
      ]
     },
     "execution_count": 18,
     "metadata": {},
     "output_type": "execute_result"
    }
   ],
   "source": [
    "dist_3_abs = (a_3 - mean[3]).abs().mean()\n",
    "dist_3_sqr = ((a_3 - mean[3])**2).mean().sqrt()\n",
    "dist_3_abs, dist_3_sqr"
   ]
  },
  {
   "cell_type": "code",
   "execution_count": 19,
   "id": "07f8ccea",
   "metadata": {},
   "outputs": [
    {
     "data": {
      "text/plain": [
       "(tensor(0.1586), tensor(0.3021))"
      ]
     },
     "execution_count": 19,
     "metadata": {},
     "output_type": "execute_result"
    }
   ],
   "source": [
    "F.l1_loss(a_3.float(), mean[7]), F.mse_loss(a_3, mean[7]).sqrt()"
   ]
  },
  {
   "cell_type": "code",
   "execution_count": 20,
   "id": "59501312",
   "metadata": {
    "scrolled": true
   },
   "outputs": [
    {
     "data": {
      "text/plain": [
       "[(0, torch.Size([980, 28, 28])),\n",
       " (1, torch.Size([1135, 28, 28])),\n",
       " (2, torch.Size([1032, 28, 28])),\n",
       " (3, torch.Size([1010, 28, 28])),\n",
       " (4, torch.Size([982, 28, 28])),\n",
       " (5, torch.Size([892, 28, 28])),\n",
       " (6, torch.Size([958, 28, 28])),\n",
       " (7, torch.Size([1028, 28, 28])),\n",
       " (8, torch.Size([974, 28, 28])),\n",
       " (9, torch.Size([1009, 28, 28]))]"
      ]
     },
     "execution_count": 20,
     "metadata": {},
     "output_type": "execute_result"
    }
   ],
   "source": [
    "valid_stacked_digits = {d: torch.stack([tensor(Image.open(o)).float()/255 for o in (path/'testing'/f'{d}').ls()]) for d in digits}\n",
    "\n",
    "[(d, valid_stacked_digits[d].shape) for d in valid_stacked_digits]"
   ]
  },
  {
   "cell_type": "code",
   "execution_count": 21,
   "id": "9d844cbf",
   "metadata": {},
   "outputs": [
    {
     "data": {
      "text/plain": [
       "tensor(0.1114)"
      ]
     },
     "execution_count": 21,
     "metadata": {},
     "output_type": "execute_result"
    }
   ],
   "source": [
    "def mnist_distance(a, b):\n",
    "    return (a - b).abs().mean((-1, -2))\n",
    "\n",
    "mnist_distance(a_3, mean[3])"
   ]
  },
  {
   "cell_type": "code",
   "execution_count": 22,
   "id": "558221ea",
   "metadata": {},
   "outputs": [
    {
     "data": {
      "text/plain": [
       "(tensor([0.1072, 0.1188, 0.1143,  ..., 0.1141, 0.1299, 0.1079]),\n",
       " torch.Size([1010]))"
      ]
     },
     "execution_count": 22,
     "metadata": {},
     "output_type": "execute_result"
    }
   ],
   "source": [
    "valid_3_dist = mnist_distance(valid_stacked_digits[3], mean[3])\n",
    "valid_3_dist, valid_3_dist.shape"
   ]
  },
  {
   "cell_type": "code",
   "execution_count": 23,
   "id": "ca78f733",
   "metadata": {},
   "outputs": [
    {
     "data": {
      "text/plain": [
       "(torch.Size([1010]), torch.Size([1010]))"
      ]
     },
     "execution_count": 23,
     "metadata": {},
     "output_type": "execute_result"
    }
   ],
   "source": [
    "mnist_distance(valid_stacked_digits[3], mean[3]).shape, mnist_distance(valid_stacked_digits[3], mean[4]).shape"
   ]
  },
  {
   "cell_type": "code",
   "execution_count": 24,
   "id": "9fcef39c",
   "metadata": {},
   "outputs": [
    {
     "data": {
      "text/plain": [
       "tensor([0.1879, 0.1353, 0.1734, 0.1114, 0.1704, 0.1443, 0.1723, 0.1586, 0.1550,\n",
       "        0.1601])"
      ]
     },
     "execution_count": 24,
     "metadata": {},
     "output_type": "execute_result"
    }
   ],
   "source": [
    "def get_digit_distance(x):\n",
    "    dist = [mnist_distance(x, mean[i]) for i in range(0, 10)]\n",
    "    return torch.stack(dist).t()\n",
    "\n",
    "get_digit_distance(a_3)"
   ]
  },
  {
   "cell_type": "code",
   "execution_count": 25,
   "id": "ddf1efb8",
   "metadata": {},
   "outputs": [
    {
     "data": {
      "text/plain": [
       "tensor([[0.1750, 0.1153, 0.1501, 0.1074, 0.1635, 0.1326, 0.1579, 0.1441, 0.1345,\n",
       "         0.1402],\n",
       "        [0.1879, 0.1353, 0.1734, 0.1114, 0.1704, 0.1443, 0.1723, 0.1586, 0.1550,\n",
       "         0.1601],\n",
       "        [0.1644, 0.1433, 0.1583, 0.1100, 0.1642, 0.1364, 0.1749, 0.1541, 0.1343,\n",
       "         0.1580],\n",
       "        [0.1764, 0.1553, 0.1643, 0.1154, 0.1637, 0.1491, 0.1698, 0.1669, 0.1437,\n",
       "         0.1527],\n",
       "        [0.1731, 0.1431, 0.1531, 0.1300, 0.1880, 0.1638, 0.1670, 0.1680, 0.1707,\n",
       "         0.1808]])"
      ]
     },
     "execution_count": 25,
     "metadata": {},
     "output_type": "execute_result"
    }
   ],
   "source": [
    "get_digit_distance(stacked_digits[3][:5])"
   ]
  },
  {
   "cell_type": "code",
   "execution_count": 26,
   "id": "211f0277",
   "metadata": {},
   "outputs": [
    {
     "data": {
      "text/plain": [
       "tensor([[0.1750, 0.1153, 0.1501,  ..., 0.1441, 0.1345, 0.1402],\n",
       "        [0.1879, 0.1353, 0.1734,  ..., 0.1586, 0.1550, 0.1601],\n",
       "        [0.1644, 0.1433, 0.1583,  ..., 0.1541, 0.1343, 0.1580],\n",
       "        ...,\n",
       "        [0.1793, 0.1582, 0.1610,  ..., 0.1792, 0.1474, 0.1682],\n",
       "        [0.1531, 0.1253, 0.1451,  ..., 0.1548, 0.1519, 0.1636],\n",
       "        [0.1655, 0.1257, 0.1459,  ..., 0.1509, 0.1496, 0.1622]])"
      ]
     },
     "execution_count": 26,
     "metadata": {},
     "output_type": "execute_result"
    }
   ],
   "source": [
    "get_digit_distance(stacked_digits[3])"
   ]
  },
  {
   "cell_type": "code",
   "execution_count": 27,
   "id": "fa503f3e",
   "metadata": {},
   "outputs": [
    {
     "data": {
      "text/plain": [
       "tensor([3, 3, 3, 3, 3])"
      ]
     },
     "execution_count": 27,
     "metadata": {},
     "output_type": "execute_result"
    }
   ],
   "source": [
    "def get_digit(x):\n",
    "    return torch.argmin(get_digit_distance(x), dim=1)\n",
    "\n",
    "get_digit(stacked_digits[3][:5])"
   ]
  },
  {
   "cell_type": "code",
   "execution_count": 28,
   "id": "6c4c87f8",
   "metadata": {},
   "outputs": [
    {
     "data": {
      "text/plain": [
       "tensor(0.6610)"
      ]
     },
     "execution_count": 28,
     "metadata": {},
     "output_type": "execute_result"
    }
   ],
   "source": [
    "accuracy = [(get_digit(valid_stacked_digits[i]) == i).float().mean() for i in range(0, 10)]\n",
    "tensor(accuracy).mean()"
   ]
  },
  {
   "cell_type": "markdown",
   "id": "96c1812f",
   "metadata": {},
   "source": [
    "## MNIST loss function"
   ]
  },
  {
   "cell_type": "code",
   "execution_count": 29,
   "id": "58b6417c",
   "metadata": {},
   "outputs": [
    {
     "data": {
      "text/plain": [
       "tensor([0, 0, 1, 0, 0, 0, 0, 0, 0, 0])"
      ]
     },
     "execution_count": 29,
     "metadata": {},
     "output_type": "execute_result"
    }
   ],
   "source": [
    "F.one_hot(tensor(2), num_classes=10)"
   ]
  },
  {
   "cell_type": "code",
   "execution_count": 30,
   "id": "3cb9ecaf",
   "metadata": {},
   "outputs": [
    {
     "data": {
      "text/plain": [
       "(torch.Size([60000, 784]), torch.Size([60000, 1, 10]))"
      ]
     },
     "execution_count": 30,
     "metadata": {},
     "output_type": "execute_result"
    }
   ],
   "source": [
    "train_x = torch.cat([stacked_digits[i] for i in range(0, 10)]).view(-1, 28*28)\n",
    "train_y = tensor([item for sublist in [[i]*len(stacked_digits[i]) for i in range(0, 10)] for item in sublist]).unsqueeze(1)\n",
    "train_y = F.one_hot(train_y)\n",
    "\n",
    "train_x.shape, train_y.shape"
   ]
  },
  {
   "cell_type": "code",
   "execution_count": 31,
   "id": "6f4c359e",
   "metadata": {},
   "outputs": [
    {
     "data": {
      "text/plain": [
       "(torch.Size([784]), tensor([[1, 0, 0, 0, 0, 0, 0, 0, 0, 0]]))"
      ]
     },
     "execution_count": 31,
     "metadata": {},
     "output_type": "execute_result"
    }
   ],
   "source": [
    "dset = list(zip(train_x, train_y))\n",
    "x, y = dset[0]\n",
    "x.shape, y"
   ]
  },
  {
   "cell_type": "code",
   "execution_count": 32,
   "id": "1bd633c4",
   "metadata": {},
   "outputs": [],
   "source": [
    "valid_x = torch.cat([valid_stacked_digits[i] for i in range(0, 10)]).view(-1, 28*28)\n",
    "valid_y = tensor([item for sublist in [[i]*len(valid_stacked_digits[i]) for i in range(0, 10)] for item in sublist]).unsqueeze(1)\n",
    "valid_y = F.one_hot(valid_y)\n",
    "\n",
    "valid_dset = list(zip(valid_x, valid_y))"
   ]
  },
  {
   "cell_type": "code",
   "execution_count": 33,
   "id": "e7189d2e",
   "metadata": {},
   "outputs": [
    {
     "data": {
      "text/plain": [
       "torch.Size([784, 10])"
      ]
     },
     "execution_count": 33,
     "metadata": {},
     "output_type": "execute_result"
    }
   ],
   "source": [
    "def init_params(size, std=1.0):\n",
    "    return (torch.randn(size)*std).requires_grad_()\n",
    "\n",
    "weights = init_params((28*28, 10))\n",
    "weights.shape"
   ]
  },
  {
   "cell_type": "code",
   "execution_count": 34,
   "id": "bfa3f0c9",
   "metadata": {},
   "outputs": [
    {
     "data": {
      "text/plain": [
       "tensor([ 1.7837,  1.0799,  0.8421,  0.7839,  0.7786,  0.6337, -0.2769,  1.4506,\n",
       "         0.2980,  0.9212], requires_grad=True)"
      ]
     },
     "execution_count": 34,
     "metadata": {},
     "output_type": "execute_result"
    }
   ],
   "source": [
    "bias = init_params(10)\n",
    "bias"
   ]
  },
  {
   "cell_type": "code",
   "execution_count": 35,
   "id": "b51dd1f2",
   "metadata": {},
   "outputs": [
    {
     "data": {
      "text/plain": [
       "tensor([-77.9565, -78.6602, -78.8980, -78.9562, -78.9616, -79.1064, -80.0171,\n",
       "        -78.2896, -79.4421, -78.8190], grad_fn=<AddBackward0>)"
      ]
     },
     "execution_count": 35,
     "metadata": {},
     "output_type": "execute_result"
    }
   ],
   "source": [
    "(train_x[0] * weights.T).sum() + bias"
   ]
  },
  {
   "cell_type": "code",
   "execution_count": 36,
   "id": "7e166620",
   "metadata": {},
   "outputs": [
    {
     "data": {
      "text/plain": [
       "tensor([[-20.6389,  -4.0007, -23.0729,  ...,  -5.8061,  -7.0488,  -4.0346],\n",
       "        [ -3.4853,  -7.5395,  -0.6658,  ...,   4.2509,   0.0364,  -0.1386],\n",
       "        [-35.3979, -10.4865, -29.6204,  ..., -13.8063, -14.6209, -17.1771],\n",
       "        ...,\n",
       "        [ -2.3912,   6.3752, -13.4905,  ...,  -5.2491,  -6.9944,   4.2710],\n",
       "        [-31.2156, -10.2723,  -2.1517,  ...,  -7.1069, -11.6009,  -4.0687],\n",
       "        [ -6.1078,   3.6449,  -5.5461,  ...,   5.5610, -10.6828,   4.9230]],\n",
       "       grad_fn=<AddBackward0>)"
      ]
     },
     "execution_count": 36,
     "metadata": {},
     "output_type": "execute_result"
    }
   ],
   "source": [
    "def linear1(xb):\n",
    "    return xb@weights + bias\n",
    "\n",
    "preds = linear1(train_x)\n",
    "preds"
   ]
  },
  {
   "cell_type": "code",
   "execution_count": 37,
   "id": "bc3b032f",
   "metadata": {},
   "outputs": [
    {
     "data": {
      "text/plain": [
       "tensor([[0],\n",
       "        [0],\n",
       "        [0],\n",
       "        ...,\n",
       "        [9],\n",
       "        [9],\n",
       "        [9]])"
      ]
     },
     "execution_count": 37,
     "metadata": {},
     "output_type": "execute_result"
    }
   ],
   "source": [
    "torch.argmax(train_y, dim=2)"
   ]
  },
  {
   "cell_type": "code",
   "execution_count": 38,
   "id": "e42d4543",
   "metadata": {},
   "outputs": [
    {
     "data": {
      "text/plain": [
       "tensor([[5],\n",
       "        [7],\n",
       "        [5],\n",
       "        ...,\n",
       "        [6],\n",
       "        [6],\n",
       "        [6]])"
      ]
     },
     "execution_count": 38,
     "metadata": {},
     "output_type": "execute_result"
    }
   ],
   "source": [
    "torch.argmax(preds, dim=1).unsqueeze(-1)"
   ]
  },
  {
   "cell_type": "code",
   "execution_count": 39,
   "id": "0d1540d9",
   "metadata": {},
   "outputs": [
    {
     "data": {
      "text/plain": [
       "tensor([[False],\n",
       "        [False],\n",
       "        [False],\n",
       "        ...,\n",
       "        [False],\n",
       "        [False],\n",
       "        [False]])"
      ]
     },
     "execution_count": 39,
     "metadata": {},
     "output_type": "execute_result"
    }
   ],
   "source": [
    "corrects = torch.argmax(preds, dim=1).unsqueeze(-1) == torch.argmax(train_y, dim=2)\n",
    "corrects"
   ]
  },
  {
   "cell_type": "code",
   "execution_count": 40,
   "id": "194de634",
   "metadata": {},
   "outputs": [
    {
     "data": {
      "text/plain": [
       "0.10180000215768814"
      ]
     },
     "execution_count": 40,
     "metadata": {},
     "output_type": "execute_result"
    }
   ],
   "source": [
    "corrects.float().mean().item()"
   ]
  },
  {
   "cell_type": "code",
   "execution_count": 41,
   "id": "64e0e663",
   "metadata": {},
   "outputs": [],
   "source": [
    "# weights[0] *= 1.0001\n",
    "\n",
    "# preds = linear1(train_x)\n",
    "# ((preds > 0.0).float() == train_y).float().mean().item()"
   ]
  },
  {
   "cell_type": "code",
   "execution_count": 42,
   "id": "7c38cfdb",
   "metadata": {},
   "outputs": [
    {
     "data": {
      "text/plain": [
       "(tensor([[0, 0, 0, 1, 0, 0, 0, 0, 0, 0],\n",
       "         [1, 0, 0, 0, 0, 0, 0, 0, 0, 0],\n",
       "         [0, 0, 0, 0, 0, 1, 0, 0, 0, 0]]),\n",
       " tensor([[-0.2000, -0.1533, -0.0831, -1.1975,  1.8262,  1.1356, -0.0631,  1.3458,\n",
       "          -0.0741, -0.6194],\n",
       "         [-0.3325, -1.9227,  0.6175, -1.6173, -1.5775,  0.3451, -1.9291, -0.5532,\n",
       "          -0.8933, -0.4973],\n",
       "         [-1.5415, -0.8740,  0.8409,  0.2079,  0.9408, -2.0108,  0.3416, -0.6664,\n",
       "           1.1605, -0.8380]]))"
      ]
     },
     "execution_count": 42,
     "metadata": {},
     "output_type": "execute_result"
    }
   ],
   "source": [
    "trgts = F.one_hot(tensor([3, 0, 5]), num_classes=10)\n",
    "prds = torch.randn(3, 10)\n",
    "\n",
    "trgts, prds"
   ]
  },
  {
   "cell_type": "code",
   "execution_count": 43,
   "id": "a2804869",
   "metadata": {},
   "outputs": [],
   "source": [
    "def plot_function(f, title=None, min=-2.1, max=2.1, color='r', ylim=None):\n",
    "    x = torch.linspace(min,max, 100)[:,None]\n",
    "    if ylim: plt.ylim(ylim)\n",
    "    plt.plot(x, f(x), color)\n",
    "    if title is not None: plt.title(title)"
   ]
  },
  {
   "cell_type": "code",
   "execution_count": 44,
   "id": "bf4a6af4",
   "metadata": {},
   "outputs": [
    {
     "data": {
      "image/png": "[encoded data removed]",
      "text/plain": [
       "<Figure size 640x480 with 1 Axes>"
      ]
     },
     "metadata": {},
     "output_type": "display_data"
    }
   ],
   "source": [
    "plot_function(torch.sigmoid, title='Sigmoid', min=-4, max=4)"
   ]
  },
  {
   "cell_type": "code",
   "execution_count": 45,
   "id": "df3c458b",
   "metadata": {},
   "outputs": [
    {
     "data": {
      "text/plain": [
       "tensor(0.4879)"
      ]
     },
     "execution_count": 45,
     "metadata": {},
     "output_type": "execute_result"
    }
   ],
   "source": [
    "def mnist_loss(predictions, targets):\n",
    "    predictions = predictions.sigmoid()\n",
    "    \n",
    "    return (targets - predictions).abs().mean()\n",
    "\n",
    "mnist_loss(prds, trgts)"
   ]
  },
  {
   "cell_type": "markdown",
   "id": "9fc9e5d1",
   "metadata": {},
   "source": [
    "## SGD and mini-batches"
   ]
  },
  {
   "cell_type": "code",
   "execution_count": 46,
   "id": "ad60cb99",
   "metadata": {},
   "outputs": [
    {
     "data": {
      "text/plain": [
       "[tensor([12,  8,  1,  0,  7]),\n",
       " tensor([14,  5, 11, 13,  9]),\n",
       " tensor([10,  4,  2,  3,  6])]"
      ]
     },
     "execution_count": 46,
     "metadata": {},
     "output_type": "execute_result"
    }
   ],
   "source": [
    "coll = range(15)\n",
    "dl = DataLoader(coll, batch_size=5, shuffle=True)\n",
    "list(dl)"
   ]
  },
  {
   "cell_type": "code",
   "execution_count": 47,
   "id": "be310fb4",
   "metadata": {},
   "outputs": [
    {
     "data": {
      "text/plain": [
       "[(0, 10), (1, 20), (2, 30)]"
      ]
     },
     "execution_count": 47,
     "metadata": {},
     "output_type": "execute_result"
    }
   ],
   "source": [
    "list(enumerate([10, 20, 30]))"
   ]
  },
  {
   "cell_type": "code",
   "execution_count": 48,
   "id": "1ca74354",
   "metadata": {},
   "outputs": [
    {
     "data": {
      "text/plain": [
       "(#26) [(0, 'a'),(1, 'b'),(2, 'c'),(3, 'd'),(4, 'e'),(5, 'f'),(6, 'g'),(7, 'h'),(8, 'i'),(9, 'j')...]"
      ]
     },
     "execution_count": 48,
     "metadata": {},
     "output_type": "execute_result"
    }
   ],
   "source": [
    "ds = L(enumerate(string.ascii_lowercase))\n",
    "ds"
   ]
  },
  {
   "cell_type": "code",
   "execution_count": 49,
   "id": "927c46b1",
   "metadata": {},
   "outputs": [
    {
     "data": {
      "text/plain": [
       "[(tensor([18,  7,  3,  4,  1, 23]), ('s', 'h', 'd', 'e', 'b', 'x')),\n",
       " (tensor([17, 12,  9, 19,  5, 22]), ('r', 'm', 'j', 't', 'f', 'w')),\n",
       " (tensor([11, 16,  0, 14,  2, 15]), ('l', 'q', 'a', 'o', 'c', 'p')),\n",
       " (tensor([21,  6,  8, 24, 20, 10]), ('v', 'g', 'i', 'y', 'u', 'k')),\n",
       " (tensor([25, 13]), ('z', 'n'))]"
      ]
     },
     "execution_count": 49,
     "metadata": {},
     "output_type": "execute_result"
    }
   ],
   "source": [
    "dl = DataLoader(ds, batch_size=6, shuffle=True)\n",
    "list(dl)"
   ]
  },
  {
   "cell_type": "markdown",
   "id": "cd8ae849",
   "metadata": {},
   "source": [
    "## Putting it all together"
   ]
  },
  {
   "cell_type": "code",
   "execution_count": 50,
   "id": "2e0217ee",
   "metadata": {},
   "outputs": [
    {
     "data": {
      "text/plain": [
       "(torch.Size([784, 10]),\n",
       " tensor([ 0.7577, -0.2961, -0.7289, -0.5233,  0.6951, -0.5947,  0.2024,  0.4082,\n",
       "         -1.0108,  0.9523], requires_grad=True))"
      ]
     },
     "execution_count": 50,
     "metadata": {},
     "output_type": "execute_result"
    }
   ],
   "source": [
    "weights = init_params((28*28, 10))\n",
    "bias = init_params(10)\n",
    "\n",
    "weights.shape, bias"
   ]
  },
  {
   "cell_type": "code",
   "execution_count": 51,
   "id": "8b729b07",
   "metadata": {},
   "outputs": [
    {
     "data": {
      "text/plain": [
       "(torch.Size([256, 784]), torch.Size([256, 1, 10]))"
      ]
     },
     "execution_count": 51,
     "metadata": {},
     "output_type": "execute_result"
    }
   ],
   "source": [
    "dl = DataLoader(dset, batch_size=256)\n",
    "xb, yb = first(dl)\n",
    "xb.shape, yb.shape"
   ]
  },
  {
   "cell_type": "code",
   "execution_count": 52,
   "id": "b2ebc11e",
   "metadata": {},
   "outputs": [],
   "source": [
    "??first"
   ]
  },
  {
   "cell_type": "code",
   "execution_count": 53,
   "id": "67177254",
   "metadata": {},
   "outputs": [],
   "source": [
    "valid_dl = DataLoader(valid_dset, batch_size=256)"
   ]
  },
  {
   "cell_type": "code",
   "execution_count": 54,
   "id": "071343c3",
   "metadata": {},
   "outputs": [
    {
     "data": {
      "text/plain": [
       "torch.Size([4, 784])"
      ]
     },
     "execution_count": 54,
     "metadata": {},
     "output_type": "execute_result"
    }
   ],
   "source": [
    "batch = train_x[:4]\n",
    "batch.shape"
   ]
  },
  {
   "cell_type": "code",
   "execution_count": 55,
   "id": "42c1db5d",
   "metadata": {},
   "outputs": [
    {
     "data": {
      "text/plain": [
       "tensor([[ -3.8489,   5.1918,  -3.9641,   4.6946,  -9.3191,  -0.4700,  -9.8440,\n",
       "          28.4945,  -3.8503,  -9.7169],\n",
       "        [  0.4293, -11.4024,  -4.9183,  21.4768,  -6.0328,  -3.1483,   0.4441,\n",
       "          23.8904,   4.2893,   2.8863],\n",
       "        [ -1.2646,   4.6752, -12.2016,   7.6305, -13.2067,   5.2890,  -0.0567,\n",
       "          38.1005, -12.8861,  -4.8342],\n",
       "        [  4.8270,  -1.5242,  -4.8307,  19.6544, -22.7353, -11.5530, -11.2700,\n",
       "          17.4724, -13.4444,   5.3103]], grad_fn=<AddBackward0>)"
      ]
     },
     "execution_count": 55,
     "metadata": {},
     "output_type": "execute_result"
    }
   ],
   "source": [
    "preds = linear1(batch)\n",
    "preds"
   ]
  },
  {
   "cell_type": "code",
   "execution_count": 56,
   "id": "ff3557cc",
   "metadata": {},
   "outputs": [
    {
     "data": {
      "text/plain": [
       "tensor(0.4456, grad_fn=<MeanBackward0>)"
      ]
     },
     "execution_count": 56,
     "metadata": {},
     "output_type": "execute_result"
    }
   ],
   "source": [
    "loss = mnist_loss(preds, train_y[:4])\n",
    "loss"
   ]
  },
  {
   "cell_type": "code",
   "execution_count": 57,
   "id": "7ad75026",
   "metadata": {},
   "outputs": [
    {
     "data": {
      "text/plain": [
       "(torch.Size([784, 10]),\n",
       " tensor(0.0003),\n",
       " tensor([-1.0971e-02,  4.0380e-03,  8.3376e-04,  2.3661e-04,  6.1969e-05,\n",
       "          7.0289e-03,  1.2198e-02,  0.0000e+00,  8.4365e-04,  1.5707e-03]))"
      ]
     },
     "execution_count": 57,
     "metadata": {},
     "output_type": "execute_result"
    }
   ],
   "source": [
    "loss.backward()\n",
    "weights.grad.shape, weights.grad.mean(), bias.grad"
   ]
  },
  {
   "cell_type": "code",
   "execution_count": 58,
   "id": "33a11540",
   "metadata": {},
   "outputs": [],
   "source": [
    "def calc_grad(xb, yb, model):\n",
    "    preds = model(xb)\n",
    "    loss = mnist_loss(preds, yb)\n",
    "    loss.backward()"
   ]
  },
  {
   "cell_type": "code",
   "execution_count": 59,
   "id": "108f2221",
   "metadata": {},
   "outputs": [
    {
     "data": {
      "text/plain": [
       "(tensor(0.0005),\n",
       " tensor([-0.0219,  0.0081,  0.0017,  0.0005,  0.0001,  0.0141,  0.0244,  0.0000,\n",
       "          0.0017,  0.0031]))"
      ]
     },
     "execution_count": 59,
     "metadata": {},
     "output_type": "execute_result"
    }
   ],
   "source": [
    "calc_grad(batch, train_y[:4], linear1)\n",
    "weights.grad.mean(), bias.grad"
   ]
  },
  {
   "cell_type": "code",
   "execution_count": 60,
   "id": "db4a7eda",
   "metadata": {},
   "outputs": [
    {
     "data": {
      "text/plain": [
       "(tensor(0.0008),\n",
       " tensor([-0.0329,  0.0121,  0.0025,  0.0007,  0.0002,  0.0211,  0.0366,  0.0000,\n",
       "          0.0025,  0.0047]))"
      ]
     },
     "execution_count": 60,
     "metadata": {},
     "output_type": "execute_result"
    }
   ],
   "source": [
    "calc_grad(batch, train_y[:4], linear1)\n",
    "weights.grad.mean(), bias.grad"
   ]
  },
  {
   "cell_type": "code",
   "execution_count": 61,
   "id": "1c409fb5",
   "metadata": {},
   "outputs": [],
   "source": [
    "weights.grad.zero_()\n",
    "bias.grad.zero_();"
   ]
  },
  {
   "cell_type": "code",
   "execution_count": 62,
   "id": "6810d027",
   "metadata": {},
   "outputs": [],
   "source": [
    "def train_epoch(model, lr, params):\n",
    "    for xb, yb in dl:\n",
    "        calc_grad(xb, yb, model)\n",
    "        for p in params:\n",
    "            p.data -= p.grad*lr\n",
    "            p.grad.zero_()"
   ]
  },
  {
   "cell_type": "code",
   "execution_count": 63,
   "id": "12e1434f",
   "metadata": {},
   "outputs": [],
   "source": [
    "def batch_accuracy(xb, yb):\n",
    "    preds = xb.sigmoid()\n",
    "    correct = torch.argmax(preds, dim=1).unsqueeze(-1) == torch.argmax(yb, dim=2)\n",
    "    return correct.float().mean()"
   ]
  },
  {
   "cell_type": "code",
   "execution_count": 64,
   "id": "806115e6",
   "metadata": {},
   "outputs": [
    {
     "data": {
      "text/plain": [
       "tensor(0.)"
      ]
     },
     "execution_count": 64,
     "metadata": {},
     "output_type": "execute_result"
    }
   ],
   "source": [
    "batch_accuracy(linear1(batch), train_y[:4])"
   ]
  },
  {
   "cell_type": "code",
   "execution_count": 65,
   "id": "14bc4fa4",
   "metadata": {},
   "outputs": [
    {
     "data": {
      "text/plain": [
       "0.0916"
      ]
     },
     "execution_count": 65,
     "metadata": {},
     "output_type": "execute_result"
    }
   ],
   "source": [
    "def validate_epoch(model):\n",
    "    accs = [batch_accuracy(model(xb), yb) for xb, yb in valid_dl]\n",
    "    return round(torch.stack(accs).mean().item(), 4)\n",
    "\n",
    "validate_epoch(linear1)"
   ]
  },
  {
   "cell_type": "code",
   "execution_count": 66,
   "id": "1611ce6f",
   "metadata": {},
   "outputs": [
    {
     "data": {
      "text/plain": [
       "0.1671"
      ]
     },
     "execution_count": 66,
     "metadata": {},
     "output_type": "execute_result"
    }
   ],
   "source": [
    "lr = 2.\n",
    "params = weights,bias\n",
    "train_epoch(linear1, lr, params)\n",
    "validate_epoch(linear1)"
   ]
  },
  {
   "cell_type": "code",
   "execution_count": 67,
   "id": "5cd1ef74",
   "metadata": {
    "scrolled": true
   },
   "outputs": [
    {
     "name": "stdout",
     "output_type": "stream",
     "text": [
      "0.2302 0.264 0.283 0.2979 0.309 "
     ]
    }
   ],
   "source": [
    "for i in range(5):\n",
    "    train_epoch(linear1, lr, params)\n",
    "    print(validate_epoch(linear1), end= ' ')"
   ]
  },
  {
   "cell_type": "markdown",
   "id": "e4bf83d7",
   "metadata": {},
   "source": [
    "## Creating an Optimizer"
   ]
  },
  {
   "cell_type": "code",
   "execution_count": 68,
   "id": "f89a6c14",
   "metadata": {},
   "outputs": [
    {
     "data": {
      "text/plain": [
       "(torch.Size([10, 784]), torch.Size([10]))"
      ]
     },
     "execution_count": 68,
     "metadata": {},
     "output_type": "execute_result"
    }
   ],
   "source": [
    "linear_model = nn.Linear(28*28, 10)\n",
    "\n",
    "w,b = linear_model.parameters()\n",
    "w.shape, b.shape"
   ]
  },
  {
   "cell_type": "code",
   "execution_count": 69,
   "id": "036797c7",
   "metadata": {},
   "outputs": [],
   "source": [
    "class BasicOptim:\n",
    "    def __init__(self, params, lr):\n",
    "        self.params, self.lr = list(params), lr\n",
    "    \n",
    "    def step(self, *args, **kwargs):\n",
    "        for p in self.params:\n",
    "            p.data -= p.grad.data * self.lr\n",
    "    \n",
    "    def zero_grad(self, *args, **kwargs):\n",
    "        for p in self.params:\n",
    "            p.grad = None\n",
    "            \n",
    "\n",
    "opt = BasicOptim(linear_model.parameters(), lr)\n",
    "\n",
    "def train_epoch(model):\n",
    "    for xb, yb in dl:\n",
    "        calc_grad(xb, yb, model)\n",
    "        opt.step()\n",
    "        opt.zero_grad()"
   ]
  },
  {
   "cell_type": "code",
   "execution_count": 70,
   "id": "3c15c661",
   "metadata": {},
   "outputs": [
    {
     "data": {
      "text/plain": [
       "0.0568"
      ]
     },
     "execution_count": 70,
     "metadata": {},
     "output_type": "execute_result"
    }
   ],
   "source": [
    "validate_epoch(linear_model)"
   ]
  },
  {
   "cell_type": "code",
   "execution_count": 71,
   "id": "c77df75a",
   "metadata": {},
   "outputs": [],
   "source": [
    "def train_model(model, epochs):\n",
    "    for i in range(epochs):\n",
    "        train_epoch(model)\n",
    "        print(validate_epoch(model), end=' ')"
   ]
  },
  {
   "cell_type": "code",
   "execution_count": 72,
   "id": "ffe4947b",
   "metadata": {},
   "outputs": [],
   "source": [
    "# train_model(linear_model, 20)"
   ]
  },
  {
   "cell_type": "code",
   "execution_count": 73,
   "id": "4f7c5ee7",
   "metadata": {},
   "outputs": [],
   "source": [
    "dls = DataLoaders(dl, valid_dl)"
   ]
  },
  {
   "cell_type": "code",
   "execution_count": 74,
   "id": "96e16ab0",
   "metadata": {},
   "outputs": [],
   "source": [
    "learn = Learner(dls, nn.Linear(28*28, 10), opt_func=SGD, loss_func=mnist_loss, metrics=batch_accuracy)"
   ]
  },
  {
   "cell_type": "code",
   "execution_count": 75,
   "id": "5bc67379",
   "metadata": {},
   "outputs": [
    {
     "data": {
      "text/html": [
       "\n",
       "<style>\n",
       "    /* Turns off some styling */\n",
       "    progress {\n",
       "        /* gets rid of default border in Firefox and Opera. */\n",
       "        border: none;\n",
       "        /* Needs to be in here for Safari polyfill so background images work as expected. */\n",
       "        background-size: auto;\n",
       "    }\n",
       "    progress:not([value]), progress:not([value])::-webkit-progress-bar {\n",
       "        background: repeating-linear-gradient(45deg, #7e7e7e, #7e7e7e 10px, #5c5c5c 10px, #5c5c5c 20px);\n",
       "    }\n",
       "    .progress-bar-interrupted, .progress-bar-interrupted::-webkit-progress-bar {\n",
       "        background: #F44336;\n",
       "    }\n",
       "</style>\n"
      ],
      "text/plain": [
       "<IPython.core.display.HTML object>"
      ]
     },
     "metadata": {},
     "output_type": "display_data"
    },
    {
     "data": {
      "text/html": [
       "<table border=\"1\" class=\"dataframe\">\n",
       "  <thead>\n",
       "    <tr style=\"text-align: left;\">\n",
       "      <th>epoch</th>\n",
       "      <th>train_loss</th>\n",
       "      <th>valid_loss</th>\n",
       "      <th>batch_accuracy</th>\n",
       "      <th>time</th>\n",
       "    </tr>\n",
       "  </thead>\n",
       "  <tbody>\n",
       "    <tr>\n",
       "      <td>0</td>\n",
       "      <td>0.100812</td>\n",
       "      <td>0.100458</td>\n",
       "      <td>0.358400</td>\n",
       "      <td>00:01</td>\n",
       "    </tr>\n",
       "    <tr>\n",
       "      <td>1</td>\n",
       "      <td>0.100230</td>\n",
       "      <td>0.098444</td>\n",
       "      <td>0.345000</td>\n",
       "      <td>00:01</td>\n",
       "    </tr>\n",
       "    <tr>\n",
       "      <td>2</td>\n",
       "      <td>0.099841</td>\n",
       "      <td>0.096185</td>\n",
       "      <td>0.344100</td>\n",
       "      <td>00:01</td>\n",
       "    </tr>\n",
       "    <tr>\n",
       "      <td>3</td>\n",
       "      <td>0.099655</td>\n",
       "      <td>0.094133</td>\n",
       "      <td>0.349600</td>\n",
       "      <td>00:01</td>\n",
       "    </tr>\n",
       "    <tr>\n",
       "      <td>4</td>\n",
       "      <td>0.099628</td>\n",
       "      <td>0.092489</td>\n",
       "      <td>0.352900</td>\n",
       "      <td>00:01</td>\n",
       "    </tr>\n",
       "    <tr>\n",
       "      <td>5</td>\n",
       "      <td>0.099623</td>\n",
       "      <td>0.091192</td>\n",
       "      <td>0.354600</td>\n",
       "      <td>00:01</td>\n",
       "    </tr>\n",
       "    <tr>\n",
       "      <td>6</td>\n",
       "      <td>0.099624</td>\n",
       "      <td>0.090161</td>\n",
       "      <td>0.356100</td>\n",
       "      <td>00:01</td>\n",
       "    </tr>\n",
       "    <tr>\n",
       "      <td>7</td>\n",
       "      <td>0.099626</td>\n",
       "      <td>0.089329</td>\n",
       "      <td>0.357300</td>\n",
       "      <td>00:01</td>\n",
       "    </tr>\n",
       "    <tr>\n",
       "      <td>8</td>\n",
       "      <td>0.099629</td>\n",
       "      <td>0.088649</td>\n",
       "      <td>0.358100</td>\n",
       "      <td>00:01</td>\n",
       "    </tr>\n",
       "    <tr>\n",
       "      <td>9</td>\n",
       "      <td>0.099632</td>\n",
       "      <td>0.088084</td>\n",
       "      <td>0.359800</td>\n",
       "      <td>00:01</td>\n",
       "    </tr>\n",
       "  </tbody>\n",
       "</table>"
      ],
      "text/plain": [
       "<IPython.core.display.HTML object>"
      ]
     },
     "metadata": {},
     "output_type": "display_data"
    }
   ],
   "source": [
    "learn.fit(10, lr=lr)"
   ]
  },
  {
   "cell_type": "markdown",
   "id": "c2c02255",
   "metadata": {},
   "source": [
    "## Adding a Nonlinearity"
   ]
  },
  {
   "cell_type": "code",
   "execution_count": 76,
   "id": "b0e87a50",
   "metadata": {},
   "outputs": [],
   "source": [
    "def simple_net(xb):\n",
    "    res = xb@w1 + b1\n",
    "    res = res.max(tensor(0.0))\n",
    "    res = res@w2 + b2\n",
    "    return res\n",
    "\n",
    "w1 = init_params((28*28, 30))\n",
    "b1 = init_params(30)\n",
    "w2 = init_params((30, 10))\n",
    "b2 = init_params(10)"
   ]
  },
  {
   "cell_type": "code",
   "execution_count": 77,
   "id": "42b3da2a",
   "metadata": {},
   "outputs": [
    {
     "data": {
      "image/png": "[encoded data removed]",
      "text/plain": [
       "<Figure size 640x480 with 1 Axes>"
      ]
     },
     "metadata": {},
     "output_type": "display_data"
    }
   ],
   "source": [
    "plot_function(F.relu)"
   ]
  },
  {
   "cell_type": "code",
   "execution_count": 78,
   "id": "0b582d1a",
   "metadata": {},
   "outputs": [],
   "source": [
    "simple_net = nn.Sequential(\n",
    "    nn.Linear(28*28, 30),\n",
    "    nn.ReLU(),\n",
    "    nn.Linear(30, 10),\n",
    ")"
   ]
  },
  {
   "cell_type": "code",
   "execution_count": 79,
   "id": "d4716abc",
   "metadata": {},
   "outputs": [
    {
     "data": {
      "text/html": [
       "\n",
       "<style>\n",
       "    /* Turns off some styling */\n",
       "    progress {\n",
       "        /* gets rid of default border in Firefox and Opera. */\n",
       "        border: none;\n",
       "        /* Needs to be in here for Safari polyfill so background images work as expected. */\n",
       "        background-size: auto;\n",
       "    }\n",
       "    progress:not([value]), progress:not([value])::-webkit-progress-bar {\n",
       "        background: repeating-linear-gradient(45deg, #7e7e7e, #7e7e7e 10px, #5c5c5c 10px, #5c5c5c 20px);\n",
       "    }\n",
       "    .progress-bar-interrupted, .progress-bar-interrupted::-webkit-progress-bar {\n",
       "        background: #F44336;\n",
       "    }\n",
       "</style>\n"
      ],
      "text/plain": [
       "<IPython.core.display.HTML object>"
      ]
     },
     "metadata": {},
     "output_type": "display_data"
    },
    {
     "data": {
      "text/html": [
       "<table border=\"1\" class=\"dataframe\">\n",
       "  <thead>\n",
       "    <tr style=\"text-align: left;\">\n",
       "      <th>epoch</th>\n",
       "      <th>train_loss</th>\n",
       "      <th>valid_loss</th>\n",
       "      <th>batch_accuracy</th>\n",
       "      <th>time</th>\n",
       "    </tr>\n",
       "  </thead>\n",
       "  <tbody>\n",
       "    <tr>\n",
       "      <td>0</td>\n",
       "      <td>0.112810</td>\n",
       "      <td>0.105187</td>\n",
       "      <td>0.182400</td>\n",
       "      <td>00:01</td>\n",
       "    </tr>\n",
       "    <tr>\n",
       "      <td>1</td>\n",
       "      <td>0.102307</td>\n",
       "      <td>0.102057</td>\n",
       "      <td>0.171900</td>\n",
       "      <td>00:01</td>\n",
       "    </tr>\n",
       "    <tr>\n",
       "      <td>2</td>\n",
       "      <td>0.101237</td>\n",
       "      <td>0.101248</td>\n",
       "      <td>0.135100</td>\n",
       "      <td>00:01</td>\n",
       "    </tr>\n",
       "    <tr>\n",
       "      <td>3</td>\n",
       "      <td>0.100840</td>\n",
       "      <td>0.100887</td>\n",
       "      <td>0.120700</td>\n",
       "      <td>00:01</td>\n",
       "    </tr>\n",
       "    <tr>\n",
       "      <td>4</td>\n",
       "      <td>0.100631</td>\n",
       "      <td>0.100684</td>\n",
       "      <td>0.115900</td>\n",
       "      <td>00:01</td>\n",
       "    </tr>\n",
       "    <tr>\n",
       "      <td>5</td>\n",
       "      <td>0.100503</td>\n",
       "      <td>0.100555</td>\n",
       "      <td>0.114100</td>\n",
       "      <td>00:01</td>\n",
       "    </tr>\n",
       "    <tr>\n",
       "      <td>6</td>\n",
       "      <td>0.100417</td>\n",
       "      <td>0.100466</td>\n",
       "      <td>0.113500</td>\n",
       "      <td>00:01</td>\n",
       "    </tr>\n",
       "    <tr>\n",
       "      <td>7</td>\n",
       "      <td>0.100356</td>\n",
       "      <td>0.100401</td>\n",
       "      <td>0.113500</td>\n",
       "      <td>00:01</td>\n",
       "    </tr>\n",
       "    <tr>\n",
       "      <td>8</td>\n",
       "      <td>0.100309</td>\n",
       "      <td>0.100352</td>\n",
       "      <td>0.113500</td>\n",
       "      <td>00:01</td>\n",
       "    </tr>\n",
       "    <tr>\n",
       "      <td>9</td>\n",
       "      <td>0.100273</td>\n",
       "      <td>0.100313</td>\n",
       "      <td>0.113500</td>\n",
       "      <td>00:01</td>\n",
       "    </tr>\n",
       "    <tr>\n",
       "      <td>10</td>\n",
       "      <td>0.100245</td>\n",
       "      <td>0.100281</td>\n",
       "      <td>0.113500</td>\n",
       "      <td>00:01</td>\n",
       "    </tr>\n",
       "    <tr>\n",
       "      <td>11</td>\n",
       "      <td>0.100221</td>\n",
       "      <td>0.100256</td>\n",
       "      <td>0.113500</td>\n",
       "      <td>00:01</td>\n",
       "    </tr>\n",
       "    <tr>\n",
       "      <td>12</td>\n",
       "      <td>0.100202</td>\n",
       "      <td>0.100234</td>\n",
       "      <td>0.113500</td>\n",
       "      <td>00:01</td>\n",
       "    </tr>\n",
       "    <tr>\n",
       "      <td>13</td>\n",
       "      <td>0.100185</td>\n",
       "      <td>0.100216</td>\n",
       "      <td>0.113500</td>\n",
       "      <td>00:01</td>\n",
       "    </tr>\n",
       "    <tr>\n",
       "      <td>14</td>\n",
       "      <td>0.100171</td>\n",
       "      <td>0.100200</td>\n",
       "      <td>0.113500</td>\n",
       "      <td>00:01</td>\n",
       "    </tr>\n",
       "    <tr>\n",
       "      <td>15</td>\n",
       "      <td>0.100159</td>\n",
       "      <td>0.100187</td>\n",
       "      <td>0.113500</td>\n",
       "      <td>00:01</td>\n",
       "    </tr>\n",
       "    <tr>\n",
       "      <td>16</td>\n",
       "      <td>0.100149</td>\n",
       "      <td>0.100175</td>\n",
       "      <td>0.113500</td>\n",
       "      <td>00:01</td>\n",
       "    </tr>\n",
       "    <tr>\n",
       "      <td>17</td>\n",
       "      <td>0.100140</td>\n",
       "      <td>0.100164</td>\n",
       "      <td>0.113500</td>\n",
       "      <td>00:01</td>\n",
       "    </tr>\n",
       "    <tr>\n",
       "      <td>18</td>\n",
       "      <td>0.100131</td>\n",
       "      <td>0.100155</td>\n",
       "      <td>0.113500</td>\n",
       "      <td>00:01</td>\n",
       "    </tr>\n",
       "    <tr>\n",
       "      <td>19</td>\n",
       "      <td>0.100124</td>\n",
       "      <td>0.100147</td>\n",
       "      <td>0.113500</td>\n",
       "      <td>00:01</td>\n",
       "    </tr>\n",
       "    <tr>\n",
       "      <td>20</td>\n",
       "      <td>0.100118</td>\n",
       "      <td>0.100139</td>\n",
       "      <td>0.113500</td>\n",
       "      <td>00:01</td>\n",
       "    </tr>\n",
       "    <tr>\n",
       "      <td>21</td>\n",
       "      <td>0.100112</td>\n",
       "      <td>0.100132</td>\n",
       "      <td>0.113500</td>\n",
       "      <td>00:01</td>\n",
       "    </tr>\n",
       "    <tr>\n",
       "      <td>22</td>\n",
       "      <td>0.100106</td>\n",
       "      <td>0.100126</td>\n",
       "      <td>0.113500</td>\n",
       "      <td>00:01</td>\n",
       "    </tr>\n",
       "    <tr>\n",
       "      <td>23</td>\n",
       "      <td>0.100101</td>\n",
       "      <td>0.100121</td>\n",
       "      <td>0.113500</td>\n",
       "      <td>00:01</td>\n",
       "    </tr>\n",
       "    <tr>\n",
       "      <td>24</td>\n",
       "      <td>0.100097</td>\n",
       "      <td>0.100115</td>\n",
       "      <td>0.113500</td>\n",
       "      <td>00:01</td>\n",
       "    </tr>\n",
       "    <tr>\n",
       "      <td>25</td>\n",
       "      <td>0.100093</td>\n",
       "      <td>0.100111</td>\n",
       "      <td>0.113500</td>\n",
       "      <td>00:01</td>\n",
       "    </tr>\n",
       "    <tr>\n",
       "      <td>26</td>\n",
       "      <td>0.100089</td>\n",
       "      <td>0.100106</td>\n",
       "      <td>0.113500</td>\n",
       "      <td>00:01</td>\n",
       "    </tr>\n",
       "    <tr>\n",
       "      <td>27</td>\n",
       "      <td>0.100086</td>\n",
       "      <td>0.100102</td>\n",
       "      <td>0.113500</td>\n",
       "      <td>00:01</td>\n",
       "    </tr>\n",
       "    <tr>\n",
       "      <td>28</td>\n",
       "      <td>0.100082</td>\n",
       "      <td>0.100098</td>\n",
       "      <td>0.113500</td>\n",
       "      <td>00:01</td>\n",
       "    </tr>\n",
       "    <tr>\n",
       "      <td>29</td>\n",
       "      <td>0.100079</td>\n",
       "      <td>0.100095</td>\n",
       "      <td>0.113500</td>\n",
       "      <td>00:01</td>\n",
       "    </tr>\n",
       "    <tr>\n",
       "      <td>30</td>\n",
       "      <td>0.100077</td>\n",
       "      <td>0.100092</td>\n",
       "      <td>0.113500</td>\n",
       "      <td>00:01</td>\n",
       "    </tr>\n",
       "    <tr>\n",
       "      <td>31</td>\n",
       "      <td>0.100074</td>\n",
       "      <td>0.100089</td>\n",
       "      <td>0.113500</td>\n",
       "      <td>00:01</td>\n",
       "    </tr>\n",
       "    <tr>\n",
       "      <td>32</td>\n",
       "      <td>0.100071</td>\n",
       "      <td>0.100086</td>\n",
       "      <td>0.113500</td>\n",
       "      <td>00:01</td>\n",
       "    </tr>\n",
       "    <tr>\n",
       "      <td>33</td>\n",
       "      <td>0.100069</td>\n",
       "      <td>0.100083</td>\n",
       "      <td>0.113500</td>\n",
       "      <td>00:01</td>\n",
       "    </tr>\n",
       "    <tr>\n",
       "      <td>34</td>\n",
       "      <td>0.100067</td>\n",
       "      <td>0.100081</td>\n",
       "      <td>0.113500</td>\n",
       "      <td>00:01</td>\n",
       "    </tr>\n",
       "    <tr>\n",
       "      <td>35</td>\n",
       "      <td>0.100065</td>\n",
       "      <td>0.100078</td>\n",
       "      <td>0.113500</td>\n",
       "      <td>00:01</td>\n",
       "    </tr>\n",
       "    <tr>\n",
       "      <td>36</td>\n",
       "      <td>0.100063</td>\n",
       "      <td>0.100076</td>\n",
       "      <td>0.113500</td>\n",
       "      <td>00:01</td>\n",
       "    </tr>\n",
       "    <tr>\n",
       "      <td>37</td>\n",
       "      <td>0.100061</td>\n",
       "      <td>0.100074</td>\n",
       "      <td>0.113500</td>\n",
       "      <td>00:01</td>\n",
       "    </tr>\n",
       "    <tr>\n",
       "      <td>38</td>\n",
       "      <td>0.100060</td>\n",
       "      <td>0.100072</td>\n",
       "      <td>0.113500</td>\n",
       "      <td>00:01</td>\n",
       "    </tr>\n",
       "    <tr>\n",
       "      <td>39</td>\n",
       "      <td>0.100058</td>\n",
       "      <td>0.100070</td>\n",
       "      <td>0.113500</td>\n",
       "      <td>00:01</td>\n",
       "    </tr>\n",
       "  </tbody>\n",
       "</table>"
      ],
      "text/plain": [
       "<IPython.core.display.HTML object>"
      ]
     },
     "metadata": {},
     "output_type": "display_data"
    }
   ],
   "source": [
    "learn = Learner(dls, simple_net, opt_func=SGD, loss_func=mnist_loss, metrics=batch_accuracy)\n",
    "learn.fit(40, 0.1)"
   ]
  },
  {
   "cell_type": "code",
   "execution_count": 80,
   "id": "6e597c4c",
   "metadata": {},
   "outputs": [
    {
     "data": {
      "text/plain": [
       "[<matplotlib.lines.Line2D at 0x7fdec92c9c90>]"
      ]
     },
     "execution_count": 80,
     "metadata": {},
     "output_type": "execute_result"
    },
    {
     "data": {
      "image/png": "[encoded data removed]",
      "text/plain": [
       "<Figure size 640x480 with 1 Axes>"
      ]
     },
     "metadata": {},
     "output_type": "display_data"
    }
   ],
   "source": [
    "plt.plot(L(learn.recorder.values).itemgot(2))"
   ]
  },
  {
   "cell_type": "code",
   "execution_count": 81,
   "id": "7ee1ed2a",
   "metadata": {},
   "outputs": [
    {
     "data": {
      "text/plain": [
       "0.11349999904632568"
      ]
     },
     "execution_count": 81,
     "metadata": {},
     "output_type": "execute_result"
    }
   ],
   "source": [
    "learn.recorder.values[-1][2]"
   ]
  },
  {
   "cell_type": "code",
   "execution_count": 82,
   "id": "50f31586",
   "metadata": {},
   "outputs": [
    {
     "data": {
      "text/plain": [
       "Path('/home/jvinarek/.fastai/data/mnist_png')"
      ]
     },
     "execution_count": 82,
     "metadata": {},
     "output_type": "execute_result"
    }
   ],
   "source": [
    "path"
   ]
  },
  {
   "cell_type": "code",
   "execution_count": 83,
   "id": "72d16bc6",
   "metadata": {},
   "outputs": [
    {
     "name": "stderr",
     "output_type": "stream",
     "text": [
      "/home/jvinarek/mambaforge/lib/python3.10/site-packages/fastai/vision/learner.py:288: UserWarning: `cnn_learner` has been renamed to `vision_learner` -- please update your code\n",
      "  warn(\"`cnn_learner` has been renamed to `vision_learner` -- please update your code\")\n",
      "/home/jvinarek/mambaforge/lib/python3.10/site-packages/torchvision/models/_utils.py:208: UserWarning: The parameter 'pretrained' is deprecated since 0.13 and may be removed in the future, please use 'weights' instead.\n",
      "  warnings.warn(\n",
      "/home/jvinarek/mambaforge/lib/python3.10/site-packages/torchvision/models/_utils.py:223: UserWarning: Arguments other than a weight enum or `None` for 'weights' are deprecated since 0.13 and may be removed in the future. The current behavior is equivalent to passing `weights=None`.\n",
      "  warnings.warn(msg)\n"
     ]
    },
    {
     "data": {
      "text/html": [
       "\n",
       "<style>\n",
       "    /* Turns off some styling */\n",
       "    progress {\n",
       "        /* gets rid of default border in Firefox and Opera. */\n",
       "        border: none;\n",
       "        /* Needs to be in here for Safari polyfill so background images work as expected. */\n",
       "        background-size: auto;\n",
       "    }\n",
       "    progress:not([value]), progress:not([value])::-webkit-progress-bar {\n",
       "        background: repeating-linear-gradient(45deg, #7e7e7e, #7e7e7e 10px, #5c5c5c 10px, #5c5c5c 20px);\n",
       "    }\n",
       "    .progress-bar-interrupted, .progress-bar-interrupted::-webkit-progress-bar {\n",
       "        background: #F44336;\n",
       "    }\n",
       "</style>\n"
      ],
      "text/plain": [
       "<IPython.core.display.HTML object>"
      ]
     },
     "metadata": {},
     "output_type": "display_data"
    },
    {
     "data": {
      "text/html": [
       "\n",
       "    <div>\n",
       "      <progress value='0' class='' max='1' style='width:300px; height:20px; vertical-align: middle;'></progress>\n",
       "      0.00% [0/1 00:00&lt;?]\n",
       "    </div>\n",
       "    \n",
       "<table border=\"1\" class=\"dataframe\">\n",
       "  <thead>\n",
       "    <tr style=\"text-align: left;\">\n",
       "      <th>epoch</th>\n",
       "      <th>train_loss</th>\n",
       "      <th>valid_loss</th>\n",
       "      <th>None</th>\n",
       "      <th>None</th>\n",
       "      <th>None</th>\n",
       "      <th>None</th>\n",
       "      <th>None</th>\n",
       "      <th>None</th>\n",
       "      <th>None</th>\n",
       "      <th>None</th>\n",
       "      <th>None</th>\n",
       "      <th>None</th>\n",
       "      <th>time</th>\n",
       "    </tr>\n",
       "  </thead>\n",
       "  <tbody>\n",
       "  </tbody>\n",
       "</table><p>\n",
       "\n",
       "    <div>\n",
       "      <progress value='3' class='' max='937' style='width:300px; height:20px; vertical-align: middle;'></progress>\n",
       "      0.32% [3/937 00:02&lt;10:41 3.3642]\n",
       "    </div>\n",
       "    "
      ],
      "text/plain": [
       "<IPython.core.display.HTML object>"
      ]
     },
     "metadata": {},
     "output_type": "display_data"
    },
    {
     "ename": "KeyboardInterrupt",
     "evalue": "",
     "output_type": "error",
     "traceback": [
      "\u001b[0;31m---------------------------------------------------------------------------\u001b[0m",
      "\u001b[0;31mKeyboardInterrupt\u001b[0m                         Traceback (most recent call last)",
      "Cell \u001b[0;32mIn[83], line 3\u001b[0m\n\u001b[1;32m      1\u001b[0m dls \u001b[38;5;241m=\u001b[39m ImageDataLoaders\u001b[38;5;241m.\u001b[39mfrom_folder(path, train\u001b[38;5;241m=\u001b[39m\u001b[38;5;124m'\u001b[39m\u001b[38;5;124mtraining\u001b[39m\u001b[38;5;124m'\u001b[39m, valid\u001b[38;5;241m=\u001b[39m\u001b[38;5;124m'\u001b[39m\u001b[38;5;124mtesting\u001b[39m\u001b[38;5;124m'\u001b[39m)\n\u001b[1;32m      2\u001b[0m learn \u001b[38;5;241m=\u001b[39m cnn_learner(dls, resnet18, pretrained\u001b[38;5;241m=\u001b[39m\u001b[38;5;28;01mFalse\u001b[39;00m, loss_func\u001b[38;5;241m=\u001b[39mF\u001b[38;5;241m.\u001b[39mcross_entropy, metrics\u001b[38;5;241m=\u001b[39maccuracy)\n\u001b[0;32m----> 3\u001b[0m \u001b[43mlearn\u001b[49m\u001b[38;5;241;43m.\u001b[39;49m\u001b[43mfit_one_cycle\u001b[49m\u001b[43m(\u001b[49m\u001b[38;5;241;43m1\u001b[39;49m\u001b[43m,\u001b[49m\u001b[43m \u001b[49m\u001b[38;5;241;43m0.1\u001b[39;49m\u001b[43m)\u001b[49m\n",
      "File \u001b[0;32m~/mambaforge/lib/python3.10/site-packages/fastai/callback/schedule.py:119\u001b[0m, in \u001b[0;36mfit_one_cycle\u001b[0;34m(self, n_epoch, lr_max, div, div_final, pct_start, wd, moms, cbs, reset_opt, start_epoch)\u001b[0m\n\u001b[1;32m    116\u001b[0m lr_max \u001b[38;5;241m=\u001b[39m np\u001b[38;5;241m.\u001b[39marray([h[\u001b[38;5;124m'\u001b[39m\u001b[38;5;124mlr\u001b[39m\u001b[38;5;124m'\u001b[39m] \u001b[38;5;28;01mfor\u001b[39;00m h \u001b[38;5;129;01min\u001b[39;00m \u001b[38;5;28mself\u001b[39m\u001b[38;5;241m.\u001b[39mopt\u001b[38;5;241m.\u001b[39mhypers])\n\u001b[1;32m    117\u001b[0m scheds \u001b[38;5;241m=\u001b[39m {\u001b[38;5;124m'\u001b[39m\u001b[38;5;124mlr\u001b[39m\u001b[38;5;124m'\u001b[39m: combined_cos(pct_start, lr_max\u001b[38;5;241m/\u001b[39mdiv, lr_max, lr_max\u001b[38;5;241m/\u001b[39mdiv_final),\n\u001b[1;32m    118\u001b[0m           \u001b[38;5;124m'\u001b[39m\u001b[38;5;124mmom\u001b[39m\u001b[38;5;124m'\u001b[39m: combined_cos(pct_start, \u001b[38;5;241m*\u001b[39m(\u001b[38;5;28mself\u001b[39m\u001b[38;5;241m.\u001b[39mmoms \u001b[38;5;28;01mif\u001b[39;00m moms \u001b[38;5;129;01mis\u001b[39;00m \u001b[38;5;28;01mNone\u001b[39;00m \u001b[38;5;28;01melse\u001b[39;00m moms))}\n\u001b[0;32m--> 119\u001b[0m \u001b[38;5;28;43mself\u001b[39;49m\u001b[38;5;241;43m.\u001b[39;49m\u001b[43mfit\u001b[49m\u001b[43m(\u001b[49m\u001b[43mn_epoch\u001b[49m\u001b[43m,\u001b[49m\u001b[43m \u001b[49m\u001b[43mcbs\u001b[49m\u001b[38;5;241;43m=\u001b[39;49m\u001b[43mParamScheduler\u001b[49m\u001b[43m(\u001b[49m\u001b[43mscheds\u001b[49m\u001b[43m)\u001b[49m\u001b[38;5;241;43m+\u001b[39;49m\u001b[43mL\u001b[49m\u001b[43m(\u001b[49m\u001b[43mcbs\u001b[49m\u001b[43m)\u001b[49m\u001b[43m,\u001b[49m\u001b[43m \u001b[49m\u001b[43mreset_opt\u001b[49m\u001b[38;5;241;43m=\u001b[39;49m\u001b[43mreset_opt\u001b[49m\u001b[43m,\u001b[49m\u001b[43m \u001b[49m\u001b[43mwd\u001b[49m\u001b[38;5;241;43m=\u001b[39;49m\u001b[43mwd\u001b[49m\u001b[43m,\u001b[49m\u001b[43m \u001b[49m\u001b[43mstart_epoch\u001b[49m\u001b[38;5;241;43m=\u001b[39;49m\u001b[43mstart_epoch\u001b[49m\u001b[43m)\u001b[49m\n",
      "File \u001b[0;32m~/mambaforge/lib/python3.10/site-packages/fastai/learner.py:264\u001b[0m, in \u001b[0;36mLearner.fit\u001b[0;34m(self, n_epoch, lr, wd, cbs, reset_opt, start_epoch)\u001b[0m\n\u001b[1;32m    262\u001b[0m \u001b[38;5;28mself\u001b[39m\u001b[38;5;241m.\u001b[39mopt\u001b[38;5;241m.\u001b[39mset_hypers(lr\u001b[38;5;241m=\u001b[39m\u001b[38;5;28mself\u001b[39m\u001b[38;5;241m.\u001b[39mlr \u001b[38;5;28;01mif\u001b[39;00m lr \u001b[38;5;129;01mis\u001b[39;00m \u001b[38;5;28;01mNone\u001b[39;00m \u001b[38;5;28;01melse\u001b[39;00m lr)\n\u001b[1;32m    263\u001b[0m \u001b[38;5;28mself\u001b[39m\u001b[38;5;241m.\u001b[39mn_epoch \u001b[38;5;241m=\u001b[39m n_epoch\n\u001b[0;32m--> 264\u001b[0m \u001b[38;5;28;43mself\u001b[39;49m\u001b[38;5;241;43m.\u001b[39;49m\u001b[43m_with_events\u001b[49m\u001b[43m(\u001b[49m\u001b[38;5;28;43mself\u001b[39;49m\u001b[38;5;241;43m.\u001b[39;49m\u001b[43m_do_fit\u001b[49m\u001b[43m,\u001b[49m\u001b[43m \u001b[49m\u001b[38;5;124;43m'\u001b[39;49m\u001b[38;5;124;43mfit\u001b[39;49m\u001b[38;5;124;43m'\u001b[39;49m\u001b[43m,\u001b[49m\u001b[43m \u001b[49m\u001b[43mCancelFitException\u001b[49m\u001b[43m,\u001b[49m\u001b[43m \u001b[49m\u001b[38;5;28;43mself\u001b[39;49m\u001b[38;5;241;43m.\u001b[39;49m\u001b[43m_end_cleanup\u001b[49m\u001b[43m)\u001b[49m\n",
      "File \u001b[0;32m~/mambaforge/lib/python3.10/site-packages/fastai/learner.py:199\u001b[0m, in \u001b[0;36mLearner._with_events\u001b[0;34m(self, f, event_type, ex, final)\u001b[0m\n\u001b[1;32m    198\u001b[0m \u001b[38;5;28;01mdef\u001b[39;00m \u001b[38;5;21m_with_events\u001b[39m(\u001b[38;5;28mself\u001b[39m, f, event_type, ex, final\u001b[38;5;241m=\u001b[39mnoop):\n\u001b[0;32m--> 199\u001b[0m     \u001b[38;5;28;01mtry\u001b[39;00m: \u001b[38;5;28mself\u001b[39m(\u001b[38;5;124mf\u001b[39m\u001b[38;5;124m'\u001b[39m\u001b[38;5;124mbefore_\u001b[39m\u001b[38;5;132;01m{\u001b[39;00mevent_type\u001b[38;5;132;01m}\u001b[39;00m\u001b[38;5;124m'\u001b[39m);  \u001b[43mf\u001b[49m\u001b[43m(\u001b[49m\u001b[43m)\u001b[49m\n\u001b[1;32m    200\u001b[0m     \u001b[38;5;28;01mexcept\u001b[39;00m ex: \u001b[38;5;28mself\u001b[39m(\u001b[38;5;124mf\u001b[39m\u001b[38;5;124m'\u001b[39m\u001b[38;5;124mafter_cancel_\u001b[39m\u001b[38;5;132;01m{\u001b[39;00mevent_type\u001b[38;5;132;01m}\u001b[39;00m\u001b[38;5;124m'\u001b[39m)\n\u001b[1;32m    201\u001b[0m     \u001b[38;5;28mself\u001b[39m(\u001b[38;5;124mf\u001b[39m\u001b[38;5;124m'\u001b[39m\u001b[38;5;124mafter_\u001b[39m\u001b[38;5;132;01m{\u001b[39;00mevent_type\u001b[38;5;132;01m}\u001b[39;00m\u001b[38;5;124m'\u001b[39m);  final()\n",
      "File \u001b[0;32m~/mambaforge/lib/python3.10/site-packages/fastai/learner.py:253\u001b[0m, in \u001b[0;36mLearner._do_fit\u001b[0;34m(self)\u001b[0m\n\u001b[1;32m    251\u001b[0m \u001b[38;5;28;01mfor\u001b[39;00m epoch \u001b[38;5;129;01min\u001b[39;00m \u001b[38;5;28mrange\u001b[39m(\u001b[38;5;28mself\u001b[39m\u001b[38;5;241m.\u001b[39mn_epoch):\n\u001b[1;32m    252\u001b[0m     \u001b[38;5;28mself\u001b[39m\u001b[38;5;241m.\u001b[39mepoch\u001b[38;5;241m=\u001b[39mepoch\n\u001b[0;32m--> 253\u001b[0m     \u001b[38;5;28;43mself\u001b[39;49m\u001b[38;5;241;43m.\u001b[39;49m\u001b[43m_with_events\u001b[49m\u001b[43m(\u001b[49m\u001b[38;5;28;43mself\u001b[39;49m\u001b[38;5;241;43m.\u001b[39;49m\u001b[43m_do_epoch\u001b[49m\u001b[43m,\u001b[49m\u001b[43m \u001b[49m\u001b[38;5;124;43m'\u001b[39;49m\u001b[38;5;124;43mepoch\u001b[39;49m\u001b[38;5;124;43m'\u001b[39;49m\u001b[43m,\u001b[49m\u001b[43m \u001b[49m\u001b[43mCancelEpochException\u001b[49m\u001b[43m)\u001b[49m\n",
      "File \u001b[0;32m~/mambaforge/lib/python3.10/site-packages/fastai/learner.py:199\u001b[0m, in \u001b[0;36mLearner._with_events\u001b[0;34m(self, f, event_type, ex, final)\u001b[0m\n\u001b[1;32m    198\u001b[0m \u001b[38;5;28;01mdef\u001b[39;00m \u001b[38;5;21m_with_events\u001b[39m(\u001b[38;5;28mself\u001b[39m, f, event_type, ex, final\u001b[38;5;241m=\u001b[39mnoop):\n\u001b[0;32m--> 199\u001b[0m     \u001b[38;5;28;01mtry\u001b[39;00m: \u001b[38;5;28mself\u001b[39m(\u001b[38;5;124mf\u001b[39m\u001b[38;5;124m'\u001b[39m\u001b[38;5;124mbefore_\u001b[39m\u001b[38;5;132;01m{\u001b[39;00mevent_type\u001b[38;5;132;01m}\u001b[39;00m\u001b[38;5;124m'\u001b[39m);  \u001b[43mf\u001b[49m\u001b[43m(\u001b[49m\u001b[43m)\u001b[49m\n\u001b[1;32m    200\u001b[0m     \u001b[38;5;28;01mexcept\u001b[39;00m ex: \u001b[38;5;28mself\u001b[39m(\u001b[38;5;124mf\u001b[39m\u001b[38;5;124m'\u001b[39m\u001b[38;5;124mafter_cancel_\u001b[39m\u001b[38;5;132;01m{\u001b[39;00mevent_type\u001b[38;5;132;01m}\u001b[39;00m\u001b[38;5;124m'\u001b[39m)\n\u001b[1;32m    201\u001b[0m     \u001b[38;5;28mself\u001b[39m(\u001b[38;5;124mf\u001b[39m\u001b[38;5;124m'\u001b[39m\u001b[38;5;124mafter_\u001b[39m\u001b[38;5;132;01m{\u001b[39;00mevent_type\u001b[38;5;132;01m}\u001b[39;00m\u001b[38;5;124m'\u001b[39m);  final()\n",
      "File \u001b[0;32m~/mambaforge/lib/python3.10/site-packages/fastai/learner.py:247\u001b[0m, in \u001b[0;36mLearner._do_epoch\u001b[0;34m(self)\u001b[0m\n\u001b[1;32m    246\u001b[0m \u001b[38;5;28;01mdef\u001b[39;00m \u001b[38;5;21m_do_epoch\u001b[39m(\u001b[38;5;28mself\u001b[39m):\n\u001b[0;32m--> 247\u001b[0m     \u001b[38;5;28;43mself\u001b[39;49m\u001b[38;5;241;43m.\u001b[39;49m\u001b[43m_do_epoch_train\u001b[49m\u001b[43m(\u001b[49m\u001b[43m)\u001b[49m\n\u001b[1;32m    248\u001b[0m     \u001b[38;5;28mself\u001b[39m\u001b[38;5;241m.\u001b[39m_do_epoch_validate()\n",
      "File \u001b[0;32m~/mambaforge/lib/python3.10/site-packages/fastai/learner.py:239\u001b[0m, in \u001b[0;36mLearner._do_epoch_train\u001b[0;34m(self)\u001b[0m\n\u001b[1;32m    237\u001b[0m \u001b[38;5;28;01mdef\u001b[39;00m \u001b[38;5;21m_do_epoch_train\u001b[39m(\u001b[38;5;28mself\u001b[39m):\n\u001b[1;32m    238\u001b[0m     \u001b[38;5;28mself\u001b[39m\u001b[38;5;241m.\u001b[39mdl \u001b[38;5;241m=\u001b[39m \u001b[38;5;28mself\u001b[39m\u001b[38;5;241m.\u001b[39mdls\u001b[38;5;241m.\u001b[39mtrain\n\u001b[0;32m--> 239\u001b[0m     \u001b[38;5;28;43mself\u001b[39;49m\u001b[38;5;241;43m.\u001b[39;49m\u001b[43m_with_events\u001b[49m\u001b[43m(\u001b[49m\u001b[38;5;28;43mself\u001b[39;49m\u001b[38;5;241;43m.\u001b[39;49m\u001b[43mall_batches\u001b[49m\u001b[43m,\u001b[49m\u001b[43m \u001b[49m\u001b[38;5;124;43m'\u001b[39;49m\u001b[38;5;124;43mtrain\u001b[39;49m\u001b[38;5;124;43m'\u001b[39;49m\u001b[43m,\u001b[49m\u001b[43m \u001b[49m\u001b[43mCancelTrainException\u001b[49m\u001b[43m)\u001b[49m\n",
      "File \u001b[0;32m~/mambaforge/lib/python3.10/site-packages/fastai/learner.py:199\u001b[0m, in \u001b[0;36mLearner._with_events\u001b[0;34m(self, f, event_type, ex, final)\u001b[0m\n\u001b[1;32m    198\u001b[0m \u001b[38;5;28;01mdef\u001b[39;00m \u001b[38;5;21m_with_events\u001b[39m(\u001b[38;5;28mself\u001b[39m, f, event_type, ex, final\u001b[38;5;241m=\u001b[39mnoop):\n\u001b[0;32m--> 199\u001b[0m     \u001b[38;5;28;01mtry\u001b[39;00m: \u001b[38;5;28mself\u001b[39m(\u001b[38;5;124mf\u001b[39m\u001b[38;5;124m'\u001b[39m\u001b[38;5;124mbefore_\u001b[39m\u001b[38;5;132;01m{\u001b[39;00mevent_type\u001b[38;5;132;01m}\u001b[39;00m\u001b[38;5;124m'\u001b[39m);  \u001b[43mf\u001b[49m\u001b[43m(\u001b[49m\u001b[43m)\u001b[49m\n\u001b[1;32m    200\u001b[0m     \u001b[38;5;28;01mexcept\u001b[39;00m ex: \u001b[38;5;28mself\u001b[39m(\u001b[38;5;124mf\u001b[39m\u001b[38;5;124m'\u001b[39m\u001b[38;5;124mafter_cancel_\u001b[39m\u001b[38;5;132;01m{\u001b[39;00mevent_type\u001b[38;5;132;01m}\u001b[39;00m\u001b[38;5;124m'\u001b[39m)\n\u001b[1;32m    201\u001b[0m     \u001b[38;5;28mself\u001b[39m(\u001b[38;5;124mf\u001b[39m\u001b[38;5;124m'\u001b[39m\u001b[38;5;124mafter_\u001b[39m\u001b[38;5;132;01m{\u001b[39;00mevent_type\u001b[38;5;132;01m}\u001b[39;00m\u001b[38;5;124m'\u001b[39m);  final()\n",
      "File \u001b[0;32m~/mambaforge/lib/python3.10/site-packages/fastai/learner.py:205\u001b[0m, in \u001b[0;36mLearner.all_batches\u001b[0;34m(self)\u001b[0m\n\u001b[1;32m    203\u001b[0m \u001b[38;5;28;01mdef\u001b[39;00m \u001b[38;5;21mall_batches\u001b[39m(\u001b[38;5;28mself\u001b[39m):\n\u001b[1;32m    204\u001b[0m     \u001b[38;5;28mself\u001b[39m\u001b[38;5;241m.\u001b[39mn_iter \u001b[38;5;241m=\u001b[39m \u001b[38;5;28mlen\u001b[39m(\u001b[38;5;28mself\u001b[39m\u001b[38;5;241m.\u001b[39mdl)\n\u001b[0;32m--> 205\u001b[0m     \u001b[38;5;28;01mfor\u001b[39;00m o \u001b[38;5;129;01min\u001b[39;00m \u001b[38;5;28menumerate\u001b[39m(\u001b[38;5;28mself\u001b[39m\u001b[38;5;241m.\u001b[39mdl): \u001b[38;5;28;43mself\u001b[39;49m\u001b[38;5;241;43m.\u001b[39;49m\u001b[43mone_batch\u001b[49m\u001b[43m(\u001b[49m\u001b[38;5;241;43m*\u001b[39;49m\u001b[43mo\u001b[49m\u001b[43m)\u001b[49m\n",
      "File \u001b[0;32m~/mambaforge/lib/python3.10/site-packages/fastai/learner.py:235\u001b[0m, in \u001b[0;36mLearner.one_batch\u001b[0;34m(self, i, b)\u001b[0m\n\u001b[1;32m    233\u001b[0m b \u001b[38;5;241m=\u001b[39m \u001b[38;5;28mself\u001b[39m\u001b[38;5;241m.\u001b[39m_set_device(b)\n\u001b[1;32m    234\u001b[0m \u001b[38;5;28mself\u001b[39m\u001b[38;5;241m.\u001b[39m_split(b)\n\u001b[0;32m--> 235\u001b[0m \u001b[38;5;28;43mself\u001b[39;49m\u001b[38;5;241;43m.\u001b[39;49m\u001b[43m_with_events\u001b[49m\u001b[43m(\u001b[49m\u001b[38;5;28;43mself\u001b[39;49m\u001b[38;5;241;43m.\u001b[39;49m\u001b[43m_do_one_batch\u001b[49m\u001b[43m,\u001b[49m\u001b[43m \u001b[49m\u001b[38;5;124;43m'\u001b[39;49m\u001b[38;5;124;43mbatch\u001b[39;49m\u001b[38;5;124;43m'\u001b[39;49m\u001b[43m,\u001b[49m\u001b[43m \u001b[49m\u001b[43mCancelBatchException\u001b[49m\u001b[43m)\u001b[49m\n",
      "File \u001b[0;32m~/mambaforge/lib/python3.10/site-packages/fastai/learner.py:199\u001b[0m, in \u001b[0;36mLearner._with_events\u001b[0;34m(self, f, event_type, ex, final)\u001b[0m\n\u001b[1;32m    198\u001b[0m \u001b[38;5;28;01mdef\u001b[39;00m \u001b[38;5;21m_with_events\u001b[39m(\u001b[38;5;28mself\u001b[39m, f, event_type, ex, final\u001b[38;5;241m=\u001b[39mnoop):\n\u001b[0;32m--> 199\u001b[0m     \u001b[38;5;28;01mtry\u001b[39;00m: \u001b[38;5;28mself\u001b[39m(\u001b[38;5;124mf\u001b[39m\u001b[38;5;124m'\u001b[39m\u001b[38;5;124mbefore_\u001b[39m\u001b[38;5;132;01m{\u001b[39;00mevent_type\u001b[38;5;132;01m}\u001b[39;00m\u001b[38;5;124m'\u001b[39m);  \u001b[43mf\u001b[49m\u001b[43m(\u001b[49m\u001b[43m)\u001b[49m\n\u001b[1;32m    200\u001b[0m     \u001b[38;5;28;01mexcept\u001b[39;00m ex: \u001b[38;5;28mself\u001b[39m(\u001b[38;5;124mf\u001b[39m\u001b[38;5;124m'\u001b[39m\u001b[38;5;124mafter_cancel_\u001b[39m\u001b[38;5;132;01m{\u001b[39;00mevent_type\u001b[38;5;132;01m}\u001b[39;00m\u001b[38;5;124m'\u001b[39m)\n\u001b[1;32m    201\u001b[0m     \u001b[38;5;28mself\u001b[39m(\u001b[38;5;124mf\u001b[39m\u001b[38;5;124m'\u001b[39m\u001b[38;5;124mafter_\u001b[39m\u001b[38;5;132;01m{\u001b[39;00mevent_type\u001b[38;5;132;01m}\u001b[39;00m\u001b[38;5;124m'\u001b[39m);  final()\n",
      "File \u001b[0;32m~/mambaforge/lib/python3.10/site-packages/fastai/learner.py:223\u001b[0m, in \u001b[0;36mLearner._do_one_batch\u001b[0;34m(self)\u001b[0m\n\u001b[1;32m    221\u001b[0m \u001b[38;5;28mself\u001b[39m(\u001b[38;5;124m'\u001b[39m\u001b[38;5;124mafter_loss\u001b[39m\u001b[38;5;124m'\u001b[39m)\n\u001b[1;32m    222\u001b[0m \u001b[38;5;28;01mif\u001b[39;00m \u001b[38;5;129;01mnot\u001b[39;00m \u001b[38;5;28mself\u001b[39m\u001b[38;5;241m.\u001b[39mtraining \u001b[38;5;129;01mor\u001b[39;00m \u001b[38;5;129;01mnot\u001b[39;00m \u001b[38;5;28mlen\u001b[39m(\u001b[38;5;28mself\u001b[39m\u001b[38;5;241m.\u001b[39myb): \u001b[38;5;28;01mreturn\u001b[39;00m\n\u001b[0;32m--> 223\u001b[0m \u001b[38;5;28;43mself\u001b[39;49m\u001b[38;5;241;43m.\u001b[39;49m\u001b[43m_do_grad_opt\u001b[49m\u001b[43m(\u001b[49m\u001b[43m)\u001b[49m\n",
      "File \u001b[0;32m~/mambaforge/lib/python3.10/site-packages/fastai/learner.py:212\u001b[0m, in \u001b[0;36mLearner._do_grad_opt\u001b[0;34m(self)\u001b[0m\n\u001b[1;32m    210\u001b[0m \u001b[38;5;28;01mdef\u001b[39;00m \u001b[38;5;21m_do_grad_opt\u001b[39m(\u001b[38;5;28mself\u001b[39m):\n\u001b[1;32m    211\u001b[0m     \u001b[38;5;28mself\u001b[39m\u001b[38;5;241m.\u001b[39m_with_events(\u001b[38;5;28mself\u001b[39m\u001b[38;5;241m.\u001b[39m_backward, \u001b[38;5;124m'\u001b[39m\u001b[38;5;124mbackward\u001b[39m\u001b[38;5;124m'\u001b[39m, CancelBackwardException)\n\u001b[0;32m--> 212\u001b[0m     \u001b[38;5;28;43mself\u001b[39;49m\u001b[38;5;241;43m.\u001b[39;49m\u001b[43m_with_events\u001b[49m\u001b[43m(\u001b[49m\u001b[38;5;28;43mself\u001b[39;49m\u001b[38;5;241;43m.\u001b[39;49m\u001b[43m_step\u001b[49m\u001b[43m,\u001b[49m\u001b[43m \u001b[49m\u001b[38;5;124;43m'\u001b[39;49m\u001b[38;5;124;43mstep\u001b[39;49m\u001b[38;5;124;43m'\u001b[39;49m\u001b[43m,\u001b[49m\u001b[43m \u001b[49m\u001b[43mCancelStepException\u001b[49m\u001b[43m)\u001b[49m\n\u001b[1;32m    213\u001b[0m     \u001b[38;5;28mself\u001b[39m\u001b[38;5;241m.\u001b[39mopt\u001b[38;5;241m.\u001b[39mzero_grad()\n",
      "File \u001b[0;32m~/mambaforge/lib/python3.10/site-packages/fastai/learner.py:199\u001b[0m, in \u001b[0;36mLearner._with_events\u001b[0;34m(self, f, event_type, ex, final)\u001b[0m\n\u001b[1;32m    198\u001b[0m \u001b[38;5;28;01mdef\u001b[39;00m \u001b[38;5;21m_with_events\u001b[39m(\u001b[38;5;28mself\u001b[39m, f, event_type, ex, final\u001b[38;5;241m=\u001b[39mnoop):\n\u001b[0;32m--> 199\u001b[0m     \u001b[38;5;28;01mtry\u001b[39;00m: \u001b[38;5;28mself\u001b[39m(\u001b[38;5;124mf\u001b[39m\u001b[38;5;124m'\u001b[39m\u001b[38;5;124mbefore_\u001b[39m\u001b[38;5;132;01m{\u001b[39;00mevent_type\u001b[38;5;132;01m}\u001b[39;00m\u001b[38;5;124m'\u001b[39m);  \u001b[43mf\u001b[49m\u001b[43m(\u001b[49m\u001b[43m)\u001b[49m\n\u001b[1;32m    200\u001b[0m     \u001b[38;5;28;01mexcept\u001b[39;00m ex: \u001b[38;5;28mself\u001b[39m(\u001b[38;5;124mf\u001b[39m\u001b[38;5;124m'\u001b[39m\u001b[38;5;124mafter_cancel_\u001b[39m\u001b[38;5;132;01m{\u001b[39;00mevent_type\u001b[38;5;132;01m}\u001b[39;00m\u001b[38;5;124m'\u001b[39m)\n\u001b[1;32m    201\u001b[0m     \u001b[38;5;28mself\u001b[39m(\u001b[38;5;124mf\u001b[39m\u001b[38;5;124m'\u001b[39m\u001b[38;5;124mafter_\u001b[39m\u001b[38;5;132;01m{\u001b[39;00mevent_type\u001b[38;5;132;01m}\u001b[39;00m\u001b[38;5;124m'\u001b[39m);  final()\n",
      "File \u001b[0;32m~/mambaforge/lib/python3.10/site-packages/fastai/learner.py:208\u001b[0m, in \u001b[0;36mLearner._step\u001b[0;34m(self)\u001b[0m\n\u001b[0;32m--> 208\u001b[0m \u001b[38;5;28;01mdef\u001b[39;00m \u001b[38;5;21m_step\u001b[39m(\u001b[38;5;28mself\u001b[39m): \u001b[38;5;28;43mself\u001b[39;49m\u001b[38;5;241;43m.\u001b[39;49m\u001b[43mopt\u001b[49m\u001b[38;5;241;43m.\u001b[39;49m\u001b[43mstep\u001b[49m\u001b[43m(\u001b[49m\u001b[43m)\u001b[49m\n",
      "File \u001b[0;32m~/mambaforge/lib/python3.10/site-packages/fastai/optimizer.py:111\u001b[0m, in \u001b[0;36mOptimizer.step\u001b[0;34m(self, closure)\u001b[0m\n\u001b[1;32m    109\u001b[0m \u001b[38;5;28;01mif\u001b[39;00m closure \u001b[38;5;129;01mis\u001b[39;00m \u001b[38;5;129;01mnot\u001b[39;00m \u001b[38;5;28;01mNone\u001b[39;00m: \u001b[38;5;28;01mraise\u001b[39;00m \u001b[38;5;167;01mNotImplementedError\u001b[39;00m(\u001b[38;5;124m\"\u001b[39m\u001b[38;5;124mfastai optimizers currently do not support closure\u001b[39m\u001b[38;5;124m\"\u001b[39m)\n\u001b[1;32m    110\u001b[0m \u001b[38;5;28;01mfor\u001b[39;00m p,pg,state,hyper \u001b[38;5;129;01min\u001b[39;00m \u001b[38;5;28mself\u001b[39m\u001b[38;5;241m.\u001b[39mall_params(with_grad\u001b[38;5;241m=\u001b[39m\u001b[38;5;28;01mTrue\u001b[39;00m):\n\u001b[0;32m--> 111\u001b[0m     \u001b[38;5;28;01mfor\u001b[39;00m cb \u001b[38;5;129;01min\u001b[39;00m \u001b[38;5;28mself\u001b[39m\u001b[38;5;241m.\u001b[39mcbs: state \u001b[38;5;241m=\u001b[39m _update(state, \u001b[43mcb\u001b[49m\u001b[43m(\u001b[49m\u001b[43mp\u001b[49m\u001b[43m,\u001b[49m\u001b[43m \u001b[49m\u001b[38;5;241;43m*\u001b[39;49m\u001b[38;5;241;43m*\u001b[39;49m\u001b[43m{\u001b[49m\u001b[38;5;241;43m*\u001b[39;49m\u001b[38;5;241;43m*\u001b[39;49m\u001b[43mstate\u001b[49m\u001b[43m,\u001b[49m\u001b[43m \u001b[49m\u001b[38;5;241;43m*\u001b[39;49m\u001b[38;5;241;43m*\u001b[39;49m\u001b[43mhyper\u001b[49m\u001b[43m}\u001b[49m\u001b[43m)\u001b[49m)\n\u001b[1;32m    112\u001b[0m     \u001b[38;5;28mself\u001b[39m\u001b[38;5;241m.\u001b[39mstate[p] \u001b[38;5;241m=\u001b[39m state\n",
      "File \u001b[0;32m~/mambaforge/lib/python3.10/site-packages/fastai/optimizer.py:224\u001b[0m, in \u001b[0;36madam_step\u001b[0;34m(p, lr, mom, step, sqr_mom, grad_avg, sqr_avg, eps, **kwargs)\u001b[0m\n\u001b[1;32m    222\u001b[0m debias1 \u001b[38;5;241m=\u001b[39m debias(mom,     \u001b[38;5;241m1\u001b[39m\u001b[38;5;241m-\u001b[39mmom,     step)\n\u001b[1;32m    223\u001b[0m debias2 \u001b[38;5;241m=\u001b[39m debias(sqr_mom, \u001b[38;5;241m1\u001b[39m\u001b[38;5;241m-\u001b[39msqr_mom, step)\n\u001b[0;32m--> 224\u001b[0m p\u001b[38;5;241m.\u001b[39mdata\u001b[38;5;241m.\u001b[39maddcdiv_(grad_avg, \u001b[43m(\u001b[49m\u001b[43msqr_avg\u001b[49m\u001b[38;5;241;43m/\u001b[39;49m\u001b[43mdebias2\u001b[49m\u001b[43m)\u001b[49m\u001b[38;5;241;43m.\u001b[39;49m\u001b[43msqrt\u001b[49m\u001b[43m(\u001b[49m\u001b[43m)\u001b[49m \u001b[38;5;241m+\u001b[39m eps, value \u001b[38;5;241m=\u001b[39m \u001b[38;5;241m-\u001b[39mlr \u001b[38;5;241m/\u001b[39m debias1)\n\u001b[1;32m    225\u001b[0m \u001b[38;5;28;01mreturn\u001b[39;00m p\n",
      "\u001b[0;31mKeyboardInterrupt\u001b[0m: "
     ]
    }
   ],
   "source": [
    "dls = ImageDataLoaders.from_folder(path, train='training', valid='testing')\n",
    "learn = cnn_learner(dls, resnet18, pretrained=False, loss_func=F.cross_entropy, metrics=accuracy)\n",
    "learn.fit_one_cycle(1, 0.1)"
   ]
  },
  {
   "cell_type": "code",
   "execution_count": null,
   "id": "398746c8",
   "metadata": {},
   "outputs": [],
   "source": []
  }
 ],
 "metadata": {
  "kernelspec": {
   "display_name": "Python 3 (ipykernel)",
   "language": "python",
   "name": "python3"
  },
  "language_info": {
   "codemirror_mode": {
    "name": "ipython",
    "version": 3
   },
   "file_extension": ".py",
   "mimetype": "text/x-python",
   "name": "python",
   "nbconvert_exporter": "python",
   "pygments_lexer": "ipython3",
   "version": "3.10.9"
  }
 },
 "nbformat": 4,
 "nbformat_minor": 5
}
